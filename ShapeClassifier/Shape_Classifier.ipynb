{
 "cells": [
  {
   "cell_type": "markdown",
   "id": "f28031a1",
   "metadata": {},
   "source": [
    "# Shape Classifier: Circles, Squares, and Triangles\n",
    "\n",
    "A Jupyter Notebook to demonstrate the training and evaluation of a CNN model to classify synthetic images of geometric shapes.\n",
    "\n",
    "**Project Structure Note:** In adherence to the project requirement for `clean, modular, and well-organized code,` complex helper functions for data generation and visualization are encapsulated in the `ShapeClassifier/utils/` directory. This keeps the main notebook focused on the core machine learning workflow: configuration, data loading, model definition, training, and evaluation."
   ]
  },
  {
   "cell_type": "markdown",
   "id": "88344dde",
   "metadata": {},
   "source": [
    "## 1. Setup & Configuration\n",
    "\n",
    "This section handles all the initial setup for the project:\n",
    "*   Importing essential libraries.\n",
    "*   Defining constants, hyperparameters, and file paths.\n",
    "*   Setting up reproducibility seeds."
   ]
  },
  {
   "cell_type": "markdown",
   "id": "c17010b2",
   "metadata": {},
   "source": [
    "### 1.1. Path Configuration\n",
    "\n",
    "First, we set up the system path to ensure our utility scripts in the `ShapeClassifier/utils/` directory can be imported reliably. We also define the core paths for our project artifacts."
   ]
  },
  {
   "cell_type": "code",
   "execution_count": 85,
   "id": "e8a1ea52",
   "metadata": {},
   "outputs": [
    {
     "name": "stdout",
     "output_type": "stream",
     "text": [
      "Project Root: c:\\Users\\gilda\\OneDrive\\Documents\\My_Projects\\AI_Based_Projects\\shape-classifier-interview\\shape-classifier-pytorch\n",
      "Dataset Directory: c:\\Users\\gilda\\OneDrive\\Documents\\My_Projects\\AI_Based_Projects\\shape-classifier-interview\\shape-classifier-pytorch\\..\\shape-classifier-artifacts\\shape-classifier-datasets\\ShapeClassifier\n"
     ]
    }
   ],
   "source": [
    "import os\n",
    "import sys\n",
    "\n",
    "# We assume this notebook is run from its location in the 'ShapeClassifier' directory.\n",
    "# The project root is one level up.\n",
    "PROJECT_ROOT = os.path.abspath(os.path.join(os.getcwd(), '..'))\n",
    "\n",
    "if PROJECT_ROOT not in sys.path:\n",
    "    sys.path.append(PROJECT_ROOT)\n",
    "    print(f\"Added '{PROJECT_ROOT}' to system path.\")\n",
    "\n",
    "# Define core paths relative to the project root for robustness.\n",
    "ARTIFACTS_DIR = os.path.join(PROJECT_ROOT, '..', 'shape-classifier-artifacts')\n",
    "DATASET_DIR = os.path.join(ARTIFACTS_DIR, 'shape-classifier-datasets', 'ShapeClassifier')\n",
    "MODEL_CHECKPOINT_DIR = os.path.join(ARTIFACTS_DIR, 'shape-classifier-models', 'ShapeClassifier')\n",
    "\n",
    "print(f\"Project Root: {PROJECT_ROOT}\")\n",
    "print(f\"Dataset Directory: {DATASET_DIR}\")"
   ]
  },
  {
   "cell_type": "markdown",
   "id": "674cc40b",
   "metadata": {},
   "source": [
    "### 1.2. Library Imports\n",
    "\n",
    "Next, we import all the necessary libraries for the project."
   ]
  },
  {
   "cell_type": "code",
   "execution_count": 86,
   "id": "2a0ff414",
   "metadata": {},
   "outputs": [
    {
     "name": "stdout",
     "output_type": "stream",
     "text": [
      "Libraries imported successfully.\n"
     ]
    }
   ],
   "source": [
    "import hashlib\n",
    "import json\n",
    "import math\n",
    "import random\n",
    "import numpy as np\n",
    "import torch\n",
    "import torch.nn as nn\n",
    "from torch.utils.data import Dataset, DataLoader\n",
    "import torchvision\n",
    "from torchvision import transforms\n",
    "from PIL import Image\n",
    "import matplotlib.pyplot as plt\n",
    "from sklearn.metrics import confusion_matrix\n",
    "import seaborn as sns\n",
    "from tqdm.notebook import tqdm\n",
    "\n",
    "print(\"Libraries imported successfully.\")"
   ]
  },
  {
   "cell_type": "markdown",
   "id": "f4c377a5",
   "metadata": {},
   "source": [
    "### 1.3. Constants and Seeding\n",
    "\n",
    "We define key constants for our project and a function to set seeds for reproducibility. The seeding function is called in a separate cell to prevent it from being re-run unnecessarily when constants are changed."
   ]
  },
  {
   "cell_type": "code",
   "execution_count": 87,
   "id": "e4522ceb",
   "metadata": {},
   "outputs": [
    {
     "name": "stdout",
     "output_type": "stream",
     "text": [
      "Device set to: CUDA\n"
     ]
    }
   ],
   "source": [
    "# --- Constants ---\n",
    "DEVICE = \"cuda\" if torch.cuda.is_available() else \"cpu\"\n",
    "CLASSES = ['circle', 'square', 'triangle']\n",
    "NUM_CLASSES = len(CLASSES)\n",
    "MODEL_CHECKPOINT_PATH = os.path.join(MODEL_CHECKPOINT_DIR, 'best_model_checkpoint.pth')\n",
    "\n",
    "\n",
    "# --- Seeding Function ---\n",
    "def set_seed(seed=42):\n",
    "    \"\"\"Sets the seed for random, numpy, and torch for reproducible results.\"\"\"\n",
    "    random.seed(seed)\n",
    "    np.random.seed(seed)\n",
    "    torch.manual_seed(seed)\n",
    "    if torch.cuda.is_available():\n",
    "        torch.cuda.manual_seed(seed)\n",
    "        torch.cuda.manual_seed_all(seed)\n",
    "        torch.backends.cudnn.deterministic = True\n",
    "        torch.backends.cudnn.benchmark = False\n",
    "    print(f\"Seed set to {seed}\")\n",
    "\n",
    "print(f\"Device set to: {DEVICE.upper()}\")"
   ]
  },
  {
   "cell_type": "markdown",
   "id": "370723aa",
   "metadata": {},
   "source": [
    "### 1.4. Initial Setup Execution\n",
    "\n",
    "Here we execute one-time setup commands: we set the global seed and ensure the directory for saving our model checkpoints exists."
   ]
  },
  {
   "cell_type": "code",
   "execution_count": 88,
   "id": "10a3130d",
   "metadata": {},
   "outputs": [
    {
     "name": "stdout",
     "output_type": "stream",
     "text": [
      "Seed set to 42\n",
      "Initial setup executed.\n"
     ]
    }
   ],
   "source": [
    "# Set the seed for the entire notebook session.\n",
    "set_seed(42)\n",
    "\n",
    "# Ensure the directory for saving model checkpoints exists.\n",
    "os.makedirs(MODEL_CHECKPOINT_DIR, exist_ok=True)\n",
    "print(\"Initial setup executed.\")"
   ]
  },
  {
   "cell_type": "markdown",
   "id": "f3cb0336",
   "metadata": {},
   "source": [
    "## 2. Data Generation & Loading\n",
    "\n",
    "This section covers preparing the data for the model. It includes:\n",
    "*   An optional step to regenerate the entire dataset from scratch.\n",
    "*   Defining a custom PyTorch `Dataset` class to load the images.\n",
    "*   Applying necessary transformations.\n",
    "*   Creating `DataLoader`s to feed data to the model in batches."
   ]
  },
  {
   "cell_type": "markdown",
   "id": "dd19a0c3",
   "metadata": {},
   "source": [
    "### 2.1. Optional: Generate Dataset from Scratch\n",
    "\n",
    "This project is configured to use the pre-generated (or downloaded) dataset located in the `shape-classifier-artifacts` directory.\n",
    "\n",
    "However, if you wish to regenerate the entire dataset from scratch, you can set the `REGENERATE_DATA` flag in the cell below to `True`.\n",
    "\n",
    "**>>> Warning:** This process will delete all existing data in the target directory and will take several minutes to complete."
   ]
  },
  {
   "cell_type": "code",
   "execution_count": null,
   "id": "a9974de6",
   "metadata": {},
   "outputs": [
    {
     "name": "stdout",
     "output_type": "stream",
     "text": [
      "--- Starting Dataset Generation ---\n",
      "Clearing existing directory: c:\\Users\\gilda\\OneDrive\\Documents\\My_Projects\\AI_Based_Projects\\shape-classifier-interview\\shape-classifier-pytorch\\..\\shape-classifier-artifacts\\shape-classifier-datasets\\ShapeClassifier\n",
      "Creating new directory structure...\n",
      "------------------------------\n",
      "Ensuring all split counts are divisible by 12 (shapes * conditions).\n",
      "--- Adjusted Dataset Split ---\n",
      "  - Train: 4200 images\n",
      "  - Validation: 900 images\n",
      "  - Test: 900 images\n",
      "Total images to be generated: 6000\n",
      "------------------------------\n",
      "Generating 1400 images for train/circle...\n",
      "Generating 1400 images for train/square...\n",
      "Generating 1400 images for train/triangle...\n",
      "Generating 300 images for validation/circle...\n",
      "Generating 300 images for validation/square...\n",
      "Generating 300 images for validation/triangle...\n",
      "Generating 300 images for test/circle...\n",
      "Generating 300 images for test/square...\n",
      "Generating 300 images for test/triangle...\n",
      "--- Dataset Generation Complete ---\n",
      "Total images created: 6000\n",
      "\n",
      "Dataset found at: c:\\Users\\gilda\\OneDrive\\Documents\\My_Projects\\AI_Based_Projects\\shape-classifier-interview\\shape-classifier-pytorch\\..\\shape-classifier-artifacts\\shape-classifier-datasets\\ShapeClassifier\n"
     ]
    }
   ],
   "source": [
    "from ShapeClassifier.utils.data_generator import generate_dataset\n",
    "\n",
    "# --- Configuration for Data Generation ---\n",
    "REGENERATE_DATA = False # Set to True to run the data generation process.\n",
    "\n",
    "# These parameters are used ONLY if REGENERATE_DATA is True.\n",
    "TOTAL_IMAGES_TO_GENERATE = 6000\n",
    "SPLIT_RATIOS = {'train': 0.7, 'validation': 0.15, 'test': 0.15}\n",
    "\n",
    "\n",
    "if REGENERATE_DATA:\n",
    "    # We call our imported function using the path constants defined in Section 1.\n",
    "    generate_dataset(\n",
    "        root_dir=DATASET_DIR,\n",
    "        total_images=TOTAL_IMAGES_TO_GENERATE,\n",
    "        # root_dir=os.path.join(DATASET_DIR, \"Delete\"),\n",
    "        # total_images=100,\n",
    "        splits=SPLIT_RATIOS,\n",
    "        shapes=CLASSES # Using the 'CLASSES' constant from Section 1\n",
    "    )\n",
    "else:\n",
    "    print(\"Skipping data generation. Using existing dataset.\")\n",
    "\n",
    "# Verify that the dataset directory exists.\n",
    "if not os.path.exists(DATASET_DIR):\n",
    "    print(\"\\nERROR: Dataset directory not found!\")\n",
    "    print(f\"Please run the project's download script or set REGENERATE_DATA to True.\")\n",
    "else:\n",
    "    print(f\"\\nDataset found at: {DATASET_DIR}\")"
   ]
  },
  {
   "cell_type": "markdown",
   "id": "b632f874",
   "metadata": {},
   "source": [
    "### 2.2. PyTorch Dataset Class\n",
    "\n",
    "To load our data into PyTorch, we need to create a custom `Dataset` class. This class acts as a standardized interface and is responsible for two key things:\n",
    "1.  `__len__`: Telling PyTorch the total number of images in the dataset.\n",
    "2.  `__getitem__`: Providing the i-th item from the dataset, which consists of an image and its corresponding label, ready for the model.\n",
    "\n",
    "Our `ShapeDataset` class will scan a given directory (e.g., `train`, `validation`, or `test`), find all image paths, and infer the correct label from the subdirectory name (e.g., 'circle', 'square')."
   ]
  },
  {
   "cell_type": "code",
   "execution_count": 90,
   "id": "fb3b5ed9",
   "metadata": {},
   "outputs": [
    {
     "name": "stdout",
     "output_type": "stream",
     "text": [
      "ShapeDataset class defined.\n"
     ]
    }
   ],
   "source": [
    "class ShapeDataset(Dataset):\n",
    "    \"\"\"Custom Dataset for loading shape images.\"\"\"\n",
    "\n",
    "    def __init__(self, data_dir, transform=None):\n",
    "        \"\"\"\n",
    "        Args:\n",
    "            data_dir (string): Directory with all the images, organized in subfolders by class.\n",
    "            transform (callable, optional): Optional transform to be applied on a sample.\n",
    "        \"\"\"\n",
    "        self.data_dir = data_dir\n",
    "        self.transform = transform\n",
    "        self.classes = sorted(os.listdir(data_dir))\n",
    "        self.class_to_idx = {cls_name: i for i, cls_name in enumerate(self.classes)}\n",
    "        \n",
    "        self.image_paths = []\n",
    "        self.labels = []\n",
    "\n",
    "        # Walk through the directory to gather image paths and labels\n",
    "        for cls_name in self.classes:\n",
    "            class_dir = os.path.join(data_dir, cls_name)\n",
    "            for img_name in os.listdir(class_dir):\n",
    "                self.image_paths.append(os.path.join(class_dir, img_name))\n",
    "                self.labels.append(self.class_to_idx[cls_name])\n",
    "\n",
    "    def __len__(self):\n",
    "        return len(self.image_paths)\n",
    "\n",
    "    def __getitem__(self, idx):\n",
    "        # Load the image\n",
    "        img_path = self.image_paths[idx]\n",
    "        # Using .convert('L') ensures the image is loaded as single-channel grayscale\n",
    "        image = Image.open(img_path).convert('L')\n",
    "        \n",
    "        # Get the label\n",
    "        label = self.labels[idx]\n",
    "\n",
    "        # Apply transformations if they exist\n",
    "        if self.transform:\n",
    "            image = self.transform(image)\n",
    "            \n",
    "        return image, label\n",
    "\n",
    "print(\"ShapeDataset class defined.\")"
   ]
  },
  {
   "cell_type": "markdown",
   "id": "446bccd3",
   "metadata": {},
   "source": [
    "### 2.3. Calculating Normalization Statistics for Z-Score Standardization\n",
    "\n",
    "A crucial step in preparing image data for a neural network is **normalization**. Normalization rescales the pixel values to a standard range, which helps the model's optimizer converge faster and more reliably. Without it, the large range of pixel values (0-255) can lead to unstable gradients during training.\n",
    "\n",
    "While a simple approach is to scale values to a fixed range like `[-1, 1]`, a more robust and widely-used technique is **Z-score standardization**. This method transforms the data so that it has a **mean of 0 and a standard deviation of 1**.\n",
    "\n",
    "The formula for each pixel is:\n",
    "$$ z = \\frac{x - \\mu}{\\sigma} $$\n",
    "where:\n",
    "- $x$ is the original pixel value\n",
    "- $\\mu$ (mu) is the mean of all pixel values in the dataset\n",
    "- $\\sigma$ (sigma) is the standard deviation of all pixel values\n",
    "\n",
    "To implement this, we must first calculate the true $\\mu$ and $\\sigma$ from our data.\n",
    "\n",
    "**>>> Important:** We only ever calculate these statistics on the **training set**. The validation and test sets must remain \"unseen.\" Using statistics from them would be a form of data leakage, giving our model an unfair preview of the data it will be evaluated on.\n",
    "\n",
    "In the next cell, we create a temporary dataset with a simple `ToTensor()` transform to iterate through all training images and compute these two values."
   ]
  },
  {
   "cell_type": "code",
   "execution_count": 92,
   "id": "efa00eb5",
   "metadata": {},
   "outputs": [
    {
     "name": "stdout",
     "output_type": "stream",
     "text": [
      "--- Checking dataset for normalization stats ---\n",
      "Dataset fingerprint matches cache. \n",
      "Loading normalization stats.\n",
      "\n",
      "Using Mean: 0.50911647\n",
      "Using Std: 0.24480122\n",
      "\n",
      "Temporary objects for calculation have been cleaned up.\n"
     ]
    }
   ],
   "source": [
    "# Define the path for our cache file within a temp directory\n",
    "TEMP_DIR = os.path.join(PROJECT_ROOT, 'ShapeClassifier', 'temp')\n",
    "os.makedirs(TEMP_DIR, exist_ok=True)\n",
    "STATS_CACHE_PATH = os.path.join(TEMP_DIR, 'dataset_stats.json')\n",
    "\n",
    "def get_dataset_fingerprint(data_dir):\n",
    "    \"\"\"\n",
    "    Creates a unique fingerprint of a dataset based on its file metadata.\n",
    "    This is much faster than hashing the file contents.\n",
    "    \"\"\"\n",
    "    file_count = 0\n",
    "    total_size = 0\n",
    "    # Use a high-precision sum for modification times\n",
    "    total_mtime = 0.0\n",
    "\n",
    "    for root, _, files in os.walk(data_dir):\n",
    "        for name in files:\n",
    "            file_count += 1\n",
    "            file_path = os.path.join(root, name)\n",
    "            total_size += os.path.getsize(file_path)\n",
    "            total_mtime += os.path.getmtime(file_path)\n",
    "            \n",
    "    # Create a simple but effective string representation of the dataset's state\n",
    "    fingerprint_str = f\"count:{file_count}-size:{total_size}-mtime:{total_mtime}\"\n",
    "    return hashlib.sha256(fingerprint_str.encode('utf-8')).hexdigest()\n",
    "\n",
    "def calculate_or_load_stats(data_dir, cache_path):\n",
    "    \"\"\"Loads stats from cache if the dataset fingerprint matches, otherwise computes and saves them.\"\"\"\n",
    "    print(\"--- Checking dataset for normalization stats ---\")\n",
    "    current_fingerprint = get_dataset_fingerprint(data_dir)\n",
    "    \n",
    "    # Try to load from cache\n",
    "    if os.path.exists(cache_path):\n",
    "        with open(cache_path, 'r') as f:\n",
    "            cached_data = json.load(f)\n",
    "        if cached_data.get('fingerprint') == current_fingerprint:\n",
    "            print(\"Dataset fingerprint matches cache. \\nLoading normalization stats.\")\n",
    "            mean = torch.tensor(cached_data['mean'])\n",
    "            std = torch.tensor(cached_data['std'])\n",
    "            return mean, std\n",
    "\n",
    "    print(\"Cache not found or dataset has changed. \\nRe-calculating normalization stats...\")\n",
    "    \n",
    "    # --- The calculation logic ---\n",
    "\n",
    "    # Create a temporary dataset of the training data just for calculating the mean and std\n",
    "    # We only need to convert images to tensors for this calculation.\n",
    "    temp_dataset = ShapeDataset(data_dir, transform=transforms.ToTensor())\n",
    "\n",
    "    # Use a DataLoader to iterate through the dataset efficiently.\n",
    "    # Note: `num_workers` is not set. In a Jupyter/IPython environment, especially on\n",
    "    # Windows, using multiple workers for data loading can lead to multiprocessing\n",
    "    # deadlocks. By leaving it at its default (0), data loading occurs in the\n",
    "    # main process, ensuring compatibility.\n",
    "    temp_loader = DataLoader(temp_dataset, batch_size=64, shuffle=False)\n",
    "\n",
    "    # Calculate mean and std\n",
    "    mean = 0.\n",
    "    std = 0.\n",
    "    num_samples = 0\n",
    "\n",
    "    print(\"Calculating mean and standard deviation from the training set...\")\n",
    "    # Wrap the loader with tqdm for a progress bar\n",
    "    for images, _ in tqdm(temp_loader, desc=\"Calculating Stats\"):\n",
    "        # Reshape images to (batch_size, num_pixels) and count samples\n",
    "        batch_samples = images.size(0)\n",
    "        images = images.view(batch_samples, images.size(1), -1)\n",
    "        # Update mean and std\n",
    "        mean += images.mean(2).sum(0)\n",
    "        std += images.std(2).sum(0)\n",
    "        num_samples += batch_samples\n",
    "\n",
    "    mean /= num_samples\n",
    "    std /= num_samples\n",
    "\n",
    "    # --- Save the new stats to the cache with the new fingerprint ---\n",
    "    new_cache_data = {'mean': mean.tolist(), 'std': std.tolist(), 'fingerprint': current_fingerprint}\n",
    "    with open(cache_path, 'w') as f:\n",
    "        json.dump(new_cache_data, f, indent=4)\n",
    "    print(\"New stats calculated and saved to cache.\")\n",
    "    \n",
    "    del temp_loader, temp_dataset # Clean up\n",
    "    print(\"Temporary objects for calculation have been cleaned up.\")\n",
    "    return mean, std\n",
    "\n",
    "# --- Execute the function ---\n",
    "train_dir = os.path.join(DATASET_DIR, 'train')\n",
    "mean, std = calculate_or_load_stats(train_dir, STATS_CACHE_PATH)\n",
    "\n",
    "print(f\"\\nUsing Mean: {mean.item():.8f}\")\n",
    "print(f\"Using Std: {std.item():.8f}\")\n",
    "\n",
    "del TEMP_DIR, STATS_CACHE_PATH, train_dir\n",
    "print(\"\\nTemporary objects for calculation have been cleaned up.\")"
   ]
  },
  {
   "cell_type": "markdown",
   "id": "e399eba8",
   "metadata": {},
   "source": [
    "### 2.4. Defining the Final Image Transformation Pipelines\n",
    "\n",
    "Now that we have the exact mean and standard deviation of our training data, we can build our final transformation pipelines. We use `torchvision.transforms.Compose` to chain together multiple operations.\n",
    "\n",
    "Our pipeline will consist of two steps:\n",
    "1.  `transforms.ToTensor()`: This is a critical first step. It converts the PIL Image, which is a grid of pixels with values from `[0, 255]`, into a PyTorch FloatTensor. It also automatically scales the pixel values to a range of `[0.0, 1.0]`.\n",
    "2.  `transforms.Normalize(mean, std)`: This takes the `[0.0, 1.0]` tensor from the previous step and applies the Z-score formula ($z = (x - \\mu) / \\sigma$), using the `mean` and `std` we just calculated.\n",
    "\n",
    "We create two separate pipelines. Although they are identical in this case, it is good practice to distinguish between them. In more complex projects, the training pipeline might include additional data augmentation steps (like random rotations or flips) that should not be applied to the validation or test data."
   ]
  },
  {
   "cell_type": "code",
   "execution_count": 8,
   "id": "114369cd",
   "metadata": {},
   "outputs": [
    {
     "name": "stdout",
     "output_type": "stream",
     "text": [
      "Data transformations defined with calculated mean and std.\n"
     ]
    }
   ],
   "source": [
    "# Define the final transformations for our datasets using the calculated stats.\n",
    "data_transforms = {\n",
    "    'train': transforms.Compose([\n",
    "        transforms.ToTensor(),\n",
    "        transforms.Normalize(mean, std)\n",
    "    ]),\n",
    "    'val_test': transforms.Compose([\n",
    "        transforms.ToTensor(),\n",
    "        transforms.Normalize(mean, std)\n",
    "    ]),\n",
    "}\n",
    "\n",
    "print(\"Data transformations defined with calculated mean and std.\")"
   ]
  },
  {
   "cell_type": "markdown",
   "id": "5b502489",
   "metadata": {},
   "source": [
    "### 2.5. Create Final Datasets and DataLoaders\n",
    "\n",
    "With our `ShapeDataset` class defined and our `data_transforms` ready, we can now create the final dataset instances for our training, validation, and test splits.\n",
    "\n",
    "These `Dataset` objects are then wrapped by a `DataLoader`. The `DataLoader` is a powerful PyTorch utility that handles:\n",
    "-   **Batching:** Grouping individual data points into mini-batches of a specified size.\n",
    "-   **Shuffling:** Randomly shuffling the training data at the beginning of each epoch to prevent the model from learning the order of the data.\n",
    "-   **Parallel Loading:** (Which we have disabled for notebook compatibility) Loading data in the background."
   ]
  },
  {
   "cell_type": "code",
   "execution_count": 9,
   "id": "ff35ae37",
   "metadata": {},
   "outputs": [
    {
     "name": "stdout",
     "output_type": "stream",
     "text": [
      "Dataset sizes: {'train': 4200, 'validation': 900, 'test': 900}\n",
      "Class names: ['circle', 'square', 'triangle']\n"
     ]
    }
   ],
   "source": [
    "# --- Hyperparameters for DataLoaders ---\n",
    "# We define BATCH_SIZE here to keep all hyperparameters in one place,\n",
    "# but it's used in this section.\n",
    "BATCH_SIZE = 32\n",
    "\n",
    "# Create Dataset instances for each split, applying the correct transforms\n",
    "image_datasets = {\n",
    "    'train': ShapeDataset(os.path.join(DATASET_DIR, 'train'), transform=data_transforms['train']),\n",
    "    'validation': ShapeDataset(os.path.join(DATASET_DIR, 'validation'), transform=data_transforms['val_test']),\n",
    "    'test': ShapeDataset(os.path.join(DATASET_DIR, 'test'), transform=data_transforms['val_test'])\n",
    "}\n",
    "\n",
    "# Create DataLoader instances for each split\n",
    "dataloaders = {\n",
    "    'train': DataLoader(image_datasets['train'], batch_size=BATCH_SIZE, shuffle=True),\n",
    "    'validation': DataLoader(image_datasets['validation'], batch_size=BATCH_SIZE, shuffle=False),\n",
    "    'test': DataLoader(image_datasets['test'], batch_size=BATCH_SIZE, shuffle=False)\n",
    "}\n",
    "\n",
    "# Store dataset sizes for later use\n",
    "dataset_sizes = {x: len(image_datasets[x]) for x in ['train', 'validation', 'test']}\n",
    "class_names = image_datasets['train'].classes\n",
    "\n",
    "print(f\"Dataset sizes: {dataset_sizes}\")\n",
    "print(f\"Class names: {class_names}\")"
   ]
  },
  {
   "cell_type": "markdown",
   "id": "177318d2",
   "metadata": {},
   "source": [
    "### 2.6. Visualize a Batch of Training Data\n",
    "\n",
    "As a final sanity check, let's visualize a few images from a single training batch. This helps us confirm that:\n",
    "-   The images are being loaded correctly.\n",
    "-   The labels are accurate.\n",
    "-   The normalization has been applied (note that the colors may look unusual because the pixel values have been shifted and scaled)."
   ]
  },
  {
   "cell_type": "code",
   "execution_count": 53,
   "id": "1c24b414",
   "metadata": {},
   "outputs": [
    {
     "data": {
      "image/png": "[encoded data removed]",
      "text/plain": [
       "<Figure size 1600x800 with 8 Axes>"
      ]
     },
     "metadata": {},
     "output_type": "display_data"
    },
    {
     "name": "stdout",
     "output_type": "stream",
     "text": [
      "Visualization variables cleared.\n"
     ]
    }
   ],
   "source": [
    "def visualize_batch(dataloader, class_names, mean, std, num_images_to_show=8, cols=4):\n",
    "    \"\"\"\n",
    "    Visualizes a batch of images from a dataloader with a flexible grid.\n",
    "    \n",
    "    Args:\n",
    "        dataloader (DataLoader): The dataloader for the training set.\n",
    "        class_names (list): A list of strings for class names.\n",
    "        mean (torch.Tensor): The mean used for normalization.\n",
    "        std (torch.Tensor): The standard deviation used for normalization.\n",
    "        num_images_to_show (int): The total number of images to display.\n",
    "        cols (int): The number of columns in the display grid.\n",
    "    \"\"\"\n",
    "    \n",
    "    # Get one batch of training data\n",
    "    inputs, classes_idx = next(iter(dataloader))\n",
    "    \n",
    "    # Move inputs to CPU for processing with numpy/matplotlib\n",
    "    inputs = inputs.cpu()\n",
    "    \n",
    "    # --- 1. DYNAMIC GRID CALCULATION ---\n",
    "    # Ensure we don't try to show more images than are in the batch\n",
    "    num_images_to_show = min(num_images_to_show, len(inputs))\n",
    "    \n",
    "    # Calculate the number of rows needed\n",
    "    rows = math.ceil(num_images_to_show / cols)\n",
    "    \n",
    "    # Define figure size dynamically\n",
    "    figsize = (cols * 4, rows * 4)\n",
    "    fig, axes = plt.subplots(rows, cols, figsize=figsize)\n",
    "    fig.suptitle(\"Sample Batch from Training Set\", fontsize=24)\n",
    "\n",
    "    # Flatten axes array for easy iteration, regardless of grid shape\n",
    "    axes = axes.flatten()\n",
    "\n",
    "    # De-normalize and plot each image\n",
    "    for i in range(num_images_to_show):\n",
    "        ax = axes[i]\n",
    "        \n",
    "        inp = inputs[i].numpy().transpose((1, 2, 0))\n",
    "        mean_np = np.array([mean.item()])\n",
    "        std_np = np.array([std.item()])\n",
    "        inp = std_np * inp + mean_np\n",
    "        inp = np.clip(inp, 0, 1)\n",
    "        \n",
    "        ax.imshow(inp, cmap='gray')\n",
    "        ax.set_title(class_names[classes_idx[i]], fontsize=24)\n",
    "        ax.axis('off') # Hide axes ticks\n",
    "\n",
    "    # If there are any empty subplots left, turn them off\n",
    "    for i in range(num_images_to_show, len(axes)):\n",
    "        axes[i].axis('off')\n",
    "\n",
    "    # --- 2. FIX SPACING ISSUE ---\n",
    "    # Use fig.tight_layout() with a rect parameter to make space for the suptitle.\n",
    "    # rect=[left, bottom, right, top] in normalized figure coordinates.\n",
    "    # The 'top=0.95' leaves 5% of the figure height for the suptitle.\n",
    "    fig.tight_layout(rect=[0, 0, 1, 0.95])\n",
    "    \n",
    "    plt.show()\n",
    "    \n",
    "    # --- Clean up to free memory ---\n",
    "    del inputs\n",
    "    del classes_idx\n",
    "    print(\"Visualization variables cleared.\")\n",
    "\n",
    "visualize_batch(dataloaders['train'], class_names, mean, std, num_images_to_show=8, cols=4)"
   ]
  },
  {
   "cell_type": "markdown",
   "id": "545b9db0",
   "metadata": {},
   "source": [
    "## 3. Model Architecture\n",
    "\n",
    "Here, we define the architecture of our neural network. For this image classification task, a **Convolutional Neural Network (CNN)** is the ideal choice.\n",
    "\n",
    "### Why a CNN?\n",
    "\n",
    "CNNs are the industry standard for computer vision tasks for several key reasons:\n",
    "\n",
    "1.  **Spatial Hierarchy of Features:** Unlike a simple fully-connected network that treats an image as a flat vector of pixels, a CNN processes it as a 2D grid. Its core components, convolutional layers, are designed to learn a hierarchy of features.\n",
    "    -   **Early layers** automatically learn to detect simple patterns like edges, corners, and gradients.\n",
    "    -   **Deeper layers** combine these simple patterns to recognize more complex features, such as the curve of a circle or the right-angle corners of a square.\n",
    "\n",
    "2.  **Parameter Sharing:** A single convolutional filter (e.g., an edge detector) is slid across the entire image. This means the model learns one set of weights for that filter and re-uses it everywhere. This is incredibly efficient compared to a fully-connected layer, which would need a separate weight for every single pixel, leading to an explosion in parameters.\n",
    "\n",
    "3.  **Translation Invariance:** Because the same filter is applied across the whole image, a CNN can detect a feature (like a triangle corner) regardless of where it appears in the image. This is a direct result of parameter sharing and is crucial for our task, as our shapes are randomly placed.\n",
    "\n",
    "For this problem, a relatively simple CNN with a few convolutional layers followed by a classifier head is sufficient. It is powerful enough to learn the distinguishing features of our shapes without being so complex that it overfits our synthetic dataset. We do not need a large, pre-trained model like ResNet or a Vision Transformer, as that would be overkill for this task."
   ]
  },
  {
   "cell_type": "code",
   "execution_count": 11,
   "id": "3fce029d",
   "metadata": {},
   "outputs": [
    {
     "name": "stdout",
     "output_type": "stream",
     "text": [
      "SimpleCNN(\n",
      "  (features): Sequential(\n",
      "    (0): Conv2d(1, 16, kernel_size=(3, 3), stride=(1, 1), padding=(1, 1))\n",
      "    (1): ReLU()\n",
      "    (2): MaxPool2d(kernel_size=2, stride=2, padding=0, dilation=1, ceil_mode=False)\n",
      "    (3): Conv2d(16, 32, kernel_size=(3, 3), stride=(1, 1), padding=(1, 1))\n",
      "    (4): ReLU()\n",
      "    (5): MaxPool2d(kernel_size=2, stride=2, padding=0, dilation=1, ceil_mode=False)\n",
      "    (6): Conv2d(32, 64, kernel_size=(3, 3), stride=(1, 1), padding=(1, 1))\n",
      "    (7): ReLU()\n",
      "    (8): MaxPool2d(kernel_size=2, stride=2, padding=0, dilation=1, ceil_mode=False)\n",
      "  )\n",
      "  (classifier): Sequential(\n",
      "    (0): Linear(in_features=4096, out_features=512, bias=True)\n",
      "    (1): ReLU()\n",
      "    (2): Dropout(p=0.5, inplace=False)\n",
      "    (3): Linear(in_features=512, out_features=3, bias=True)\n",
      "  )\n",
      ")\n",
      "\n",
      "--- Model Test ---\n",
      "Input batch shape: torch.Size([32, 1, 64, 64])\n",
      "Output batch shape: torch.Size([32, 3])\n",
      "Model test passed. Output shape is correct.\n"
     ]
    }
   ],
   "source": [
    "class SimpleCNN(nn.Module):\n",
    "    def __init__(self, num_classes):\n",
    "        super(SimpleCNN, self).__init__()\n",
    "        \n",
    "        # --- Convolutional Layers ---\n",
    "        # Our input is a 64x64 grayscale image (1 channel).\n",
    "        self.features = nn.Sequential(\n",
    "            # Layer 1\n",
    "            # Input: 1 x 64 x 64\n",
    "            # Output: 16 x 32 x 32\n",
    "            nn.Conv2d(in_channels=1, out_channels=16, kernel_size=3, stride=1, padding=1),\n",
    "            nn.ReLU(),\n",
    "            nn.MaxPool2d(kernel_size=2, stride=2),\n",
    "            \n",
    "            # Layer 2\n",
    "            # Input: 16 x 32 x 32\n",
    "            # Output: 32 x 16 x 16\n",
    "            nn.Conv2d(in_channels=16, out_channels=32, kernel_size=3, stride=1, padding=1),\n",
    "            nn.ReLU(),\n",
    "            nn.MaxPool2d(kernel_size=2, stride=2),\n",
    "            \n",
    "            # Layer 3\n",
    "            # Input: 32 x 16 x 16\n",
    "            # Output: 64 x 8 x 8\n",
    "            nn.Conv2d(in_channels=32, out_channels=64, kernel_size=3, stride=1, padding=1),\n",
    "            nn.ReLU(),\n",
    "            nn.MaxPool2d(kernel_size=2, stride=2),\n",
    "        )\n",
    "        \n",
    "        # --- Classifier (Fully Connected Layers) ---\n",
    "        # After 3 max-pooling layers of stride 2, our 64x64 image is now 8x8.\n",
    "        # So the flattened feature map size is 64 channels * 8 * 8 = 4096.\n",
    "        self.classifier = nn.Sequential(\n",
    "            nn.Linear(64 * 8 * 8, 512),\n",
    "            nn.ReLU(),\n",
    "            nn.Dropout(0.5), # Dropout for regularization\n",
    "            nn.Linear(512, num_classes)\n",
    "        )\n",
    "\n",
    "    def forward(self, x):\n",
    "        x = self.features(x)\n",
    "        # Flatten the feature map to a vector before feeding it to the classifier\n",
    "        x = x.view(x.size(0), -1) \n",
    "        x = self.classifier(x)\n",
    "        return x\n",
    "\n",
    "# Instantiate the model and move it to the configured device (CPU or GPU)\n",
    "model = SimpleCNN(num_classes=NUM_CLASSES).to(DEVICE)\n",
    "\n",
    "# Print the model architecture\n",
    "print(model)\n",
    "\n",
    "# A quick test to see the output shape of a sample batch\n",
    "def test_model_output():\n",
    "    with torch.no_grad():\n",
    "        sample_batch, _ = next(iter(dataloaders['train']))\n",
    "        sample_batch = sample_batch.to(DEVICE)\n",
    "        output = model(sample_batch)\n",
    "        print(\"\\n--- Model Test ---\")\n",
    "        print(f\"Input batch shape: {sample_batch.shape}\")\n",
    "        print(f\"Output batch shape: {output.shape}\")\n",
    "        print(\"Model test passed. Output shape is correct.\")\n",
    "\n",
    "test_model_output()"
   ]
  },
  {
   "cell_type": "markdown",
   "id": "cdba7d2c",
   "metadata": {},
   "source": [
    "## 4. Training the Model\n",
    "\n",
    "This section contains the logic for training the model, including:\n",
    "*   Defining the loss function and optimizer.\n",
    "*   Implementing the training and validation loops.\n",
    "*   Incorporating early stopping and model checkpointing to save the best-performing model."
   ]
  },
  {
   "cell_type": "markdown",
   "id": "df2d5bcd",
   "metadata": {},
   "source": [
    "## 5. Evaluation\n",
    "\n",
    "After training, we evaluate the model's performance on the unseen test set. This includes:\n",
    "*   Loading the best model checkpoint.\n",
    "*   Calculating final test accuracy.\n",
    "*   Visualizing a confusion matrix and sample predictions."
   ]
  },
  {
   "cell_type": "markdown",
   "id": "12cfd960",
   "metadata": {},
   "source": [
    "## 6. Analysis & Conclusion\n",
    "\n",
    "A final summary of the results, including:\n",
    "*   Plotting the training/validation curves.\n",
    "*   Answering the project questions on learnings and potential improvements."
   ]
  }
 ],
 "metadata": {
  "kernelspec": {
   "display_name": "shape-classifier-pytorch-cUSr_hTk",
   "language": "python",
   "name": "python3"
  },
  "language_info": {
   "codemirror_mode": {
    "name": "ipython",
    "version": 3
   },
   "file_extension": ".py",
   "mimetype": "text/x-python",
   "name": "python",
   "nbconvert_exporter": "python",
   "pygments_lexer": "ipython3",
   "version": "3.12.10"
  }
 },
 "nbformat": 4,
 "nbformat_minor": 5
}
