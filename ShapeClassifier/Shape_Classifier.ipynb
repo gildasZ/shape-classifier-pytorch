{
 "cells": [
  {
   "cell_type": "markdown",
   "id": "f28031a1",
   "metadata": {},
   "source": [
    "# Shape Classifier: Circles, Squares, and Triangles\n",
    "\n",
    "A Jupyter Notebook to demonstrate the training and evaluation of a CNN model to classify synthetic images of geometric shapes.\n",
    "\n",
    "**Project Structure Note:** In adherence to the project requirement for `clean, modular, and well-organized code,` complex helper functions for data generation and visualization are encapsulated in the `ShapeClassifier/utils/` directory. This keeps the main notebook focused on the core machine learning workflow: configuration, data loading, model definition, training, and evaluation."
   ]
  },
  {
   "cell_type": "markdown",
   "id": "88344dde",
   "metadata": {},
   "source": [
    "## 1. Setup & Configuration\n",
    "\n",
    "This section handles all the initial setup for the project:\n",
    "*   Importing essential libraries.\n",
    "*   Defining constants, hyperparameters, and file paths.\n",
    "*   Setting up reproducibility seeds."
   ]
  },
  {
   "cell_type": "markdown",
   "id": "c17010b2",
   "metadata": {},
   "source": [
    "### 1.1. Path Configuration\n",
    "\n",
    "First, we set up the system path to ensure our utility scripts in the `ShapeClassifier/utils/` directory can be imported reliably. We also define the core paths for our project artifacts."
   ]
  },
  {
   "cell_type": "code",
   "execution_count": 35,
   "id": "e8a1ea52",
   "metadata": {},
   "outputs": [
    {
     "name": "stdout",
     "output_type": "stream",
     "text": [
      "Project Root: c:\\Users\\gilda\\OneDrive\\Documents\\My_Projects\\AI_Based_Projects\\shape-classifier-interview\\shape-classifier-pytorch\n",
      "Dataset Directory: c:\\Users\\gilda\\OneDrive\\Documents\\My_Projects\\AI_Based_Projects\\shape-classifier-interview\\shape-classifier-pytorch\\..\\shape-classifier-artifacts\\shape-classifier-datasets\\ShapeClassifier\n"
     ]
    }
   ],
   "source": [
    "import os\n",
    "import sys\n",
    "\n",
    "# We assume this notebook is run from its location in the 'ShapeClassifier' directory.\n",
    "# The project root is one level up.\n",
    "PROJECT_ROOT = os.path.abspath(os.path.join(os.getcwd(), '..'))\n",
    "\n",
    "if PROJECT_ROOT not in sys.path:\n",
    "    sys.path.append(PROJECT_ROOT)\n",
    "    print(f\"Added '{PROJECT_ROOT}' to system path.\")\n",
    "\n",
    "# Define core paths relative to the project root for robustness.\n",
    "ARTIFACTS_DIR = os.path.join(PROJECT_ROOT, '..', 'shape-classifier-artifacts')\n",
    "DATASET_DIR = os.path.join(ARTIFACTS_DIR, 'shape-classifier-datasets', 'ShapeClassifier')\n",
    "MODEL_CHECKPOINT_DIR = os.path.join(ARTIFACTS_DIR, 'shape-classifier-models', 'ShapeClassifier')\n",
    "\n",
    "print(f\"Project Root: {PROJECT_ROOT}\")\n",
    "print(f\"Dataset Directory: {DATASET_DIR}\")"
   ]
  },
  {
   "cell_type": "markdown",
   "id": "674cc40b",
   "metadata": {},
   "source": [
    "### 1.2. Library Imports\n",
    "\n",
    "Next, we import all the necessary libraries for the project."
   ]
  },
  {
   "cell_type": "code",
   "execution_count": 36,
   "id": "2a0ff414",
   "metadata": {},
   "outputs": [
    {
     "name": "stdout",
     "output_type": "stream",
     "text": [
      "Libraries imported successfully.\n",
      "PyTorch Version: 2.7.1+cu128\n",
      "CUDA Available: True\n",
      "CUDA Version: 12.8\n"
     ]
    }
   ],
   "source": [
    "from datetime import datetime\n",
    "import gc\n",
    "import hashlib\n",
    "import json\n",
    "import math\n",
    "import random\n",
    "import numpy as np\n",
    "import time\n",
    "import torch\n",
    "import torch.nn as nn\n",
    "import torch.optim as optim\n",
    "from torch.optim.lr_scheduler import ReduceLROnPlateau\n",
    "from torch.utils.data import Dataset, DataLoader\n",
    "from torchvision import transforms\n",
    "from PIL import Image\n",
    "import matplotlib.pyplot as plt\n",
    "from sklearn.metrics import confusion_matrix\n",
    "from tqdm.notebook import tqdm\n",
    "\n",
    "print(\"Libraries imported successfully.\")\n",
    "\n",
    "# Print the PyTorch version\n",
    "print(f\"PyTorch Version: {torch.__version__}\")\n",
    "\n",
    "# You can also check if CUDA is available and which version it's compiled with\n",
    "# This is useful for GPU users\n",
    "if torch.cuda.is_available():\n",
    "    print(f\"CUDA Available: True\")\n",
    "    print(f\"CUDA Version: {torch.version.cuda}\")\n",
    "else:\n",
    "    print(\"CUDA Available: False\")"
   ]
  },
  {
   "cell_type": "code",
   "execution_count": 37,
   "id": "1256855c",
   "metadata": {},
   "outputs": [
    {
     "name": "stdout",
     "output_type": "stream",
     "text": [
      "PyTorch Version: 2.7.1+cu128\n",
      "------------------------------------------------------------\n",
      "Let's inspect the 'ReduceLROnPlateau' class that Python is seeing...\n",
      "The class comes from this module: torch.optim.lr_scheduler\n",
      "------------------------------------------------------------\n",
      "Here is the official help text for the class:\n",
      "Help on class ReduceLROnPlateau in module torch.optim.lr_scheduler:\n",
      "\n",
      "class ReduceLROnPlateau(LRScheduler)\n",
      " |  ReduceLROnPlateau(optimizer: torch.optim.optimizer.Optimizer, mode: Literal['min', 'max'] = 'min', factor: float = 0.1, patience: int = 10, threshold: float = 0.0001, threshold_mode: Literal['rel', 'abs'] = 'rel', cooldown: int = 0, min_lr: Union[list[float], float] = 0, eps: float = 1e-08)\n",
      " |\n",
      " |  Reduce learning rate when a metric has stopped improving.\n",
      " |\n",
      " |  Models often benefit from reducing the learning rate by a factor\n",
      " |  of 2-10 once learning stagnates. This scheduler reads a metrics\n",
      " |  quantity and if no improvement is seen for a 'patience' number\n",
      " |  of epochs, the learning rate is reduced.\n",
      " |\n",
      " |  Args:\n",
      " |      optimizer (Optimizer): Wrapped optimizer.\n",
      " |      mode (str): One of `min`, `max`. In `min` mode, lr will\n",
      " |          be reduced when the quantity monitored has stopped\n",
      " |          decreasing; in `max` mode it will be reduced when the\n",
      " |          quantity monitored has stopped increasing. Default: 'min'.\n",
      " |      factor (float): Factor by which the learning rate will be\n",
      " |          reduced. new_lr = lr * factor. Default: 0.1.\n",
      " |      patience (int): The number of allowed epochs with no improvement after\n",
      " |          which the learning rate will be reduced.\n",
      " |          For example, consider the case of having no patience (`patience = 0`).\n",
      " |          In the first epoch, a baseline is established and is always considered good as there's no previous baseline.\n",
      " |          In the second epoch, if the performance is worse than the baseline,\n",
      " |          we have what is considered an intolerable epoch.\n",
      " |          Since the count of intolerable epochs (1) is greater than the patience level (0),\n",
      " |          the learning rate is reduced at the end of this epoch.\n",
      " |          From the third epoch onwards, the learning rate continues to be reduced at the end of each epoch\n",
      " |          if the performance is worse than the baseline. If the performance improves or remains the same,\n",
      " |          the learning rate is not adjusted.\n",
      " |          Default: 10.\n",
      " |      threshold (float): Threshold for measuring the new optimum,\n",
      " |          to only focus on significant changes. Default: 1e-4.\n",
      " |      threshold_mode (str): One of `rel`, `abs`. In `rel` mode,\n",
      " |          dynamic_threshold = best * ( 1 + threshold ) in 'max'\n",
      " |          mode or best * ( 1 - threshold ) in `min` mode.\n",
      " |          In `abs` mode, dynamic_threshold = best + threshold in\n",
      " |          `max` mode or best - threshold in `min` mode. Default: 'rel'.\n",
      " |      cooldown (int): Number of epochs to wait before resuming\n",
      " |          normal operation after lr has been reduced. Default: 0.\n",
      " |      min_lr (float or list): A scalar or a list of scalars. A\n",
      " |          lower bound on the learning rate of all param groups\n",
      " |          or each group respectively. Default: 0.\n",
      " |      eps (float): Minimal decay applied to lr. If the difference\n",
      " |          between new and old lr is smaller than eps, the update is\n",
      " |          ignored. Default: 1e-8.\n",
      " |\n",
      " |  Example:\n",
      " |      >>> # xdoctest: +SKIP\n",
      " |      >>> optimizer = torch.optim.SGD(model.parameters(), lr=0.1, momentum=0.9)\n",
      " |      >>> scheduler = ReduceLROnPlateau(optimizer, 'min')\n",
      " |      >>> for epoch in range(10):\n",
      " |      >>>     train(...)\n",
      " |      >>>     val_loss = validate(...)\n",
      " |      >>>     # Note that step should be called after validate()\n",
      " |      >>>     scheduler.step(val_loss)\n",
      " |\n",
      " |  Method resolution order:\n",
      " |      ReduceLROnPlateau\n",
      " |      LRScheduler\n",
      " |      builtins.object\n",
      " |\n",
      " |  Methods defined here:\n",
      " |\n",
      " |  __init__(self, optimizer: torch.optim.optimizer.Optimizer, mode: Literal['min', 'max'] = 'min', factor: float = 0.1, patience: int = 10, threshold: float = 0.0001, threshold_mode: Literal['rel', 'abs'] = 'rel', cooldown: int = 0, min_lr: Union[list[float], float] = 0, eps: float = 1e-08)\n",
      " |      Initialize self.  See help(type(self)) for accurate signature.\n",
      " |\n",
      " |  is_better(self, a, best)\n",
      " |\n",
      " |  load_state_dict(self, state_dict)\n",
      " |      Load the scheduler's state.\n",
      " |\n",
      " |  state_dict(self)\n",
      " |      Return the state of the scheduler as a :class:`dict`.\n",
      " |\n",
      " |      It contains an entry for every variable in self.__dict__ which\n",
      " |      is not the optimizer.\n",
      " |\n",
      " |  step(self, metrics: <class 'SupportsFloat'>, epoch=None)\n",
      " |      Perform a step.\n",
      " |\n",
      " |  ----------------------------------------------------------------------\n",
      " |  Readonly properties defined here:\n",
      " |\n",
      " |  in_cooldown\n",
      " |\n",
      " |  ----------------------------------------------------------------------\n",
      " |  Data and other attributes defined here:\n",
      " |\n",
      " |  __annotations__ = {}\n",
      " |\n",
      " |  ----------------------------------------------------------------------\n",
      " |  Methods inherited from LRScheduler:\n",
      " |\n",
      " |  get_last_lr(self) -> list[float]\n",
      " |      Return last computed learning rate by current scheduler.\n",
      " |\n",
      " |  get_lr(self) -> list[float]\n",
      " |      Compute learning rate using chainable form of the scheduler.\n",
      " |\n",
      " |  ----------------------------------------------------------------------\n",
      " |  Data descriptors inherited from LRScheduler:\n",
      " |\n",
      " |  __dict__\n",
      " |      dictionary for instance variables\n",
      " |\n",
      " |  __weakref__\n",
      " |      list of weak references to the object\n",
      "\n"
     ]
    }
   ],
   "source": [
    "# --- DIAGNOSTIC CELL ---\n",
    "# Please run this in a new cell right before your train_model function definition.\n",
    "\n",
    "print(f\"PyTorch Version: {torch.__version__}\")\n",
    "print(\"-\" * 60)\n",
    "\n",
    "print(\"Let's inspect the 'ReduceLROnPlateau' class that Python is seeing...\")\n",
    "\n",
    "# This command asks the class to reveal the file/module it was defined in.\n",
    "print(f\"The class comes from this module: {ReduceLROnPlateau.__module__}\")\n",
    "print(\"-\" * 60)\n",
    "\n",
    "# This command prints the official documentation for the class,\n",
    "# including its full list of accepted arguments.\n",
    "print(\"Here is the official help text for the class:\")\n",
    "help(ReduceLROnPlateau)"
   ]
  },
  {
   "cell_type": "markdown",
   "id": "f4c377a5",
   "metadata": {},
   "source": [
    "### 1.3. Constants and Seeding\n",
    "\n",
    "We define key constants for our project and a function to set seeds for reproducibility. The seeding function is called in a separate cell to prevent it from being re-run unnecessarily when constants are changed."
   ]
  },
  {
   "cell_type": "code",
   "execution_count": 38,
   "id": "e4522ceb",
   "metadata": {},
   "outputs": [
    {
     "name": "stdout",
     "output_type": "stream",
     "text": [
      "Device set to: CUDA\n"
     ]
    }
   ],
   "source": [
    "# --- Constants ---\n",
    "DEVICE = \"cuda\" if torch.cuda.is_available() else \"cpu\"\n",
    "CLASSES = ['circle', 'square', 'triangle']\n",
    "NUM_CLASSES = len(CLASSES)\n",
    "MODEL_CHECKPOINT_PATH = os.path.join(MODEL_CHECKPOINT_DIR, 'best_model_checkpoint.pth')\n",
    "\n",
    "\n",
    "# --- Seeding Function ---\n",
    "def set_seed(seed=42):\n",
    "    \"\"\"Sets the seed for random, numpy, and torch for reproducible results.\"\"\"\n",
    "    random.seed(seed)\n",
    "    np.random.seed(seed)\n",
    "    torch.manual_seed(seed)\n",
    "    if torch.cuda.is_available():\n",
    "        torch.cuda.manual_seed(seed)\n",
    "        torch.cuda.manual_seed_all(seed)\n",
    "        torch.backends.cudnn.deterministic = True\n",
    "        torch.backends.cudnn.benchmark = False\n",
    "    print(f\"Seed set to {seed}\")\n",
    "\n",
    "print(f\"Device set to: {DEVICE.upper()}\")"
   ]
  },
  {
   "cell_type": "markdown",
   "id": "370723aa",
   "metadata": {},
   "source": [
    "### 1.4. Initial Setup Execution\n",
    "\n",
    "Here we execute one-time setup commands: we set the global seed and ensure the directory for saving our model checkpoints exists."
   ]
  },
  {
   "cell_type": "code",
   "execution_count": 39,
   "id": "10a3130d",
   "metadata": {},
   "outputs": [
    {
     "name": "stdout",
     "output_type": "stream",
     "text": [
      "Seed set to 42\n",
      "Initial setup executed.\n"
     ]
    }
   ],
   "source": [
    "# Set the seed for the entire notebook session.\n",
    "set_seed(42)\n",
    "\n",
    "# Ensure the directory for saving model checkpoints exists.\n",
    "os.makedirs(MODEL_CHECKPOINT_DIR, exist_ok=True)\n",
    "print(\"Initial setup executed.\")"
   ]
  },
  {
   "cell_type": "markdown",
   "id": "f3cb0336",
   "metadata": {},
   "source": [
    "## 2. Data Generation & Loading\n",
    "\n",
    "This section covers preparing the data for the model. It includes:\n",
    "*   An optional step to regenerate the entire dataset from scratch.\n",
    "*   Defining a custom PyTorch `Dataset` class to load the images.\n",
    "*   Applying necessary transformations.\n",
    "*   Creating `DataLoader`s to feed data to the model in batches."
   ]
  },
  {
   "cell_type": "markdown",
   "id": "dd19a0c3",
   "metadata": {},
   "source": [
    "### 2.1. Optional: Generate Dataset from Scratch\n",
    "\n",
    "This project is configured to use the pre-generated (or downloaded) dataset located in the `shape-classifier-artifacts` directory.\n",
    "\n",
    "However, if you wish to regenerate the entire dataset from scratch, you can set the `REGENERATE_DATA` flag in the cell below to `True`.\n",
    "\n",
    "**>>> Warning:** This process will delete all existing data in the target directory and will take several minutes to complete."
   ]
  },
  {
   "cell_type": "code",
   "execution_count": 40,
   "id": "a9974de6",
   "metadata": {},
   "outputs": [
    {
     "name": "stdout",
     "output_type": "stream",
     "text": [
      "Skipping data generation. Using existing dataset.\n",
      "\n",
      "Dataset found at: c:\\Users\\gilda\\OneDrive\\Documents\\My_Projects\\AI_Based_Projects\\shape-classifier-interview\\shape-classifier-pytorch\\..\\shape-classifier-artifacts\\shape-classifier-datasets\\ShapeClassifier\n"
     ]
    }
   ],
   "source": [
    "from ShapeClassifier.utils.data_generator import generate_dataset\n",
    "\n",
    "# --- Configuration for Data Generation ---\n",
    "REGENERATE_DATA = False # Set to True to run the data generation process.\n",
    "\n",
    "# These parameters are used ONLY if REGENERATE_DATA is True.\n",
    "TOTAL_IMAGES_TO_GENERATE = 6000\n",
    "SPLIT_RATIOS = {'train': 0.7, 'validation': 0.15, 'test': 0.15}\n",
    "\n",
    "\n",
    "if REGENERATE_DATA:\n",
    "    # We call our imported function using the path constants defined in Section 1.\n",
    "    generate_dataset(\n",
    "        root_dir=DATASET_DIR,\n",
    "        total_images=TOTAL_IMAGES_TO_GENERATE,\n",
    "        # root_dir=os.path.join(DATASET_DIR, \"Delete\"),\n",
    "        # total_images=100,\n",
    "        splits=SPLIT_RATIOS,\n",
    "        shapes=CLASSES # Using the 'CLASSES' constant from Section 1\n",
    "    )\n",
    "else:\n",
    "    print(\"Skipping data generation. Using existing dataset.\")\n",
    "\n",
    "# Verify that the dataset directory exists.\n",
    "if not os.path.exists(DATASET_DIR):\n",
    "    print(\"\\nERROR: Dataset directory not found!\")\n",
    "    print(f\"Please run the project's download script or set REGENERATE_DATA to True.\")\n",
    "else:\n",
    "    print(f\"\\nDataset found at: {DATASET_DIR}\")"
   ]
  },
  {
   "cell_type": "markdown",
   "id": "b632f874",
   "metadata": {},
   "source": [
    "### 2.2. PyTorch Dataset Class\n",
    "\n",
    "To load our data into PyTorch, we need to create a custom `Dataset` class. This class acts as a standardized interface and is responsible for two key things:\n",
    "1.  `__len__`: Telling PyTorch the total number of images in the dataset.\n",
    "2.  `__getitem__`: Providing the i-th item from the dataset, which consists of an image and its corresponding label, ready for the model.\n",
    "\n",
    "Our `ShapeDataset` class will scan a given directory (e.g., `train`, `validation`, or `test`), find all image paths, and infer the correct label from the subdirectory name (e.g., 'circle', 'square')."
   ]
  },
  {
   "cell_type": "code",
   "execution_count": 41,
   "id": "fb3b5ed9",
   "metadata": {},
   "outputs": [
    {
     "name": "stdout",
     "output_type": "stream",
     "text": [
      "ShapeDataset class defined.\n"
     ]
    }
   ],
   "source": [
    "class ShapeDataset(Dataset):\n",
    "    \"\"\"Custom Dataset for loading shape images.\"\"\"\n",
    "\n",
    "    def __init__(self, data_dir, transform=None):\n",
    "        \"\"\"\n",
    "        Args:\n",
    "            data_dir (string): Directory with all the images, organized in subfolders by class.\n",
    "            transform (callable, optional): Optional transform to be applied on a sample.\n",
    "        \"\"\"\n",
    "        self.data_dir = data_dir\n",
    "        self.transform = transform\n",
    "        self.classes = sorted(os.listdir(data_dir))\n",
    "        self.class_to_idx = {cls_name: i for i, cls_name in enumerate(self.classes)}\n",
    "        \n",
    "        self.image_paths = []\n",
    "        self.labels = []\n",
    "\n",
    "        # Walk through the directory to gather image paths and labels\n",
    "        for cls_name in self.classes:\n",
    "            class_dir = os.path.join(data_dir, cls_name)\n",
    "            for img_name in os.listdir(class_dir):\n",
    "                self.image_paths.append(os.path.join(class_dir, img_name))\n",
    "                self.labels.append(self.class_to_idx[cls_name])\n",
    "\n",
    "    def __len__(self):\n",
    "        return len(self.image_paths)\n",
    "\n",
    "    def __getitem__(self, idx):\n",
    "        # Load the image\n",
    "        img_path = self.image_paths[idx]\n",
    "        # Using .convert('L') ensures the image is loaded as single-channel grayscale\n",
    "        image = Image.open(img_path).convert('L')\n",
    "        \n",
    "        # Get the label\n",
    "        label = self.labels[idx]\n",
    "\n",
    "        # Apply transformations if they exist\n",
    "        if self.transform:\n",
    "            image = self.transform(image)\n",
    "            \n",
    "        return image, label\n",
    "\n",
    "print(\"ShapeDataset class defined.\")"
   ]
  },
  {
   "cell_type": "markdown",
   "id": "446bccd3",
   "metadata": {},
   "source": [
    "### 2.3. Calculating Normalization Statistics for Z-Score Standardization\n",
    "\n",
    "A crucial step in preparing image data for a neural network is **normalization**. Normalization rescales the pixel values to a standard range, which helps the model's optimizer converge faster and more reliably. Without it, the large range of pixel values (0-255) can lead to unstable gradients during training.\n",
    "\n",
    "While a simple approach is to scale values to a fixed range like `[-1, 1]`, a more robust and widely-used technique is **Z-score standardization**. This method transforms the data so that it has a **mean of 0 and a standard deviation of 1**.\n",
    "\n",
    "The formula for each pixel is:\n",
    "$$ z = \\frac{x - \\mu}{\\sigma} $$\n",
    "where:\n",
    "- $x$ is the original pixel value\n",
    "- $\\mu$ (mu) is the mean of all pixel values in the dataset\n",
    "- $\\sigma$ (sigma) is the standard deviation of all pixel values\n",
    "\n",
    "To implement this, we must first calculate the true $\\mu$ and $\\sigma$ from our data.\n",
    "\n",
    "**>>> Important:** We only ever calculate these statistics on the **training set**. The validation and test sets must remain \"unseen.\" Using statistics from them would be a form of data leakage, giving our model an unfair preview of the data it will be evaluated on.\n",
    "\n",
    "In the next cell, we create a temporary dataset with a simple `ToTensor()` transform to iterate through all training images and compute these two values."
   ]
  },
  {
   "cell_type": "code",
   "execution_count": 42,
   "id": "efa00eb5",
   "metadata": {},
   "outputs": [
    {
     "name": "stdout",
     "output_type": "stream",
     "text": [
      "--- Checking dataset for normalization stats ---\n",
      "Dataset fingerprint matches cache. \n",
      "Loading normalization stats.\n",
      "\n",
      "Using Mean: 0.50911647\n",
      "Using Std: 0.24480122\n",
      "\n",
      "Temporary objects for calculation have been cleaned up.\n"
     ]
    }
   ],
   "source": [
    "# Define the path for our cache file within a temp directory\n",
    "TEMP_DIR = os.path.join(PROJECT_ROOT, 'ShapeClassifier', 'temp')\n",
    "os.makedirs(TEMP_DIR, exist_ok=True)\n",
    "STATS_CACHE_PATH = os.path.join(TEMP_DIR, 'dataset_stats.json')\n",
    "\n",
    "def get_dataset_fingerprint(data_dir):\n",
    "    \"\"\"\n",
    "    Creates a unique fingerprint of a dataset based on its file metadata.\n",
    "    This is much faster than hashing the file contents.\n",
    "    \"\"\"\n",
    "    file_count = 0\n",
    "    total_size = 0\n",
    "    # Use a high-precision sum for modification times\n",
    "    total_mtime = 0.0\n",
    "\n",
    "    for root, _, files in os.walk(data_dir):\n",
    "        for name in files:\n",
    "            file_count += 1\n",
    "            file_path = os.path.join(root, name)\n",
    "            total_size += os.path.getsize(file_path)\n",
    "            total_mtime += os.path.getmtime(file_path)\n",
    "            \n",
    "    # Create a simple but effective string representation of the dataset's state\n",
    "    fingerprint_str = f\"count:{file_count}-size:{total_size}-mtime:{total_mtime}\"\n",
    "    return hashlib.sha256(fingerprint_str.encode('utf-8')).hexdigest()\n",
    "\n",
    "def calculate_or_load_stats(data_dir, cache_path):\n",
    "    \"\"\"Loads stats from cache if the dataset fingerprint matches, otherwise computes and saves them.\"\"\"\n",
    "    print(\"--- Checking dataset for normalization stats ---\")\n",
    "    current_fingerprint = get_dataset_fingerprint(data_dir)\n",
    "    \n",
    "    # Try to load from cache\n",
    "    if os.path.exists(cache_path):\n",
    "        with open(cache_path, 'r') as f:\n",
    "            cached_data = json.load(f)\n",
    "        if cached_data.get('fingerprint') == current_fingerprint:\n",
    "            print(\"Dataset fingerprint matches cache. \\nLoading normalization stats.\")\n",
    "            mean = torch.tensor(cached_data['mean'])\n",
    "            std = torch.tensor(cached_data['std'])\n",
    "            return mean, std\n",
    "\n",
    "    print(\"Cache not found or dataset has changed. \\nRe-calculating normalization stats...\")\n",
    "    \n",
    "    # --- The calculation logic ---\n",
    "\n",
    "    # Create a temporary dataset of the training data just for calculating the mean and std\n",
    "    # We only need to convert images to tensors for this calculation.\n",
    "    temp_dataset = ShapeDataset(data_dir, transform=transforms.ToTensor())\n",
    "\n",
    "    # Use a DataLoader to iterate through the dataset efficiently.\n",
    "    # Note: `num_workers` is not set. In a Jupyter/IPython environment, especially on\n",
    "    # Windows, using multiple workers for data loading can lead to multiprocessing\n",
    "    # deadlocks. By leaving it at its default (0), data loading occurs in the\n",
    "    # main process, ensuring compatibility.\n",
    "    temp_loader = DataLoader(temp_dataset, batch_size=64, shuffle=False)\n",
    "\n",
    "    # Calculate mean and std\n",
    "    mean = 0.\n",
    "    std = 0.\n",
    "    num_samples = 0\n",
    "\n",
    "    print(\"Calculating mean and standard deviation from the training set...\")\n",
    "    # Wrap the loader with tqdm for a progress bar\n",
    "    for images, _ in tqdm(temp_loader, desc=\"Calculating Stats\"):\n",
    "        # Reshape images to (batch_size, num_pixels) and count samples\n",
    "        batch_samples = images.size(0)\n",
    "        images = images.view(batch_samples, images.size(1), -1)\n",
    "        # Update mean and std\n",
    "        mean += images.mean(2).sum(0)\n",
    "        std += images.std(2).sum(0)\n",
    "        num_samples += batch_samples\n",
    "\n",
    "    mean /= num_samples\n",
    "    std /= num_samples\n",
    "\n",
    "    # --- Save the new stats to the cache with the new fingerprint ---\n",
    "    new_cache_data = {'mean': mean.tolist(), 'std': std.tolist(), 'fingerprint': current_fingerprint}\n",
    "    with open(cache_path, 'w') as f:\n",
    "        json.dump(new_cache_data, f, indent=4)\n",
    "    print(\"New stats calculated and saved to cache.\")\n",
    "    \n",
    "    del temp_loader, temp_dataset # Clean up\n",
    "    print(\"Temporary objects for calculation have been cleaned up.\")\n",
    "    return mean, std\n",
    "\n",
    "# --- Execute the function ---\n",
    "train_dir = os.path.join(DATASET_DIR, 'train')\n",
    "mean, std = calculate_or_load_stats(train_dir, STATS_CACHE_PATH)\n",
    "\n",
    "print(f\"\\nUsing Mean: {mean.item():.8f}\")\n",
    "print(f\"Using Std: {std.item():.8f}\")\n",
    "\n",
    "del TEMP_DIR, STATS_CACHE_PATH, train_dir\n",
    "print(\"\\nTemporary objects for calculation have been cleaned up.\")"
   ]
  },
  {
   "cell_type": "markdown",
   "id": "e399eba8",
   "metadata": {},
   "source": [
    "### 2.4. Defining the Final Image Transformation Pipelines\n",
    "\n",
    "Now that we have the exact mean and standard deviation of our training data, we can build our final transformation pipelines. We use `torchvision.transforms.Compose` to chain together multiple operations.\n",
    "\n",
    "Our pipeline will consist of two steps:\n",
    "1.  `transforms.ToTensor()`: This is a critical first step. It converts the PIL Image, which is a grid of pixels with values from `[0, 255]`, into a PyTorch FloatTensor. It also automatically scales the pixel values to a range of `[0.0, 1.0]`.\n",
    "2.  `transforms.Normalize(mean, std)`: This takes the `[0.0, 1.0]` tensor from the previous step and applies the Z-score formula ($z = (x - \\mu) / \\sigma$), using the `mean` and `std` we just calculated.\n",
    "\n",
    "We create two separate pipelines. Although they are identical in this case, it is good practice to distinguish between them. In more complex projects, the training pipeline might include additional data augmentation steps (like random rotations or flips) that should not be applied to the validation or test data."
   ]
  },
  {
   "cell_type": "code",
   "execution_count": 43,
   "id": "114369cd",
   "metadata": {},
   "outputs": [
    {
     "name": "stdout",
     "output_type": "stream",
     "text": [
      "Data transformations defined with calculated mean and std.\n"
     ]
    }
   ],
   "source": [
    "# Define the final transformations for our datasets using the calculated stats.\n",
    "data_transforms = {\n",
    "    'train': transforms.Compose([\n",
    "        transforms.ToTensor(),\n",
    "        transforms.Normalize(mean, std)\n",
    "    ]),\n",
    "    'val_test': transforms.Compose([\n",
    "        transforms.ToTensor(),\n",
    "        transforms.Normalize(mean, std)\n",
    "    ]),\n",
    "}\n",
    "\n",
    "print(\"Data transformations defined with calculated mean and std.\")"
   ]
  },
  {
   "cell_type": "markdown",
   "id": "5b502489",
   "metadata": {},
   "source": [
    "### 2.5. Create Final Datasets and DataLoaders\n",
    "\n",
    "With our `ShapeDataset` class defined and our `data_transforms` ready, we can now create the final dataset instances for our training, validation, and test splits.\n",
    "\n",
    "These `Dataset` objects are then wrapped by a `DataLoader`. The `DataLoader` is a powerful PyTorch utility that handles:\n",
    "-   **Batching:** Grouping individual data points into mini-batches of a specified size.\n",
    "-   **Shuffling:** Randomly shuffling the training data at the beginning of each epoch to prevent the model from learning the order of the data.\n",
    "-   **Parallel Loading:** (Which we have disabled for notebook compatibility) Loading data in the background."
   ]
  },
  {
   "cell_type": "code",
   "execution_count": 44,
   "id": "ff35ae37",
   "metadata": {},
   "outputs": [
    {
     "name": "stdout",
     "output_type": "stream",
     "text": [
      "Dataset sizes: {'train': 4200, 'validation': 900, 'test': 900}\n",
      "Class names: ['circle', 'square', 'triangle']\n"
     ]
    }
   ],
   "source": [
    "# --- Hyperparameters for DataLoaders ---\n",
    "# We define BATCH_SIZE here to keep all hyperparameters in one place,\n",
    "# but it's used in this section.\n",
    "BATCH_SIZE = 32\n",
    "\n",
    "# Create Dataset instances for each split, applying the correct transforms\n",
    "image_datasets = {\n",
    "    'train': ShapeDataset(os.path.join(DATASET_DIR, 'train'), transform=data_transforms['train']),\n",
    "    'validation': ShapeDataset(os.path.join(DATASET_DIR, 'validation'), transform=data_transforms['val_test']),\n",
    "    'test': ShapeDataset(os.path.join(DATASET_DIR, 'test'), transform=data_transforms['val_test'])\n",
    "}\n",
    "\n",
    "# Create DataLoader instances for each split\n",
    "dataloaders = {\n",
    "    'train': DataLoader(image_datasets['train'], batch_size=BATCH_SIZE, shuffle=True),\n",
    "    'validation': DataLoader(image_datasets['validation'], batch_size=BATCH_SIZE, shuffle=False),\n",
    "    'test': DataLoader(image_datasets['test'], batch_size=BATCH_SIZE, shuffle=False)\n",
    "}\n",
    "\n",
    "# Store dataset sizes for later use\n",
    "dataset_sizes = {x: len(image_datasets[x]) for x in ['train', 'validation', 'test']}\n",
    "class_names = image_datasets['train'].classes\n",
    "\n",
    "print(f\"Dataset sizes: {dataset_sizes}\")\n",
    "print(f\"Class names: {class_names}\")"
   ]
  },
  {
   "cell_type": "markdown",
   "id": "177318d2",
   "metadata": {},
   "source": [
    "### 2.6. Visualize a Batch of Training Data\n",
    "\n",
    "As a final sanity check, let's visualize a few images from a single training batch. This helps us confirm that:\n",
    "-   The images are being loaded correctly.\n",
    "-   The labels are accurate.\n",
    "-   The normalization has been applied (note that the colors may look unusual because the pixel values have been shifted and scaled)."
   ]
  },
  {
   "cell_type": "code",
   "execution_count": 45,
   "id": "1c24b414",
   "metadata": {},
   "outputs": [
    {
     "data": {
      "image/png": "[encoded data removed]",
      "text/plain": [
       "<Figure size 1600x800 with 8 Axes>"
      ]
     },
     "metadata": {},
     "output_type": "display_data"
    },
    {
     "name": "stdout",
     "output_type": "stream",
     "text": [
      "Visualization variables cleared.\n"
     ]
    }
   ],
   "source": [
    "def visualize_batch(dataloader, class_names, mean, std, num_images_to_show=8, cols=4):\n",
    "    \"\"\"\n",
    "    Visualizes a batch of images from a dataloader with a flexible grid.\n",
    "    \n",
    "    Args:\n",
    "        dataloader (DataLoader): The dataloader for the training set.\n",
    "        class_names (list): A list of strings for class names.\n",
    "        mean (torch.Tensor): The mean used for normalization.\n",
    "        std (torch.Tensor): The standard deviation used for normalization.\n",
    "        num_images_to_show (int): The total number of images to display.\n",
    "        cols (int): The number of columns in the display grid.\n",
    "    \"\"\"\n",
    "    \n",
    "    # Get one batch of training data\n",
    "    inputs, classes_idx = next(iter(dataloader))\n",
    "    \n",
    "    # Move inputs to CPU for processing with numpy/matplotlib\n",
    "    inputs = inputs.cpu()\n",
    "    \n",
    "    # --- 1. DYNAMIC GRID CALCULATION ---\n",
    "    # Ensure we don't try to show more images than are in the batch\n",
    "    num_images_to_show = min(num_images_to_show, len(inputs))\n",
    "    \n",
    "    # Calculate the number of rows needed\n",
    "    rows = math.ceil(num_images_to_show / cols)\n",
    "    \n",
    "    # Define figure size dynamically\n",
    "    figsize = (cols * 4, rows * 4)\n",
    "    fig, axes = plt.subplots(rows, cols, figsize=figsize)\n",
    "    fig.suptitle(\"Sample Batch from Training Set\", fontsize=24)\n",
    "\n",
    "    # Flatten axes array for easy iteration, regardless of grid shape\n",
    "    axes = axes.flatten()\n",
    "\n",
    "    # De-normalize and plot each image\n",
    "    for i in range(num_images_to_show):\n",
    "        ax = axes[i]\n",
    "        \n",
    "        inp = inputs[i].numpy().transpose((1, 2, 0))\n",
    "        mean_np = np.array([mean.item()])\n",
    "        std_np = np.array([std.item()])\n",
    "        inp = std_np * inp + mean_np\n",
    "        inp = np.clip(inp, 0, 1)\n",
    "        \n",
    "        ax.imshow(inp, cmap='gray')\n",
    "        ax.set_title(class_names[classes_idx[i]], fontsize=24)\n",
    "        ax.axis('off') # Hide axes ticks\n",
    "\n",
    "    # If there are any empty subplots left, turn them off\n",
    "    for i in range(num_images_to_show, len(axes)):\n",
    "        axes[i].axis('off')\n",
    "\n",
    "    # --- 2. FIX SPACING ISSUE ---\n",
    "    # Use fig.tight_layout() with a rect parameter to make space for the suptitle.\n",
    "    # rect=[left, bottom, right, top] in normalized figure coordinates.\n",
    "    # The 'top=0.95' leaves 5% of the figure height for the suptitle.\n",
    "    fig.tight_layout(rect=[0, 0, 1, 0.95])\n",
    "    \n",
    "    plt.show()\n",
    "    \n",
    "    # --- Clean up to free memory ---\n",
    "    del inputs\n",
    "    del classes_idx\n",
    "    print(\"Visualization variables cleared.\")\n",
    "\n",
    "visualize_batch(dataloaders['train'], class_names, mean, std, num_images_to_show=8, cols=4)"
   ]
  },
  {
   "cell_type": "markdown",
   "id": "545b9db0",
   "metadata": {},
   "source": [
    "## 3. Model Architecture\n",
    "\n",
    "Here, we define the architecture of our neural network. For this image classification task, a **Convolutional Neural Network (CNN)** is the ideal choice.\n",
    "\n",
    "### Why a CNN?\n",
    "\n",
    "CNNs are the industry standard for computer vision tasks for several key reasons:\n",
    "\n",
    "1.  **Spatial Hierarchy of Features:** Unlike a simple fully-connected network that treats an image as a flat vector of pixels, a CNN processes it as a 2D grid. Its core components, convolutional layers, are designed to learn a hierarchy of features.\n",
    "    -   **Early layers** automatically learn to detect simple patterns like edges, corners, and gradients.\n",
    "    -   **Deeper layers** combine these simple patterns to recognize more complex features, such as the curve of a circle or the right-angle corners of a square.\n",
    "\n",
    "2.  **Parameter Sharing:** A single convolutional filter (e.g., an edge detector) is slid across the entire image. This means the model learns one set of weights for that filter and re-uses it everywhere. This is incredibly efficient compared to a fully-connected layer, which would need a separate weight for every single pixel, leading to an explosion in parameters.\n",
    "\n",
    "3.  **Translation Invariance:** Because the same filter is applied across the whole image, a CNN can detect a feature (like a triangle corner) regardless of where it appears in the image. This is a direct result of parameter sharing and is crucial for our task, as our shapes are randomly placed.\n",
    "\n",
    "For this problem, a relatively simple CNN with a few convolutional layers followed by a classifier head is sufficient. It is powerful enough to learn the distinguishing features of our shapes without being so complex that it overfits our synthetic dataset. We do not need a large, pre-trained model like ResNet or a Vision Transformer, as that would be overkill for this task.\n",
    "\n",
    "\n",
    "\n",
    "## 3. Model Architecture\n",
    "\n",
    "In this section, we define and explore three different neural network architectures for our image classification task. This allows us to compare their performance and understand their unique strengths.\n",
    "\n",
    "We will start with a **Simple CNN** as our baseline, then implement a **ResNet-style model** to see the effect of deeper architectures, and finally explore a **Vision Transformer (ViT)**, which represents the state-of-the-art in many computer vision tasks.\n",
    "\n",
    "### 3.1.1. Model 1: Simple Convolutional Neural Network (CNN)\n",
    "\n",
    "**Why a CNN?** CNNs are the industry standard for computer vision tasks for several key reasons:\n",
    "\n",
    "1.  **Spatial Hierarchy of Features:** Unlike a simple fully-connected network that treats an image as a flat vector of pixels, a CNN processes it as a 2D grid. Its core components, convolutional layers, are designed to learn a hierarchy of features.\n",
    "    -   **Early layers** automatically learn to detect simple patterns like edges, corners, and gradients.\n",
    "    -   **Deeper layers** combine these simple patterns to recognize more complex features, such as the curve of a circle or the right-angle corners of a square.\n",
    "\n",
    "2.  **Parameter Sharing:** A single convolutional filter (e.g., an edge detector) is slid across the entire image. This means the model learns one set of weights for that filter and re-uses it everywhere. This is incredibly efficient compared to a fully-connected layer, which would need a separate weight for every single pixel, leading to an explosion in parameters.\n",
    "\n",
    "3.  **Translation Invariance:** Because the same filter is applied across the whole image, a CNN can detect a feature (like a triangle corner) regardless of where it appears in the image. This is a direct result of parameter sharing and is crucial for our task, as our shapes are randomly placed.\n",
    "\n",
    "For this problem, a relatively simple CNN with a few convolutional layers followed by a classifier head is sufficient. It is powerful enough to learn the distinguishing features of our shapes without being so complex that it overfits our synthetic dataset.\n",
    "\n",
    "### 3.1.2. Model 2: Residual Network (ResNet)\n",
    "\n",
    "**Why ResNet?** As neural networks get deeper, they can suffer from the \"vanishing gradient\" problem, making them hard to train. ResNet, introduced in 2015, solved this with a simple but revolutionary idea: **residual or \"skip\" connections**.\n",
    "\n",
    "A skip connection allows the input of a block of layers to be added to its output. This creates a \"shortcut\" for the gradient to flow through, enabling the training of much deeper and more powerful networks. For our task, even a simple ResNet-style block can improve performance by allowing for richer feature extraction.\n",
    "\n",
    "### 3.1.3. Model 3: Vision Transformer (ViT)\n",
    "\n",
    "**Why ViT?** The Vision Transformer, introduced in 2020, completely changed the computer vision landscape. It adapts the Transformer architecture, originally designed for text processing, to images.\n",
    "\n",
    "-   **How it Works:** A ViT splits an image into a sequence of smaller, fixed-size patches (like words in a sentence). It then uses the Transformer's **self-attention mechanism** to learn the relationships between these patches.\n",
    "-   **Strengths:** Self-attention allows the model to weigh the importance of every other patch when processing a given patch, enabling it to learn complex, long-range spatial relationships.\n",
    "-   **Weaknesses:** ViTs typically require very large datasets to outperform CNNs, but exploring a \"micro-ViT\" on our small dataset is a valuable learning exercise.\n",
    "\n",
    "### 3.1.4. Other Potential Architectures\n",
    "\n",
    "It's worth noting that before deep learning dominated, this problem could have been approached with traditional machine learning models. This would involve a two-step process:\n",
    "1.  **Feature Extraction:** Manually engineering features from the images using algorithms like HOG (Histogram of Oriented Gradients) or SIFT (Scale-Invariant Feature Transform).\n",
    "\n",
    "2.  **Classification:** Feeding these features into a classic classifier like a Support Vector Machine (SVM) or a Random Forest.\n",
    "While effective, this approach is less powerful as it relies on hand-crafted features, whereas a deep learning model learns the optimal features automatically."
   ]
  },
  {
   "cell_type": "code",
   "execution_count": 46,
   "id": "4962b933",
   "metadata": {},
   "outputs": [
    {
     "name": "stdout",
     "output_type": "stream",
     "text": [
      "==================================================\n",
      "Now processing: SimpleCNN\n",
      "\n",
      "--- Testing Model: SimpleCNN ---\n",
      "Input batch shape: torch.Size([32, 1, 64, 64])\n",
      "Output batch shape: torch.Size([32, 3])\n",
      "Model test passed.\n",
      "\n",
      "Test variables and GPU cache cleared.\n",
      "Deleting model 'SimpleCNN' to free memory...\n",
      "Finished processing and cleaning up SimpleCNN.\n",
      "==================================================\n",
      "==================================================\n",
      "Now processing: SimpleResNet\n",
      "\n",
      "--- Testing Model: SimpleResNet ---\n",
      "Input batch shape: torch.Size([32, 1, 64, 64])\n",
      "Output batch shape: torch.Size([32, 3])\n",
      "Model test passed.\n",
      "\n",
      "Test variables and GPU cache cleared.\n",
      "Deleting model 'SimpleResNet' to free memory...\n",
      "Finished processing and cleaning up SimpleResNet.\n",
      "==================================================\n",
      "==================================================\n",
      "Now processing: SimpleViT\n",
      "\n",
      "--- Testing Model: SimpleViT ---\n",
      "Input batch shape: torch.Size([32, 1, 64, 64])\n",
      "Output batch shape: torch.Size([32, 3])\n",
      "Model test passed.\n",
      "\n",
      "Test variables and GPU cache cleared.\n",
      "Deleting model 'SimpleViT' to free memory...\n",
      "Finished processing and cleaning up SimpleViT.\n",
      "==================================================\n"
     ]
    }
   ],
   "source": [
    "# ===================================================================\n",
    "# Model 1: SimpleCNN\n",
    "# ===================================================================\n",
    "class SimpleCNN(nn.Module):\n",
    "    def __init__(self, num_classes):\n",
    "        super(SimpleCNN, self).__init__()\n",
    "        \n",
    "        # --- Convolutional Layers ---\n",
    "        # Our input is a 64x64 grayscale image (1 channel).\n",
    "        self.features = nn.Sequential(\n",
    "            # Layer 1\n",
    "            # Input: 1 x 64 x 64\n",
    "            # Output: 16 x 32 x 32\n",
    "            nn.Conv2d(in_channels=1, out_channels=16, kernel_size=3, stride=1, padding=1),\n",
    "            nn.ReLU(),\n",
    "            nn.MaxPool2d(kernel_size=2, stride=2),\n",
    "            \n",
    "            # Layer 2\n",
    "            # Input: 16 x 32 x 32\n",
    "            # Output: 32 x 16 x 16\n",
    "            nn.Conv2d(in_channels=16, out_channels=32, kernel_size=3, stride=1, padding=1),\n",
    "            nn.ReLU(),\n",
    "            nn.MaxPool2d(kernel_size=2, stride=2),\n",
    "            \n",
    "            # Layer 3\n",
    "            # Input: 32 x 16 x 16\n",
    "            # Output: 64 x 8 x 8\n",
    "            nn.Conv2d(in_channels=32, out_channels=64, kernel_size=3, stride=1, padding=1),\n",
    "            nn.ReLU(),\n",
    "            nn.MaxPool2d(kernel_size=2, stride=2),\n",
    "        )\n",
    "        \n",
    "        # --- Classifier (Fully Connected Layers) ---\n",
    "        # After 3 max-pooling layers of stride 2, our 64x64 image is now 8x8.\n",
    "        # So the flattened feature map size is 64 channels * 8 * 8 = 4096.\n",
    "        self.classifier = nn.Sequential(\n",
    "            nn.Linear(64 * 8 * 8, 512),\n",
    "            nn.ReLU(),\n",
    "            nn.Dropout(0.5), # Dropout for regularization\n",
    "            nn.Linear(512, num_classes)\n",
    "        )\n",
    "\n",
    "    def forward(self, x):\n",
    "        x = self.features(x)\n",
    "        # Flatten the feature map to a vector before feeding it to the classifier\n",
    "        x = x.view(x.size(0), -1) \n",
    "        x = self.classifier(x)\n",
    "        return x\n",
    "\n",
    "# ===================================================================\n",
    "# Model 2: SimpleResNet\n",
    "# ===================================================================\n",
    "class ResidualBlock(nn.Module):\n",
    "    \"\"\"\n",
    "    A residual block, the fundamental building block of ResNet architectures.\n",
    "    It allows for the creation of deeper networks by adding a \"shortcut\" or \"skip\"\n",
    "    connection, which helps mitigate the vanishing gradient problem.\n",
    "    \"\"\"\n",
    "    def __init__(self, in_channels, out_channels, stride=1):\n",
    "        super(ResidualBlock, self).__init__()\n",
    "        # Main path of the residual block\n",
    "        self.conv1 = nn.Conv2d(in_channels, out_channels, kernel_size=3, stride=stride, padding=1, bias=False)\n",
    "        self.bn1 = nn.BatchNorm2d(out_channels)\n",
    "        self.relu = nn.ReLU(inplace=True)\n",
    "        self.conv2 = nn.Conv2d(out_channels, out_channels, kernel_size=3, stride=1, padding=1, bias=False)\n",
    "        self.bn2 = nn.BatchNorm2d(out_channels)\n",
    "        \n",
    "        # Shortcut connection to match dimensions if they change (e.g., due to stride or channel changes)\n",
    "        self.shortcut = nn.Sequential()\n",
    "        if stride != 1 or in_channels != out_channels:\n",
    "            # Use a 1x1 convolution to resize the input 'x' to match the output dimension\n",
    "            self.shortcut = nn.Sequential(\n",
    "                nn.Conv2d(in_channels, out_channels, kernel_size=1, stride=stride, bias=False),\n",
    "                nn.BatchNorm2d(out_channels)\n",
    "            )\n",
    "\n",
    "    def forward(self, x):\n",
    "        # The output of the main path\n",
    "        out = self.relu(self.bn1(self.conv1(x)))\n",
    "        out = self.bn2(self.conv2(out))\n",
    "        # The magic: add the original input (or its projection) to the output of the conv layers\n",
    "        out += self.shortcut(x) \n",
    "        out = self.relu(out)\n",
    "        return out\n",
    "\n",
    "class SimpleResNet(nn.Module):\n",
    "    def __init__(self, num_classes):\n",
    "        super(SimpleResNet, self).__init__()\n",
    "        self.in_channels = 16\n",
    "        \n",
    "        # --- Initial Convolution (Stem) ---\n",
    "        # Input: 1 x 64 x 64 -> Output: 16 x 64 x 64\n",
    "        self.conv1 = nn.Conv2d(1, 16, kernel_size=3, stride=1, padding=1, bias=False)\n",
    "        self.bn1 = nn.BatchNorm2d(16)\n",
    "        self.relu = nn.ReLU(inplace=True)\n",
    "        \n",
    "        # --- Residual Layers ---\n",
    "        # Stacks of residual blocks. Downsampling is done by setting stride=2 in the first block of a layer.\n",
    "        # Input: 16 x 64 x 64 -> Output: 16 x 64 x 64\n",
    "        self.layer1 = self._make_layer(16, num_blocks=2, stride=1)\n",
    "        # Input: 16 x 64 x 64 -> Output: 32 x 32 x 32\n",
    "        self.layer2 = self._make_layer(32, num_blocks=2, stride=2)\n",
    "        # Input: 32 x 32 x 32 -> Output: 64 x 16 x 16\n",
    "        self.layer3 = self._make_layer(64, num_blocks=2, stride=2)\n",
    "        \n",
    "        # --- Classifier ---\n",
    "        # Adaptive Average Pooling flattens the spatial dimensions to 1x1, making the model\n",
    "        # robust to different input sizes. Output size will be (batch_size, 64, 1, 1).\n",
    "        self.avg_pool = nn.AdaptiveAvgPool2d((1, 1))\n",
    "        # Final linear layer. The input features will be 64 (from the last layer's out_channels).\n",
    "        self.linear = nn.Linear(64, num_classes)\n",
    "\n",
    "    def _make_layer(self, out_channels, num_blocks, stride):\n",
    "        \"\"\"Helper function to create a layer with multiple residual blocks.\"\"\"\n",
    "        # The first block in a layer might have a different stride for downsampling.\n",
    "        strides = [stride] + [1]*(num_blocks - 1)\n",
    "        layers = []\n",
    "        for s in strides:\n",
    "            layers.append(ResidualBlock(self.in_channels, out_channels, s))\n",
    "            self.in_channels = out_channels # Update in_channels for the next block\n",
    "        return nn.Sequential(*layers)\n",
    "\n",
    "    def forward(self, x):\n",
    "        # Pass through the initial stem\n",
    "        out = self.relu(self.bn1(self.conv1(x)))\n",
    "        # Pass through the residual layers\n",
    "        out = self.layer1(out)\n",
    "        out = self.layer2(out)\n",
    "        out = self.layer3(out)\n",
    "        # Pool and flatten\n",
    "        out = self.avg_pool(out)\n",
    "        out = out.view(out.size(0), -1)\n",
    "        # Classify\n",
    "        out = self.linear(out)\n",
    "        return out\n",
    "\n",
    "# ===================================================================\n",
    "# Model 3: SimpleViT (Vision Transformer)\n",
    "# ===================================================================\n",
    "class SimpleViT(nn.Module):\n",
    "    def __init__(self, *, image_size, patch_size, num_classes, dim, depth, heads, mlp_dim):\n",
    "        super().__init__()\n",
    "        # --- Configuration ---\n",
    "        # An image is treated as a sequence of patches.\n",
    "        # For a 64x64 image with 16x16 patches, we get (64/16)^2 = 16 patches.\n",
    "        num_patches = (image_size // patch_size) ** 2\n",
    "        # The dimension of a single flattened patch (e.g., 1 channel * 16 * 16 = 256).\n",
    "        patch_dim = 1 * patch_size ** 2\n",
    "\n",
    "        # --- Patching and Embedding ---\n",
    "        # A linear layer to project flattened patches into a higher-dimensional vector space (dim).\n",
    "        self.patch_embedding = nn.Linear(patch_dim, dim)\n",
    "        # Learnable positional embeddings to give the model spatial information.\n",
    "        # We add 1 to num_patches for the [CLS] token.\n",
    "        self.pos_embedding = nn.Parameter(torch.randn(1, num_patches + 1, dim))\n",
    "        # A special learnable token that is prepended to the sequence of patches.\n",
    "        # Its final output state is used for classification.\n",
    "        self.cls_token = nn.Parameter(torch.randn(1, 1, dim))\n",
    "        \n",
    "        # --- Transformer Encoder ---\n",
    "        # The core of the model: a stack of Transformer Encoder layers.\n",
    "        # This is where self-attention allows patches to interact and weigh their importance.\n",
    "        encoder_layer = nn.TransformerEncoderLayer(d_model=dim, nhead=heads, dim_feedforward=mlp_dim, batch_first=True)\n",
    "        self.transformer = nn.TransformerEncoder(encoder_layer, num_layers=depth)\n",
    "\n",
    "        # --- Classifier Head ---\n",
    "        self.to_latent = nn.Identity()\n",
    "        # A simple linear layer that takes the final state of the [CLS] token and maps it to class scores.\n",
    "        self.linear_head = nn.Linear(dim, num_classes)\n",
    "\n",
    "    def forward(self, img):\n",
    "        # Input image shape: (batch_size, 1, 64, 64)\n",
    "        \n",
    "        # --- 1. Patching ---\n",
    "        # Use `unfold` to create non-overlapping patches. Here, we create 16x16 patches.\n",
    "        # `unfold(dim, size, step)`\n",
    "        p = img.unfold(2, 16, 16).unfold(3, 16, 16)\n",
    "        # Reshape to (batch_size, num_patches, patch_dim)\n",
    "        p = p.reshape(img.shape[0], -1, 1 * 16 * 16) # (batch, 16, 256)\n",
    "        \n",
    "        # --- 2. Embedding ---\n",
    "        # Project patches to the embedding dimension `dim`.\n",
    "        x = self.patch_embedding(p) # (batch, 16, dim)\n",
    "        b, n, _ = x.shape # b=batch_size, n=num_patches\n",
    "\n",
    "        # Prepend the [CLS] token to the sequence of patch embeddings.\n",
    "        cls_tokens = self.cls_token.expand(b, -1, -1) # (batch, 1, dim)\n",
    "        x = torch.cat((cls_tokens, x), dim=1) # (batch, 17, dim)\n",
    "\n",
    "        # Add positional embedding to give the model spatial context.\n",
    "        x += self.pos_embedding[:, :(n + 1)]\n",
    "        \n",
    "        # --- 3. Transformer ---\n",
    "        # Pass the sequence of embeddings through the transformer encoder.\n",
    "        x = self.transformer(x) # (batch, 17, dim)\n",
    "        \n",
    "        # --- 4. Classification ---\n",
    "        # Take only the output corresponding to the [CLS] token (at index 0).\n",
    "        x = self.to_latent(x[:, 0]) # (batch, dim)\n",
    "        \n",
    "        # Pass the [CLS] token's representation through the final linear head.\n",
    "        return self.linear_head(x) # (batch, num_classes)\n",
    "\n",
    "# ===================================================================\n",
    "# Model Instantiation and Testing\n",
    "# ===================================================================\n",
    "def test_model_output(model_instance):\n",
    "    \"\"\"A quick test to see the output shape of a sample batch.\"\"\"\n",
    "    print(f\"\\n--- Testing Model: {model_instance.__class__.__name__} ---\")\n",
    "    model_instance.eval() # Set model to evaluation mode\n",
    "    with torch.no_grad():\n",
    "        # Get a sample batch and move it to the device\n",
    "        sample_batch, _ = next(iter(dataloaders['train']))\n",
    "        sample_batch = sample_batch.to(DEVICE)\n",
    "        \n",
    "        # Get model output\n",
    "        output = model_instance(sample_batch)\n",
    "        \n",
    "        # Print results and clean up\n",
    "        print(f\"Input batch shape: {sample_batch.shape}\")\n",
    "        print(f\"Output batch shape: {output.shape}\")\n",
    "        assert output.shape == (BATCH_SIZE, NUM_CLASSES), \"Output shape is incorrect!\"\n",
    "        print(\"Model test passed.\\n\")\n",
    "\n",
    "    # --- Clean up to free memory ---\n",
    "    del sample_batch, _, output\n",
    "    if torch.cuda.is_available():\n",
    "        torch.cuda.empty_cache()\n",
    "    print(\"Test variables and GPU cache cleared.\")\n",
    "\n",
    "\n",
    "# ===================================================================\n",
    "# A better way to test models if memory is a concern\n",
    "# ===================================================================\n",
    "\n",
    "# A list of model classes and their specific configurations\n",
    "models_to_test = [\n",
    "    (\"SimpleCNN\", SimpleCNN, {\"num_classes\": NUM_CLASSES}),\n",
    "    (\"SimpleResNet\", SimpleResNet, {\"num_classes\": NUM_CLASSES}),\n",
    "    (\"SimpleViT\", SimpleViT, {\n",
    "        \"image_size\": 64, \"patch_size\": 16, \"num_classes\": NUM_CLASSES,\n",
    "        \"dim\": 64, \"depth\": 2, \"heads\": 4, \"mlp_dim\": 128\n",
    "    })\n",
    "]\n",
    "\n",
    "for name, model_class, kwargs in models_to_test:\n",
    "    print(\"=\"*50)\n",
    "    print(f\"Now processing: {name}\")\n",
    "    # 1. Instantiate the single model and move it to the GPU\n",
    "    model = model_class(**kwargs).to(DEVICE)\n",
    "    # 2. Run the test on this specific model\n",
    "    test_model_output(model)\n",
    "    # 3. Explicitly delete the model to free up memory\n",
    "    print(f\"Deleting model '{name}' to free memory...\")\n",
    "    del model\n",
    "    # 4. CRITICAL: Clear the PyTorch cache. This releases the memory\n",
    "    # that the deleted model was occupying back to the GPU.\n",
    "    if torch.cuda.is_available():\n",
    "        torch.cuda.empty_cache()\n",
    "    print(f\"Finished processing and cleaning up {name}.\")\n",
    "    print(\"=\"*50)"
   ]
  },
  {
   "cell_type": "markdown",
   "id": "cdba7d2c",
   "metadata": {},
   "source": [
    "## 4. Training the Model\n",
    "\n",
    "With our data pipeline and model architectures in place, we now turn to the training process itself. This involves defining the components that will guide our model's learning.\n",
    "\n",
    "This section contains the logic for training the model, including:\n",
    "*   Defining the loss function and optimizer.\n",
    "*   Implementing the training and validation loops.\n",
    "*   Incorporating early stopping and model checkpointing to save the best-performing model."
   ]
  },
  {
   "cell_type": "markdown",
   "id": "a6aef4da",
   "metadata": {},
   "source": [
    "### 4.1. Training Settings: Loss, Optimizer, and Scheduler\n",
    "\n",
    "#### Loss Function\n",
    "The **loss function** quantifies how \"wrong\" our model's predictions are compared to the true labels. For a multi-class classification problem like ours, the industry-standard choice is **Cross-Entropy Loss**.\n",
    "\n",
    "PyTorch's `nn.CrossEntropyLoss` is particularly powerful because it internally combines two operations:\n",
    "1.  `LogSoftmax`: It converts the model's raw output scores (logits) into a probability distribution.\n",
    "2.  `NLLLoss` (Negative Log Likelihood Loss): It then calculates the loss based on these probabilities.\n",
    "This combined approach is numerically more stable and efficient than applying the two layers separately.\n",
    "\n",
    "#### Optimizer\n",
    "The **optimizer** is the algorithm that updates the model's weights (parameters) to minimize the loss. We will use the **Adam (Adaptive Moment Estimation)** optimizer.\n",
    "\n",
    "Adam is a highly effective and popular choice because:\n",
    "-   It is an **adaptive learning rate** method, meaning it maintains a separate learning rate for each parameter and adjusts it as training progresses, often leading to faster convergence than standard Stochastic Gradient Descent (SGD).\n",
    "-   It combines the advantages of two other popular optimizers (AdaGrad and RMSProp), making it robust and generally requiring less manual tuning of the initial learning rate.\n",
    "\n",
    "#### Learning Rate Scheduler\n",
    "A **learning rate scheduler** dynamically adjusts the learning rate during training. A common strategy is to start with a relatively high learning rate to converge quickly and then decrease it to take smaller, more precise steps as the model gets closer to a solution.\n",
    "\n",
    "We will use `ReduceLROnPlateau`. This scheduler monitors a chosen metric (in our case, the **validation loss**). If the validation loss stops improving for a set number of epochs (a \"patience\" period), the scheduler will reduce the learning rate by a specified factor. This is an intelligent, reactive strategy that adapts to the model's actual performance."
   ]
  },
  {
   "cell_type": "code",
   "execution_count": 47,
   "id": "ac4feb07",
   "metadata": {},
   "outputs": [
    {
     "name": "stdout",
     "output_type": "stream",
     "text": [
      "Training settings and loss function defined:\n",
      "\n",
      "Loss function defined: CrossEntropyLoss\n",
      "Optimizer choice: Adam\n",
      "LR Scheduler choice: ReduceLROnPlateau\n"
     ]
    }
   ],
   "source": [
    "# --- Hyperparameters for Training ---\n",
    "# We define these here to keep them in one place.\n",
    "# The optimizer and scheduler will be instantiated inside the training function\n",
    "# because they are tied to a specific model's parameters.\n",
    "LEARNING_RATE = 0.001\n",
    "NUM_EPOCHS = 50 # This is a maximum; we will use Early Stopping.\n",
    "\n",
    "# --- Loss Function ---\n",
    "# This is model-agnostic, so we can define it once.\n",
    "criterion = nn.CrossEntropyLoss()\n",
    "\n",
    "print(\"Training settings and loss function defined:\\n\")\n",
    "\n",
    "print(\"Loss function defined: CrossEntropyLoss\")\n",
    "print(\"Optimizer choice: Adam\")\n",
    "print(\"LR Scheduler choice: ReduceLROnPlateau\")"
   ]
  },
  {
   "cell_type": "markdown",
   "id": "28054f1e",
   "metadata": {},
   "source": [
    "### 4.2. The Main Training Loop Function\n",
    "\n",
    "This is the most critical function in our notebook. The `train_model` function encapsulates the entire process of training a model for a set number of epochs. It is designed to be generic, accepting any of our defined model architectures as input.\n",
    "\n",
    "A robust training loop involves several key components:\n",
    "\n",
    "1.  **Epoch Iteration:** A main loop that iterates over the specified number of epochs.\n",
    "2.  **Training & Validation Phases:** Within each epoch, the model goes through two distinct phases:\n",
    "    -   **The `training` phase (`model.train()`):** The model processes the training data, calculates the loss, and uses backpropagation to update its weights. Layers like Dropout and BatchNorm are active in this mode.\n",
    "    -   **The `validation` phase (`model.eval()`):** The model processes the unseen validation data to evaluate its performance. No weight updates occur. Layers like Dropout and BatchNorm are disabled to ensure deterministic output for evaluation.\n",
    "3.  **Metric Tracking:** We carefully track and store the loss and accuracy for both training and validation at each epoch. This history is crucial for later analysis and plotting.\n",
    "4.  **Model Checkpointing:** We don't want to just keep the model from the final epoch; we want the model from the *best* epoch. The loop monitors the validation loss and saves the model's weights (`state_dict`) only when it achieves a new best performance.\n",
    "5.  **Early Stopping:** To save time and prevent overfitting, we implement an \"early stopping\" mechanism. If the validation loss does not improve for a set number of consecutive epochs (our \"patience\"), we halt the training process, assuming the model has converged.\n",
    "6.  **Return Values:** After training is complete (either by reaching the max epochs or by early stopping), the function loads the best saved weights back into the model and returns both the best model and its performance history."
   ]
  },
  {
   "cell_type": "code",
   "execution_count": 48,
   "id": "391b566b",
   "metadata": {},
   "outputs": [],
   "source": [
    "def clear_gpu_cache():\n",
    "    \"\"\"Clears the PyTorch CUDA cache to free up VRAM.\"\"\"\n",
    "    if torch.cuda.is_available():\n",
    "        torch.cuda.empty_cache()\n",
    "\n",
    "def train_model(\n",
    "    model: nn.Module,\n",
    "    model_name: str,\n",
    "    hyperparams: dict,\n",
    "    dataloaders: dict,\n",
    "    criterion: nn.Module,\n",
    "    learning_rate: float,\n",
    "    num_epochs: int,\n",
    "    checkpoint_dir: str,\n",
    "    stop_file_dir: str = None,\n",
    "    resume_from: str = 'best',\n",
    "    top_k: int = 3,\n",
    "    patience: int = 5\n",
    "):\n",
    "    \"\"\"\n",
    "    Trains and validates a PyTorch model with advanced features.\n",
    "\n",
    "    This function handles the entire training loop, including:\n",
    "    - Experiment directory management for checkpoints, plots, and history.\n",
    "    - Automatic resumption of training from the last or best checkpoint.\n",
    "    - Top-K checkpointing to save only the best models based on validation loss.\n",
    "    - Live plotting of training/validation metrics in a Jupyter Notebook.\n",
    "    - Rich checkpoint saving (model, optimizer, epoch, etc.).\n",
    "    - Learning rate scheduling and early stopping.\n",
    "\n",
    "    Args:\n",
    "        model (nn.Module): The PyTorch model to be trained.\n",
    "        model_name (str): A name for the model, used in filenames.\n",
    "        hyperparams (dict): A dictionary containing all key configuration settings for the \n",
    "                            specific training run, used for logging and exact reproducibility. \n",
    "                            This dictionary is saved as `config.json` inside the unique \n",
    "                            experiment directory. It should contain any value that defines \n",
    "                            the experiment's conditions, such as `model_name`, `learning_rate`, \n",
    "                            `batch_size`, `num_epochs`, `optimizer`, and any model-specific \n",
    "                            configuration (e.g., `dropout_rate`, `cnn_layers`). This provides \n",
    "                            a self-contained record of the training conditions.\n",
    "        dataloaders (dict): Dictionary with 'train' and 'validation' PyTorch DataLoaders.\n",
    "        criterion (nn.Module): The loss function.\n",
    "        learning_rate (float): The initial learning rate for the optimizer.\n",
    "        num_epochs (int): The total number of epochs to train for.\n",
    "        checkpoint_dir (str): The specific directory for this experiment's artifacts.\n",
    "                              If it contains checkpoints, training will resume.\n",
    "        stop_file_dir (str, optional): The path to a directory where the function will\n",
    "                                       check for a stop signal file. If a file named 'STOP'\n",
    "                                       is found within this directory at the beginning of an\n",
    "                                       epoch, training will halt gracefully. The signal file\n",
    "                                       will be renamed to 'STOP_acknowledged' to prevent it\n",
    "                                       from stopping subsequent runs. Defaults to None.\n",
    "        resume_from (str, optional): If resuming, specifies which checkpoint to use.\n",
    "                                     Can be 'best' or 'last'. Defaults to 'best'.\n",
    "        top_k (int, optional): The number of best checkpoints to keep. Defaults to 3.\n",
    "        patience (int, optional): Number of epochs to wait for validation loss\n",
    "                                  improvement before stopping early. Defaults to 5.\n",
    "\n",
    "    Returns:\n",
    "        tuple: A tuple containing:\n",
    "            - nn.Module: The model loaded with the weights from the best checkpoint.\n",
    "            - dict: A dictionary containing the full training history.\n",
    "    \"\"\"\n",
    "    # ======================================================================================\n",
    "    # 1. SETUP & INITIALIZATION\n",
    "    # ======================================================================================\n",
    "    start_time = time.time()\n",
    "    os.makedirs(checkpoint_dir, exist_ok=True)\n",
    "    print(f\"--- Experiment artifacts will be saved in: {checkpoint_dir} ---\")\n",
    "\n",
    "    # --- Save hyperparameters for this run ---\n",
    "    config_path = os.path.join(checkpoint_dir, 'config.json')\n",
    "    try:\n",
    "        with open(config_path, 'w') as f:\n",
    "            json.dump(hyperparams, f, indent=4)\n",
    "        print(f\"Hyperparameters for this run saved to: {config_path}\")\n",
    "    except TypeError as e:\n",
    "        print(f\"Error: Could not serialize hyperparameters to JSON. {e}\")\n",
    "        print(\"Please ensure all values in the hyperparams dictionary are JSON-serializable.\")\n",
    "        # (I have added a `try...except` block as a safety measure, as `json.dump` will fail if \n",
    "        # the dictionary contains non-serializable objects like a class instance.)*\n",
    "\n",
    "    model.to(DEVICE)\n",
    "    optimizer = optim.Adam(model.parameters(), lr=learning_rate)\n",
    "    scheduler = ReduceLROnPlateau(optimizer, mode='min', factor=0.1, patience=patience // 2)\n",
    "\n",
    "    # --- Initialize training state variables ---\n",
    "    start_epoch = 0\n",
    "    history = {'train_loss': [], 'train_acc': [], 'validation_loss': [], 'validation_acc': []}\n",
    "    top_k_checkpoints = []  # List of {'loss': float, 'path': str}\n",
    "    best_val_loss = float('inf')\n",
    "    early_stopping_counter = 0\n",
    "\n",
    "    # ======================================================================================\n",
    "    # 2. RESUME FROM CHECKPOINT (if applicable)\n",
    "    # ======================================================================================\n",
    "    history_path = os.path.join(checkpoint_dir, 'history.json')\n",
    "    top_k_path = os.path.join(checkpoint_dir, 'top_k_checkpoints.json')\n",
    "    last_ckpt_path = os.path.join(checkpoint_dir, 'last_epoch.pth')\n",
    "\n",
    "    if os.path.exists(history_path) and os.path.exists(top_k_path):\n",
    "        print(\"Found existing experiment data. Attempting to resume training...\")\n",
    "        \n",
    "        # Determine which checkpoint file to load\n",
    "        if resume_from == 'best' and os.path.exists(top_k_path):\n",
    "            with open(top_k_path, 'r') as f:\n",
    "                saved_top_k = json.load(f)\n",
    "            if saved_top_k:\n",
    "                resume_ckpt_path = saved_top_k[0]['path'] # Best is always first\n",
    "                print(f\"Resuming from the BEST checkpoint: {resume_ckpt_path}\")\n",
    "            else:\n",
    "                resume_ckpt_path = last_ckpt_path\n",
    "                print(f\"Top-K list was empty. Resuming from LAST checkpoint: {resume_ckpt_path}\")\n",
    "\n",
    "        elif resume_from == 'last' and os.path.exists(last_ckpt_path):\n",
    "            resume_ckpt_path = last_ckpt_path\n",
    "            print(f\"Resuming from the LAST checkpoint: {resume_ckpt_path}\")\n",
    "        else:\n",
    "            resume_ckpt_path = None\n",
    "            print(\"Could not find a suitable checkpoint to resume from. Starting fresh.\")\n",
    "\n",
    "        if resume_ckpt_path and os.path.exists(resume_ckpt_path):\n",
    "            checkpoint = torch.load(resume_ckpt_path, map_location=DEVICE)\n",
    "            model.load_state_dict(checkpoint['model_state_dict'])\n",
    "            optimizer.load_state_dict(checkpoint['optimizer_state_dict'])\n",
    "            start_epoch = checkpoint['epoch']\n",
    "            \n",
    "            # Load history and top-k list to continue tracking\n",
    "            with open(history_path, 'r') as f:\n",
    "                history = json.load(f)\n",
    "            with open(top_k_path, 'r') as f:\n",
    "                top_k_checkpoints = json.load(f)\n",
    "            \n",
    "            best_val_loss = min(history['validation_loss']) if history['validation_loss'] else float('inf')\n",
    "            \n",
    "            print(f\"Successfully resumed from epoch {start_epoch}. Previous best validation_loss: {best_val_loss:.4f}\")\n",
    "            # Ensure we don't re-run the last epoch\n",
    "            if start_epoch >= num_epochs:\n",
    "                print(\"Warning: Resumed from an epoch number >= num_epochs. Training will not run.\")\n",
    "\n",
    "    # ======================================================================================\n",
    "    # 3. LIVE PLOT SETUP\n",
    "    # ======================================================================================\n",
    "    plt.ion()\n",
    "    fig, (ax1, ax2) = plt.subplots(1, 2, figsize=(18, 6))\n",
    "    display_handle = display(fig, display_id=True)\n",
    "    fig.suptitle(f'Training {model_name}', fontsize=16)\n",
    "    fig_plot_path = os.path.join(checkpoint_dir, 'training_curves.png')\n",
    "\n",
    "    def update_live_plot(history_data):\n",
    "        # Loss subplot\n",
    "        ax1.clear()\n",
    "        ax1.plot(history_data['train_loss'], label='Train Loss')\n",
    "        ax1.plot(history_data['validation_loss'], label='Validation Loss')\n",
    "        ax1.set_title('Loss vs. Epochs')\n",
    "        ax1.set_xlabel('Epoch')\n",
    "        ax1.set_ylabel('Loss')\n",
    "        ax1.legend()\n",
    "        ax1.grid(True)\n",
    "        # Accuracy subplot\n",
    "        ax2.clear()\n",
    "        ax2.plot(history_data['train_acc'], label='Train Accuracy')\n",
    "        ax2.plot(history_data['validation_acc'], label='Validation Accuracy')\n",
    "        ax2.set_title('Accuracy vs. Epochs')\n",
    "        ax2.set_xlabel('Epoch')\n",
    "        ax2.set_ylabel('Accuracy')\n",
    "        ax2.legend()\n",
    "        ax2.grid(True)\n",
    "        \n",
    "        display_handle.update(fig)\n",
    "\n",
    "    # ======================================================================================\n",
    "    # 4. MAIN TRAINING LOOP\n",
    "    # ======================================================================================\n",
    "    print(f\"\\n--- Starting training from epoch {start_epoch + 1} to {num_epochs} ---\")\n",
    "    # Define the path for the stop signal file, located next to the script.\n",
    "    if stop_file_dir:\n",
    "        stop_file_path = os.path.join(stop_file_dir, 'STOP')\n",
    "\n",
    "    for epoch in range(start_epoch, num_epochs):\n",
    "        # <-- Stop signal check\n",
    "        if stop_file_dir and os.path.exists(stop_file_path):\n",
    "            print(f\"\\nStop signal file detected at \\n'{stop_file_path}'.\")\n",
    "            print(f\"Gracefully shutting down before epoch {epoch}...\")\n",
    "            os.rename(stop_file_path, stop_file_path + '_acknowledged')\n",
    "            clear_gpu_cache()\n",
    "            break\n",
    "\n",
    "        epoch_start_time = time.time()\n",
    "        print(f\"\\nEpoch {epoch+1}/{num_epochs}\\n\" + '-' * 15)\n",
    "\n",
    "        # Each epoch has a training and validation phase\n",
    "        for phase in ['train', 'validation']:\n",
    "            if phase == 'train':\n",
    "                model.train()\n",
    "            else:\n",
    "                model.eval()\n",
    "\n",
    "            running_loss = 0.0\n",
    "            running_corrects = 0\n",
    "\n",
    "            # Use tqdm for a progress bar over the data\n",
    "            progress_bar = tqdm(dataloaders[phase], desc=f\"{phase.capitalize()} Epoch {epoch+1}\")\n",
    "            for inputs, labels in progress_bar:\n",
    "                inputs, labels = inputs.to(DEVICE), labels.to(DEVICE)\n",
    "\n",
    "                optimizer.zero_grad()\n",
    "\n",
    "                with torch.set_grad_enabled(phase == 'train'):\n",
    "                    outputs = model(inputs)\n",
    "                    _, preds = torch.max(outputs, 1)\n",
    "                    loss = criterion(outputs, labels)\n",
    "\n",
    "                    if phase == 'train':\n",
    "                        loss.backward()\n",
    "                        optimizer.step()\n",
    "\n",
    "                running_loss += loss.item() * inputs.size(0)\n",
    "                running_corrects += torch.sum(preds == labels.data)\n",
    "                \n",
    "                # Update progress bar\n",
    "                progress_bar.set_postfix(\n",
    "                    loss=running_loss / (progress_bar.n + 1) / inputs.size(0),\n",
    "                    acc=running_corrects.double().item() / (progress_bar.n + 1) / inputs.size(0)\n",
    "                )\n",
    "\n",
    "            epoch_loss = running_loss / dataset_sizes[phase]\n",
    "            epoch_acc = running_corrects.double() / dataset_sizes[phase]\n",
    "\n",
    "            print(f'{phase.capitalize():<12} -> Loss: {epoch_loss:.4f} | Acc: {epoch_acc:.4f}')\n",
    "\n",
    "            # Store history for this epoch\n",
    "            history[f'{phase}_loss'].append(epoch_loss)\n",
    "            history[f'{phase}_acc'].append(epoch_acc.item())\n",
    "\n",
    "        # ======================================================================================\n",
    "        # 5. POST-EPOCH ACTIONS\n",
    "        # ======================================================================================\n",
    "        current_val_loss = history['validation_loss'][-1]\n",
    "        \n",
    "        # --- Update Live Plot and Persistent History ---\n",
    "        update_live_plot(history)\n",
    "        fig.savefig(fig_plot_path)\n",
    "        with open(history_path, 'w') as f:\n",
    "            json.dump(history, f, indent=4)\n",
    "        \n",
    "        # --- Learning Rate Scheduler ---\n",
    "        scheduler.step(current_val_loss)\n",
    "\n",
    "        # Create rich checkpoint dictionary\n",
    "        # Always save the state of the last completed epoch\n",
    "        checkpoint = {\n",
    "            'epoch': epoch + 1,\n",
    "            \"train_loss\": history['train_loss'][-1],\n",
    "            \"train_acc\": history['train_acc'][-1],\n",
    "            'validation_loss': current_val_loss,\n",
    "            \"validation_acc\": history['validation_acc'][-1],\n",
    "            'model_state_dict': model.state_dict(),\n",
    "            'optimizer_state_dict': optimizer.state_dict(),\n",
    "            'learning_rate': optimizer.param_groups[0]['lr'],\n",
    "        }\n",
    "\n",
    "        # --- Top-K Checkpointing Logic ---\n",
    "        is_best_so_far = len(top_k_checkpoints) < top_k or current_val_loss < top_k_checkpoints[-1]['loss']\n",
    "        if is_best_so_far:\n",
    "            # Define checkpoint path and save\n",
    "            ckpt_filename = f\"epoch_{epoch+1:03d}_valloss_{current_val_loss:.4f}.pth\"\n",
    "            save_path = os.path.join(checkpoint_dir, ckpt_filename)\n",
    "            \n",
    "            torch.save(checkpoint, save_path)\n",
    "            print(f\"✓ Top-K Checkpoint saved: {save_path}\")\n",
    "\n",
    "            # Add to top-k list and sort\n",
    "            top_k_checkpoints.append({'loss': current_val_loss, 'path': save_path})\n",
    "            top_k_checkpoints.sort(key=lambda x: x['loss'])\n",
    "\n",
    "            # If list is too long, remove the worst checkpoint\n",
    "            if len(top_k_checkpoints) > top_k:\n",
    "                worst_checkpoint = top_k_checkpoints.pop()\n",
    "                if os.path.exists(worst_checkpoint['path']):\n",
    "                    os.remove(worst_checkpoint['path'])\n",
    "                    print(f\"✗ Removed worst checkpoint: {os.path.basename(worst_checkpoint['path'])}\")\n",
    "        \n",
    "        # --- Save `last_epoch.pth` and `top_k_checkpoints.json` ---\n",
    "        # Always save the state of the last completed epoch\n",
    "\n",
    "        torch.save(checkpoint, last_ckpt_path)\n",
    "        # Persist the list of top-k models\n",
    "        with open(top_k_path, 'w') as f:\n",
    "            json.dump(top_k_checkpoints, f, indent=4)\n",
    "            \n",
    "        # --- Early Stopping ---\n",
    "        if current_val_loss < best_val_loss:\n",
    "            best_val_loss = current_val_loss\n",
    "            early_stopping_counter = 0\n",
    "        else:\n",
    "            early_stopping_counter += 1\n",
    "        \n",
    "        epoch_time = time.time() - epoch_start_time\n",
    "        print(f\"Epoch finished in {epoch_time:.2f}s. Early stopping counter: {early_stopping_counter}/{patience}\")\n",
    "\n",
    "        if early_stopping_counter >= patience:\n",
    "            print(f\"\\n! Early stopping triggered after {patience} epochs of no improvement.\")\n",
    "            break\n",
    "\n",
    "    # ======================================================================================\n",
    "    # 6. FINALIZATION\n",
    "    # ======================================================================================\n",
    "    plt.ioff() # Turn off interactive mode\n",
    "    update_live_plot(history) # Draw final plot\n",
    "    fig.savefig(fig_plot_path)\n",
    "    plt.close(fig) # Close the figure to avoid displaying it again\n",
    "\n",
    "    time_elapsed = time.time() - start_time\n",
    "    print(f'\\n--- Training complete in {time_elapsed // 60:.0f}m {time_elapsed % 60:.0f}s ---')\n",
    "    print(f'Final plot saved to: {fig_plot_path}')\n",
    "    print(f'Training history saved to: {history_path}')\n",
    "    \n",
    "    # ======================================================================================\n",
    "    # 7. RETURN BEST MODEL\n",
    "    # ======================================================================================\n",
    "    if not top_k_checkpoints:\n",
    "        print(\"\\nWarning: No checkpoints were saved. The model from the last epoch will be used.\")\n",
    "        # No return here! Let the code flow to the cleanup section.\n",
    "    else:\n",
    "        # This 'else' block makes the logic clearer\n",
    "        best_model_path = top_k_checkpoints[0]['path']\n",
    "        print(f\"\\nLoading best model weights from: {best_model_path}\")\n",
    "        best_checkpoint = torch.load(best_model_path, map_location=DEVICE)\n",
    "        model.load_state_dict(best_checkpoint['model_state_dict'])\n",
    "\n",
    "        print(\"\\n--- Top Checkpoints by Validation Loss ---\")\n",
    "        for i, ckpt in enumerate(top_k_checkpoints):\n",
    "            print(f\"{i+1}. Loss: {ckpt['loss']:.4f}, Path: {os.path.basename(ckpt['path'])}\")\n",
    "\n",
    "    # ======================================================================================\n",
    "    # 8. FINAL CLEANUP\n",
    "    # ======================================================================================\n",
    "    print(\"\\nPerforming automated final cleanup to free memory...\")\n",
    "    \n",
    "    # --- Stage 1: Define the small set of variables to PRESERVE ---\n",
    "    # These are the objects that must survive because they are returned to the caller.\n",
    "    vars_to_preserve = {'model', 'history'}\n",
    "\n",
    "    # --- Stage 2: Automatically identify and delete all other local variables ---\n",
    "    # We iterate over a copy of the local variable keys to avoid issues with\n",
    "    # modifying the dictionary while looping.\n",
    "    all_local_vars = list(locals().keys())\n",
    "    \n",
    "    deleted_count = 0\n",
    "    print(\"Cleaning up internal variables...\")\n",
    "    for var_name in all_local_vars:\n",
    "        # The key condition: delete it if it's NOT in our preserve list.\n",
    "        if var_name not in vars_to_preserve:\n",
    "            # We use 'del locals()[var_name]' to delete a variable by its string name.\n",
    "            # This is safe because locals() gives us the dictionary of this function's scope.\n",
    "            print(var_name)\n",
    "            try:\n",
    "                del locals()[var_name]\n",
    "                deleted_count += 1\n",
    "            except KeyError:\n",
    "                # This can happen in some edge cases, perfectly safe to ignore.\n",
    "                pass\n",
    "\n",
    "    print(f\"Successfully deleted {deleted_count} internal variables.\")\n",
    "\n",
    "    # --- Stage 3: Trigger garbage collection and empty CUDA cache ---\n",
    "    # Clear the PyTorch CUDA cache to free up reserved but unused VRAM\n",
    "    clear_gpu_cache()\n",
    "    # Run Python's garbage collector to reclaim memory from deleted objects\n",
    "    gc.collect()\n",
    "    \n",
    "    print(\"Internal cleanup complete. Returning best model and history.\")\n",
    "\n",
    "    return model, history"
   ]
  },
  {
   "cell_type": "markdown",
   "id": "64139969",
   "metadata": {},
   "source": [
    "### 4.3. Executing Training Runs\n",
    "\n",
    "This section is where we conduct our training experiments. We will follow a structured, scientific approach, training one model architecture at a time. This allows us to carefully observe the performance of each model and provides a clean framework for hyperparameter tuning.\n",
    "\n",
    "For each architecture, we will have a dedicated subsection. The results (best model and history) from each run will be stored in a unique, timestamped directory, ensuring that our experiments are reproducible and our results are never overwritten."
   ]
  },
  {
   "cell_type": "markdown",
   "id": "f5ba2fa0",
   "metadata": {},
   "source": [
    "#### 4.3.1. Experiment 1: SimpleCNN\n",
    "\n",
    "Our first set of experiments will focus on the baseline `SimpleCNN` model. The goal is to establish a benchmark performance level. We will start with a set of sensible default hyperparameters. Subsequent experiments in this subsection could involve tuning these hyperparameters to see if we can improve upon the baseline."
   ]
  },
  {
   "cell_type": "markdown",
   "id": "7e1711b5",
   "metadata": {},
   "source": [
    "##### 4.3.1.1. Run 1: Baseline Training for SimpleCNN\n",
    "\n",
    "This first run establishes our performance baseline. We are using a standard set of sensible hyperparameters without any advanced tuning. The goal is to see how well a standard CNN performs on our dataset \"out of the box.\" All subsequent architecture changes and tuning efforts will be measured against the results of this initial experiment."
   ]
  },
  {
   "cell_type": "code",
   "execution_count": 53,
   "id": "86ad4892",
   "metadata": {},
   "outputs": [
    {
     "name": "stdout",
     "output_type": "stream",
     "text": [
      "\n",
      "================================================================================\n",
      "STARTING EXPERIMENT: cnn_baseline\n",
      "Artifacts will be saved in: c:\\Users\\gilda\\OneDrive\\Documents\\My_Projects\\AI_Based_Projects\\shape-classifier-interview\\shape-classifier-pytorch\\..\\shape-classifier-artifacts\\shape-classifier-models\\ShapeClassifier\\cnn_baseline_20250811_174639\n",
      "================================================================================\n",
      "--- Experiment artifacts will be saved in: c:\\Users\\gilda\\OneDrive\\Documents\\My_Projects\\AI_Based_Projects\\shape-classifier-interview\\shape-classifier-pytorch\\..\\shape-classifier-artifacts\\shape-classifier-models\\ShapeClassifier\\cnn_baseline_20250811_174639 ---\n",
      "Hyperparameters for this run saved to: c:\\Users\\gilda\\OneDrive\\Documents\\My_Projects\\AI_Based_Projects\\shape-classifier-interview\\shape-classifier-pytorch\\..\\shape-classifier-artifacts\\shape-classifier-models\\ShapeClassifier\\cnn_baseline_20250811_174639\\config.json\n"
     ]
    },
    {
     "data": {
      "image/png": "[encoded data removed]",
      "text/plain": [
       "<Figure size 1800x600 with 2 Axes>"
      ]
     },
     "metadata": {},
     "output_type": "display_data"
    },
    {
     "name": "stdout",
     "output_type": "stream",
     "text": [
      "\n",
      "--- Starting training from epoch 1 to 50 ---\n",
      "\n",
      "Epoch 1/50\n",
      "---------------\n"
     ]
    },
    {
     "data": {
      "application/vnd.jupyter.widget-view+json": {
       "model_id": "3835e2f627bd42c08a8e17ecdba21dbd",
       "version_major": 2,
       "version_minor": 0
      },
      "text/plain": [
       "Train Epoch 1:   0%|          | 0/132 [00:00<?, ?it/s]"
      ]
     },
     "metadata": {},
     "output_type": "display_data"
    },
    {
     "name": "stdout",
     "output_type": "stream",
     "text": [
      "Train        -> Loss: 0.4621 | Acc: 0.8038\n"
     ]
    },
    {
     "data": {
      "application/vnd.jupyter.widget-view+json": {
       "model_id": "5dce29370cec46dfb6110e0e308af059",
       "version_major": 2,
       "version_minor": 0
      },
      "text/plain": [
       "Validation Epoch 1:   0%|          | 0/29 [00:00<?, ?it/s]"
      ]
     },
     "metadata": {},
     "output_type": "display_data"
    },
    {
     "name": "stdout",
     "output_type": "stream",
     "text": [
      "Validation   -> Loss: 0.1694 | Acc: 0.9456\n",
      "✓ Top-K Checkpoint saved: c:\\Users\\gilda\\OneDrive\\Documents\\My_Projects\\AI_Based_Projects\\shape-classifier-interview\\shape-classifier-pytorch\\..\\shape-classifier-artifacts\\shape-classifier-models\\ShapeClassifier\\cnn_baseline_20250811_174639\\epoch_001_valloss_0.1694.pth\n",
      "Epoch finished in 2.33s. Early stopping counter: 0/7\n",
      "\n",
      "Epoch 2/50\n",
      "---------------\n"
     ]
    },
    {
     "data": {
      "application/vnd.jupyter.widget-view+json": {
       "model_id": "28044b6f9c3f472e895d6816f65b1bb8",
       "version_major": 2,
       "version_minor": 0
      },
      "text/plain": [
       "Train Epoch 2:   0%|          | 0/132 [00:00<?, ?it/s]"
      ]
     },
     "metadata": {},
     "output_type": "display_data"
    },
    {
     "name": "stdout",
     "output_type": "stream",
     "text": [
      "Train        -> Loss: 0.1255 | Acc: 0.9576\n"
     ]
    },
    {
     "data": {
      "application/vnd.jupyter.widget-view+json": {
       "model_id": "8056dbf3b7594559b806d6cda3fc93e4",
       "version_major": 2,
       "version_minor": 0
      },
      "text/plain": [
       "Validation Epoch 2:   0%|          | 0/29 [00:00<?, ?it/s]"
      ]
     },
     "metadata": {},
     "output_type": "display_data"
    },
    {
     "name": "stdout",
     "output_type": "stream",
     "text": [
      "Validation   -> Loss: 0.0832 | Acc: 0.9700\n",
      "✓ Top-K Checkpoint saved: c:\\Users\\gilda\\OneDrive\\Documents\\My_Projects\\AI_Based_Projects\\shape-classifier-interview\\shape-classifier-pytorch\\..\\shape-classifier-artifacts\\shape-classifier-models\\ShapeClassifier\\cnn_baseline_20250811_174639\\epoch_002_valloss_0.0832.pth\n",
      "Epoch finished in 2.17s. Early stopping counter: 0/7\n",
      "\n",
      "Epoch 3/50\n",
      "---------------\n"
     ]
    },
    {
     "data": {
      "application/vnd.jupyter.widget-view+json": {
       "model_id": "a1cf5e7628654178aa1336a8d6d4b7ff",
       "version_major": 2,
       "version_minor": 0
      },
      "text/plain": [
       "Train Epoch 3:   0%|          | 0/132 [00:00<?, ?it/s]"
      ]
     },
     "metadata": {},
     "output_type": "display_data"
    },
    {
     "name": "stdout",
     "output_type": "stream",
     "text": [
      "Train        -> Loss: 0.0414 | Acc: 0.9864\n"
     ]
    },
    {
     "data": {
      "application/vnd.jupyter.widget-view+json": {
       "model_id": "1cd37ed8651f4b74900a8594c14b1065",
       "version_major": 2,
       "version_minor": 0
      },
      "text/plain": [
       "Validation Epoch 3:   0%|          | 0/29 [00:00<?, ?it/s]"
      ]
     },
     "metadata": {},
     "output_type": "display_data"
    },
    {
     "name": "stdout",
     "output_type": "stream",
     "text": [
      "Validation   -> Loss: 0.0458 | Acc: 0.9822\n",
      "✓ Top-K Checkpoint saved: c:\\Users\\gilda\\OneDrive\\Documents\\My_Projects\\AI_Based_Projects\\shape-classifier-interview\\shape-classifier-pytorch\\..\\shape-classifier-artifacts\\shape-classifier-models\\ShapeClassifier\\cnn_baseline_20250811_174639\\epoch_003_valloss_0.0458.pth\n",
      "Epoch finished in 2.14s. Early stopping counter: 0/7\n",
      "\n",
      "Epoch 4/50\n",
      "---------------\n"
     ]
    },
    {
     "data": {
      "application/vnd.jupyter.widget-view+json": {
       "model_id": "fe9ebf66a1ce4b69b5f5915340e70fe8",
       "version_major": 2,
       "version_minor": 0
      },
      "text/plain": [
       "Train Epoch 4:   0%|          | 0/132 [00:00<?, ?it/s]"
      ]
     },
     "metadata": {},
     "output_type": "display_data"
    },
    {
     "name": "stdout",
     "output_type": "stream",
     "text": [
      "Train        -> Loss: 0.0251 | Acc: 0.9938\n"
     ]
    },
    {
     "data": {
      "application/vnd.jupyter.widget-view+json": {
       "model_id": "8f53f9b1c86c4e3ca19fe62686d31ed0",
       "version_major": 2,
       "version_minor": 0
      },
      "text/plain": [
       "Validation Epoch 4:   0%|          | 0/29 [00:00<?, ?it/s]"
      ]
     },
     "metadata": {},
     "output_type": "display_data"
    },
    {
     "name": "stdout",
     "output_type": "stream",
     "text": [
      "Validation   -> Loss: 0.0472 | Acc: 0.9889\n",
      "✓ Top-K Checkpoint saved: c:\\Users\\gilda\\OneDrive\\Documents\\My_Projects\\AI_Based_Projects\\shape-classifier-interview\\shape-classifier-pytorch\\..\\shape-classifier-artifacts\\shape-classifier-models\\ShapeClassifier\\cnn_baseline_20250811_174639\\epoch_004_valloss_0.0472.pth\n",
      "✗ Removed worst checkpoint: epoch_001_valloss_0.1694.pth\n",
      "Epoch finished in 2.24s. Early stopping counter: 1/7\n",
      "\n",
      "Epoch 5/50\n",
      "---------------\n"
     ]
    },
    {
     "data": {
      "application/vnd.jupyter.widget-view+json": {
       "model_id": "2ad47b536a9849bc89f34a3099594d51",
       "version_major": 2,
       "version_minor": 0
      },
      "text/plain": [
       "Train Epoch 5:   0%|          | 0/132 [00:00<?, ?it/s]"
      ]
     },
     "metadata": {},
     "output_type": "display_data"
    },
    {
     "name": "stdout",
     "output_type": "stream",
     "text": [
      "Train        -> Loss: 0.0127 | Acc: 0.9957\n"
     ]
    },
    {
     "data": {
      "application/vnd.jupyter.widget-view+json": {
       "model_id": "6d3074716c1843bda973098da4079235",
       "version_major": 2,
       "version_minor": 0
      },
      "text/plain": [
       "Validation Epoch 5:   0%|          | 0/29 [00:00<?, ?it/s]"
      ]
     },
     "metadata": {},
     "output_type": "display_data"
    },
    {
     "name": "stdout",
     "output_type": "stream",
     "text": [
      "Validation   -> Loss: 0.0239 | Acc: 0.9922\n",
      "✓ Top-K Checkpoint saved: c:\\Users\\gilda\\OneDrive\\Documents\\My_Projects\\AI_Based_Projects\\shape-classifier-interview\\shape-classifier-pytorch\\..\\shape-classifier-artifacts\\shape-classifier-models\\ShapeClassifier\\cnn_baseline_20250811_174639\\epoch_005_valloss_0.0239.pth\n",
      "✗ Removed worst checkpoint: epoch_002_valloss_0.0832.pth\n",
      "Epoch finished in 2.77s. Early stopping counter: 0/7\n",
      "\n",
      "Epoch 6/50\n",
      "---------------\n"
     ]
    },
    {
     "data": {
      "application/vnd.jupyter.widget-view+json": {
       "model_id": "785d8599e26f49248998c89ba887c67e",
       "version_major": 2,
       "version_minor": 0
      },
      "text/plain": [
       "Train Epoch 6:   0%|          | 0/132 [00:00<?, ?it/s]"
      ]
     },
     "metadata": {},
     "output_type": "display_data"
    },
    {
     "name": "stdout",
     "output_type": "stream",
     "text": [
      "Train        -> Loss: 0.0029 | Acc: 0.9993\n"
     ]
    },
    {
     "data": {
      "application/vnd.jupyter.widget-view+json": {
       "model_id": "e600a310f69744cea14b57cd4a576705",
       "version_major": 2,
       "version_minor": 0
      },
      "text/plain": [
       "Validation Epoch 6:   0%|          | 0/29 [00:00<?, ?it/s]"
      ]
     },
     "metadata": {},
     "output_type": "display_data"
    },
    {
     "name": "stdout",
     "output_type": "stream",
     "text": [
      "Validation   -> Loss: 0.0225 | Acc: 0.9933\n",
      "✓ Top-K Checkpoint saved: c:\\Users\\gilda\\OneDrive\\Documents\\My_Projects\\AI_Based_Projects\\shape-classifier-interview\\shape-classifier-pytorch\\..\\shape-classifier-artifacts\\shape-classifier-models\\ShapeClassifier\\cnn_baseline_20250811_174639\\epoch_006_valloss_0.0225.pth\n",
      "✗ Removed worst checkpoint: epoch_004_valloss_0.0472.pth\n",
      "Epoch finished in 2.67s. Early stopping counter: 0/7\n",
      "\n",
      "Epoch 7/50\n",
      "---------------\n"
     ]
    },
    {
     "data": {
      "application/vnd.jupyter.widget-view+json": {
       "model_id": "e78bf838eab94ebf9537839fa6097717",
       "version_major": 2,
       "version_minor": 0
      },
      "text/plain": [
       "Train Epoch 7:   0%|          | 0/132 [00:00<?, ?it/s]"
      ]
     },
     "metadata": {},
     "output_type": "display_data"
    },
    {
     "name": "stdout",
     "output_type": "stream",
     "text": [
      "Train        -> Loss: 0.0052 | Acc: 0.9981\n"
     ]
    },
    {
     "data": {
      "application/vnd.jupyter.widget-view+json": {
       "model_id": "892caa879f4e4a9b8b077013fc59da77",
       "version_major": 2,
       "version_minor": 0
      },
      "text/plain": [
       "Validation Epoch 7:   0%|          | 0/29 [00:00<?, ?it/s]"
      ]
     },
     "metadata": {},
     "output_type": "display_data"
    },
    {
     "name": "stdout",
     "output_type": "stream",
     "text": [
      "Validation   -> Loss: 0.0189 | Acc: 0.9933\n",
      "✓ Top-K Checkpoint saved: c:\\Users\\gilda\\OneDrive\\Documents\\My_Projects\\AI_Based_Projects\\shape-classifier-interview\\shape-classifier-pytorch\\..\\shape-classifier-artifacts\\shape-classifier-models\\ShapeClassifier\\cnn_baseline_20250811_174639\\epoch_007_valloss_0.0189.pth\n",
      "✗ Removed worst checkpoint: epoch_003_valloss_0.0458.pth\n",
      "Epoch finished in 2.63s. Early stopping counter: 0/7\n",
      "\n",
      "Epoch 8/50\n",
      "---------------\n"
     ]
    },
    {
     "data": {
      "application/vnd.jupyter.widget-view+json": {
       "model_id": "a6fa77a1d84b40d1acc56c57d3902aff",
       "version_major": 2,
       "version_minor": 0
      },
      "text/plain": [
       "Train Epoch 8:   0%|          | 0/132 [00:00<?, ?it/s]"
      ]
     },
     "metadata": {},
     "output_type": "display_data"
    },
    {
     "name": "stdout",
     "output_type": "stream",
     "text": [
      "Train        -> Loss: 0.0230 | Acc: 0.9931\n"
     ]
    },
    {
     "data": {
      "application/vnd.jupyter.widget-view+json": {
       "model_id": "ee842b86b2a845fbaca7b87b05c6ef41",
       "version_major": 2,
       "version_minor": 0
      },
      "text/plain": [
       "Validation Epoch 8:   0%|          | 0/29 [00:00<?, ?it/s]"
      ]
     },
     "metadata": {},
     "output_type": "display_data"
    },
    {
     "name": "stdout",
     "output_type": "stream",
     "text": [
      "Validation   -> Loss: 0.0268 | Acc: 0.9933\n",
      "Epoch finished in 2.66s. Early stopping counter: 1/7\n",
      "\n",
      "Epoch 9/50\n",
      "---------------\n"
     ]
    },
    {
     "data": {
      "application/vnd.jupyter.widget-view+json": {
       "model_id": "11eca002380748a39a6456f3a33f3fed",
       "version_major": 2,
       "version_minor": 0
      },
      "text/plain": [
       "Train Epoch 9:   0%|          | 0/132 [00:00<?, ?it/s]"
      ]
     },
     "metadata": {},
     "output_type": "display_data"
    },
    {
     "name": "stdout",
     "output_type": "stream",
     "text": [
      "Train        -> Loss: 0.0088 | Acc: 0.9979\n"
     ]
    },
    {
     "data": {
      "application/vnd.jupyter.widget-view+json": {
       "model_id": "57b444c99cda4bf6a96953340f94d3e6",
       "version_major": 2,
       "version_minor": 0
      },
      "text/plain": [
       "Validation Epoch 9:   0%|          | 0/29 [00:00<?, ?it/s]"
      ]
     },
     "metadata": {},
     "output_type": "display_data"
    },
    {
     "name": "stdout",
     "output_type": "stream",
     "text": [
      "Validation   -> Loss: 0.0154 | Acc: 0.9944\n",
      "✓ Top-K Checkpoint saved: c:\\Users\\gilda\\OneDrive\\Documents\\My_Projects\\AI_Based_Projects\\shape-classifier-interview\\shape-classifier-pytorch\\..\\shape-classifier-artifacts\\shape-classifier-models\\ShapeClassifier\\cnn_baseline_20250811_174639\\epoch_009_valloss_0.0154.pth\n",
      "✗ Removed worst checkpoint: epoch_005_valloss_0.0239.pth\n",
      "Epoch finished in 2.64s. Early stopping counter: 0/7\n",
      "\n",
      "Epoch 10/50\n",
      "---------------\n"
     ]
    },
    {
     "data": {
      "application/vnd.jupyter.widget-view+json": {
       "model_id": "eb5b4a2530634743a817a5259238eb2f",
       "version_major": 2,
       "version_minor": 0
      },
      "text/plain": [
       "Train Epoch 10:   0%|          | 0/132 [00:00<?, ?it/s]"
      ]
     },
     "metadata": {},
     "output_type": "display_data"
    },
    {
     "name": "stdout",
     "output_type": "stream",
     "text": [
      "Train        -> Loss: 0.0015 | Acc: 0.9998\n"
     ]
    },
    {
     "data": {
      "application/vnd.jupyter.widget-view+json": {
       "model_id": "a9364a48580c4cc4ba7581f73396fa16",
       "version_major": 2,
       "version_minor": 0
      },
      "text/plain": [
       "Validation Epoch 10:   0%|          | 0/29 [00:00<?, ?it/s]"
      ]
     },
     "metadata": {},
     "output_type": "display_data"
    },
    {
     "name": "stdout",
     "output_type": "stream",
     "text": [
      "Validation   -> Loss: 0.0177 | Acc: 0.9933\n",
      "✓ Top-K Checkpoint saved: c:\\Users\\gilda\\OneDrive\\Documents\\My_Projects\\AI_Based_Projects\\shape-classifier-interview\\shape-classifier-pytorch\\..\\shape-classifier-artifacts\\shape-classifier-models\\ShapeClassifier\\cnn_baseline_20250811_174639\\epoch_010_valloss_0.0177.pth\n",
      "✗ Removed worst checkpoint: epoch_006_valloss_0.0225.pth\n",
      "Epoch finished in 2.62s. Early stopping counter: 1/7\n",
      "\n",
      "Epoch 11/50\n",
      "---------------\n"
     ]
    },
    {
     "data": {
      "application/vnd.jupyter.widget-view+json": {
       "model_id": "d3ab697a8c644aa69b0acb40784cb236",
       "version_major": 2,
       "version_minor": 0
      },
      "text/plain": [
       "Train Epoch 11:   0%|          | 0/132 [00:00<?, ?it/s]"
      ]
     },
     "metadata": {},
     "output_type": "display_data"
    },
    {
     "name": "stdout",
     "output_type": "stream",
     "text": [
      "Train        -> Loss: 0.0042 | Acc: 0.9990\n"
     ]
    },
    {
     "data": {
      "application/vnd.jupyter.widget-view+json": {
       "model_id": "67c7bc8bf47a42a5b734acddc13e703e",
       "version_major": 2,
       "version_minor": 0
      },
      "text/plain": [
       "Validation Epoch 11:   0%|          | 0/29 [00:00<?, ?it/s]"
      ]
     },
     "metadata": {},
     "output_type": "display_data"
    },
    {
     "name": "stdout",
     "output_type": "stream",
     "text": [
      "Validation   -> Loss: 0.0212 | Acc: 0.9933\n",
      "Epoch finished in 2.57s. Early stopping counter: 2/7\n",
      "\n",
      "Epoch 12/50\n",
      "---------------\n"
     ]
    },
    {
     "data": {
      "application/vnd.jupyter.widget-view+json": {
       "model_id": "1034adfb5aaa4341b228654780acce57",
       "version_major": 2,
       "version_minor": 0
      },
      "text/plain": [
       "Train Epoch 12:   0%|          | 0/132 [00:00<?, ?it/s]"
      ]
     },
     "metadata": {},
     "output_type": "display_data"
    },
    {
     "name": "stdout",
     "output_type": "stream",
     "text": [
      "Train        -> Loss: 0.0029 | Acc: 0.9993\n"
     ]
    },
    {
     "data": {
      "application/vnd.jupyter.widget-view+json": {
       "model_id": "33d6f19aa84d4bf6aeb82673273b1592",
       "version_major": 2,
       "version_minor": 0
      },
      "text/plain": [
       "Validation Epoch 12:   0%|          | 0/29 [00:00<?, ?it/s]"
      ]
     },
     "metadata": {},
     "output_type": "display_data"
    },
    {
     "name": "stdout",
     "output_type": "stream",
     "text": [
      "Validation   -> Loss: 0.0219 | Acc: 0.9944\n",
      "Epoch finished in 2.65s. Early stopping counter: 3/7\n",
      "\n",
      "Epoch 13/50\n",
      "---------------\n"
     ]
    },
    {
     "data": {
      "application/vnd.jupyter.widget-view+json": {
       "model_id": "f621036238bf474680237ef845a35907",
       "version_major": 2,
       "version_minor": 0
      },
      "text/plain": [
       "Train Epoch 13:   0%|          | 0/132 [00:00<?, ?it/s]"
      ]
     },
     "metadata": {},
     "output_type": "display_data"
    },
    {
     "name": "stdout",
     "output_type": "stream",
     "text": [
      "Train        -> Loss: 0.0005 | Acc: 1.0000\n"
     ]
    },
    {
     "data": {
      "application/vnd.jupyter.widget-view+json": {
       "model_id": "50edbe10d59f469983384fdc02d806c2",
       "version_major": 2,
       "version_minor": 0
      },
      "text/plain": [
       "Validation Epoch 13:   0%|          | 0/29 [00:00<?, ?it/s]"
      ]
     },
     "metadata": {},
     "output_type": "display_data"
    },
    {
     "name": "stdout",
     "output_type": "stream",
     "text": [
      "Validation   -> Loss: 0.0265 | Acc: 0.9922\n",
      "Epoch finished in 2.63s. Early stopping counter: 4/7\n",
      "\n",
      "Epoch 14/50\n",
      "---------------\n"
     ]
    },
    {
     "data": {
      "application/vnd.jupyter.widget-view+json": {
       "model_id": "6fcf60bd3fd44d039f28f8babbb37b00",
       "version_major": 2,
       "version_minor": 0
      },
      "text/plain": [
       "Train Epoch 14:   0%|          | 0/132 [00:00<?, ?it/s]"
      ]
     },
     "metadata": {},
     "output_type": "display_data"
    },
    {
     "name": "stdout",
     "output_type": "stream",
     "text": [
      "Train        -> Loss: 0.0013 | Acc: 0.9995\n"
     ]
    },
    {
     "data": {
      "application/vnd.jupyter.widget-view+json": {
       "model_id": "fef2b858ee6d476c9e67d5a3d888a473",
       "version_major": 2,
       "version_minor": 0
      },
      "text/plain": [
       "Validation Epoch 14:   0%|          | 0/29 [00:00<?, ?it/s]"
      ]
     },
     "metadata": {},
     "output_type": "display_data"
    },
    {
     "name": "stdout",
     "output_type": "stream",
     "text": [
      "Validation   -> Loss: 0.0234 | Acc: 0.9933\n",
      "Epoch finished in 2.61s. Early stopping counter: 5/7\n",
      "\n",
      "Epoch 15/50\n",
      "---------------\n"
     ]
    },
    {
     "data": {
      "application/vnd.jupyter.widget-view+json": {
       "model_id": "19e39128e5854689a3fb3e58bc48f612",
       "version_major": 2,
       "version_minor": 0
      },
      "text/plain": [
       "Train Epoch 15:   0%|          | 0/132 [00:00<?, ?it/s]"
      ]
     },
     "metadata": {},
     "output_type": "display_data"
    },
    {
     "name": "stdout",
     "output_type": "stream",
     "text": [
      "Train        -> Loss: 0.0009 | Acc: 0.9998\n"
     ]
    },
    {
     "data": {
      "application/vnd.jupyter.widget-view+json": {
       "model_id": "6e182ab5e925455d9bc4bd44a17ed902",
       "version_major": 2,
       "version_minor": 0
      },
      "text/plain": [
       "Validation Epoch 15:   0%|          | 0/29 [00:00<?, ?it/s]"
      ]
     },
     "metadata": {},
     "output_type": "display_data"
    },
    {
     "name": "stdout",
     "output_type": "stream",
     "text": [
      "Validation   -> Loss: 0.0219 | Acc: 0.9933\n",
      "Epoch finished in 2.58s. Early stopping counter: 6/7\n",
      "\n",
      "Epoch 16/50\n",
      "---------------\n"
     ]
    },
    {
     "data": {
      "application/vnd.jupyter.widget-view+json": {
       "model_id": "7cd9d1aae9a04f08a7163f211eb8fcb1",
       "version_major": 2,
       "version_minor": 0
      },
      "text/plain": [
       "Train Epoch 16:   0%|          | 0/132 [00:00<?, ?it/s]"
      ]
     },
     "metadata": {},
     "output_type": "display_data"
    },
    {
     "name": "stdout",
     "output_type": "stream",
     "text": [
      "Train        -> Loss: 0.0003 | Acc: 1.0000\n"
     ]
    },
    {
     "data": {
      "application/vnd.jupyter.widget-view+json": {
       "model_id": "a677af03cffa4260bf0fa840f6d3aa98",
       "version_major": 2,
       "version_minor": 0
      },
      "text/plain": [
       "Validation Epoch 16:   0%|          | 0/29 [00:00<?, ?it/s]"
      ]
     },
     "metadata": {},
     "output_type": "display_data"
    },
    {
     "name": "stdout",
     "output_type": "stream",
     "text": [
      "Validation   -> Loss: 0.0211 | Acc: 0.9944\n",
      "Epoch finished in 2.63s. Early stopping counter: 7/7\n",
      "\n",
      "! Early stopping triggered after 7 epochs of no improvement.\n",
      "\n",
      "--- Training complete in 0m 41s ---\n",
      "Final plot saved to: c:\\Users\\gilda\\OneDrive\\Documents\\My_Projects\\AI_Based_Projects\\shape-classifier-interview\\shape-classifier-pytorch\\..\\shape-classifier-artifacts\\shape-classifier-models\\ShapeClassifier\\cnn_baseline_20250811_174639\\training_curves.png\n",
      "Training history saved to: c:\\Users\\gilda\\OneDrive\\Documents\\My_Projects\\AI_Based_Projects\\shape-classifier-interview\\shape-classifier-pytorch\\..\\shape-classifier-artifacts\\shape-classifier-models\\ShapeClassifier\\cnn_baseline_20250811_174639\\history.json\n",
      "\n",
      "Loading best model weights from: c:\\Users\\gilda\\OneDrive\\Documents\\My_Projects\\AI_Based_Projects\\shape-classifier-interview\\shape-classifier-pytorch\\..\\shape-classifier-artifacts\\shape-classifier-models\\ShapeClassifier\\cnn_baseline_20250811_174639\\epoch_009_valloss_0.0154.pth\n",
      "\n",
      "--- Top Checkpoints by Validation Loss ---\n",
      "1. Loss: 0.0154, Path: epoch_009_valloss_0.0154.pth\n",
      "2. Loss: 0.0177, Path: epoch_010_valloss_0.0177.pth\n",
      "3. Loss: 0.0189, Path: epoch_007_valloss_0.0189.pth\n",
      "\n",
      "Performing automated final cleanup to free memory...\n",
      "Cleaning up internal variables...\n",
      "model_name\n",
      "hyperparams\n",
      "dataloaders\n",
      "criterion\n",
      "learning_rate\n",
      "num_epochs\n",
      "checkpoint_dir\n",
      "stop_file_dir\n",
      "resume_from\n",
      "top_k\n",
      "patience\n",
      "start_time\n",
      "config_path\n",
      "f\n",
      "optimizer\n",
      "scheduler\n",
      "start_epoch\n",
      "top_k_checkpoints\n",
      "best_val_loss\n",
      "early_stopping_counter\n",
      "history_path\n",
      "top_k_path\n",
      "last_ckpt_path\n",
      "checkpoint\n",
      "fig_plot_path\n",
      "update_live_plot\n",
      "epoch\n",
      "epoch_start_time\n",
      "phase\n",
      "running_loss\n",
      "running_corrects\n",
      "progress_bar\n",
      "inputs\n",
      "labels\n",
      "outputs\n",
      "_\n",
      "preds\n",
      "loss\n",
      "epoch_loss\n",
      "epoch_acc\n",
      "current_val_loss\n",
      "is_best_so_far\n",
      "ckpt_filename\n",
      "save_path\n",
      "worst_checkpoint\n",
      "epoch_time\n",
      "time_elapsed\n",
      "best_model_path\n",
      "best_checkpoint\n",
      "i\n",
      "ckpt\n",
      "vars_to_preserve\n",
      "ax1\n",
      "ax2\n",
      "display_handle\n",
      "fig\n",
      "Successfully deleted 56 internal variables.\n",
      "Internal cleanup complete. Returning best model and history.\n",
      "\n",
      "Results for this run have been saved to disk.\n",
      "Not retaining model or history in notebook memory.\n"
     ]
    },
    {
     "data": {
      "text/plain": [
       "16"
      ]
     },
     "execution_count": 53,
     "metadata": {},
     "output_type": "execute_result"
    }
   ],
   "source": [
    "# ===================================================================\n",
    "# 4.3.1.1. Run 1: Baseline Training for SimpleCNN\n",
    "# ===================================================================\n",
    "\n",
    "# --- 1. Define Hyperparameters for this specific run ---\n",
    "# We store these in a dictionary to pass to our training function for logging.\n",
    "hyperparams_cnn_run_01 = {\n",
    "    'model_name': 'cnn_baseline',\n",
    "    'learning_rate': 0.001,\n",
    "    'batch_size': BATCH_SIZE, # Using global constant\n",
    "    'num_epochs': 50,         # Max epochs\n",
    "    'patience': 7,            # For early stopping\n",
    "    'optimizer': 'Adam',\n",
    "    'scheduler': 'ReduceLROnPlateau',\n",
    "    'model_architecture': 'SimpleCNN',\n",
    "    'notes': 'First baseline training run with standard parameters.'\n",
    "}\n",
    "\n",
    "# --- 2. Instantiate a fresh model ---\n",
    "# This ensures we are not using a model that has been partially trained.\n",
    "cnn_model_run_01 = SimpleCNN(num_classes=NUM_CLASSES).to(DEVICE)\n",
    "\n",
    "# --- 3. Create the unique experiment directory ---\n",
    "timestamp = datetime.now().strftime(\"%Y%m%d_%H%M%S\")\n",
    "experiment_dir_cnn_run_01 = os.path.join(\n",
    "    MODEL_CHECKPOINT_DIR, \n",
    "    f\"{hyperparams_cnn_run_01['model_name']}_{timestamp}\"\n",
    ")\n",
    "\n",
    "# --- 4. Execute the training run ---\n",
    "print(\"\\n\" + \"=\"*80)\n",
    "print(f\"STARTING EXPERIMENT: {hyperparams_cnn_run_01['model_name']}\")\n",
    "print(f\"Artifacts will be saved in: {experiment_dir_cnn_run_01}\")\n",
    "print(\"=\"*80)\n",
    "\n",
    "# Call our robust training function\n",
    "best_cnn_model, cnn_history = train_model(\n",
    "    model=cnn_model_run_01,\n",
    "    model_name=hyperparams_cnn_run_01['model_name'],\n",
    "    hyperparams=hyperparams_cnn_run_01,\n",
    "    dataloaders=dataloaders,\n",
    "    criterion=criterion,\n",
    "    learning_rate=hyperparams_cnn_run_01['learning_rate'],\n",
    "    num_epochs=hyperparams_cnn_run_01['num_epochs'],\n",
    "    checkpoint_dir=experiment_dir_cnn_run_01,\n",
    "    patience=hyperparams_cnn_run_01['patience']\n",
    ")\n",
    "\n",
    "# --- 5. Do NOT store results in memory ---\n",
    "# The train_model function has saved all necessary artifacts (best model, history, config)\n",
    "# to the unique experiment directory on disk. We will load them from there for evaluation.\n",
    "print(\"\\nResults for this run have been saved to disk.\")\n",
    "print(\"Not retaining model or history in notebook memory.\")\n",
    "\n",
    "# --- 6. Final cleanup ---\n",
    "# Explicitly delete all large objects from this run to free memory.\n",
    "del hyperparams_cnn_run_01\n",
    "del best_cnn_model\n",
    "del cnn_history\n",
    "del cnn_model_run_01\n",
    "clear_gpu_cache()\n",
    "gc.collect()"
   ]
  },
  {
   "cell_type": "markdown",
   "id": "25ffa21c",
   "metadata": {},
   "source": [
    "#### 4.3.2. Experiment 2: SimpleResNet\n",
    "\n",
    "Our second experiment focuses on the `SimpleResNet` model. By introducing residual (or \"skip\") connections, this architecture should be able to learn more complex features than our baseline CNN. We will use the same set of standard hyperparameters to ensure a fair comparison against the CNN's performance."
   ]
  },
  {
   "cell_type": "markdown",
   "id": "ce52dc73",
   "metadata": {},
   "source": [
    "##### 4.3.2.1. Run 1: Baseline Training\n",
    "\n",
    "This is the baseline training run for the `SimpleResNet`. The results will show us what performance gain, if any, is achieved by using a deeper, more complex architecture with residual connections, holding all other training conditions equal."
   ]
  },
  {
   "cell_type": "code",
   "execution_count": 56,
   "id": "8c419a54",
   "metadata": {},
   "outputs": [
    {
     "name": "stdout",
     "output_type": "stream",
     "text": [
      "\n",
      "================================================================================\n",
      "STARTING EXPERIMENT: resnet_baseline\n",
      "Artifacts will be saved in: c:\\Users\\gilda\\OneDrive\\Documents\\My_Projects\\AI_Based_Projects\\shape-classifier-interview\\shape-classifier-pytorch\\..\\shape-classifier-artifacts\\shape-classifier-models\\ShapeClassifier\\resnet_baseline_20250811_180012\n",
      "================================================================================\n",
      "--- Experiment artifacts will be saved in: c:\\Users\\gilda\\OneDrive\\Documents\\My_Projects\\AI_Based_Projects\\shape-classifier-interview\\shape-classifier-pytorch\\..\\shape-classifier-artifacts\\shape-classifier-models\\ShapeClassifier\\resnet_baseline_20250811_180012 ---\n",
      "Hyperparameters for this run saved to: c:\\Users\\gilda\\OneDrive\\Documents\\My_Projects\\AI_Based_Projects\\shape-classifier-interview\\shape-classifier-pytorch\\..\\shape-classifier-artifacts\\shape-classifier-models\\ShapeClassifier\\resnet_baseline_20250811_180012\\config.json\n"
     ]
    },
    {
     "data": {
      "image/png": "[encoded data removed]",
      "text/plain": [
       "<Figure size 1800x600 with 2 Axes>"
      ]
     },
     "metadata": {},
     "output_type": "display_data"
    },
    {
     "name": "stdout",
     "output_type": "stream",
     "text": [
      "\n",
      "--- Starting training from epoch 1 to 100 ---\n",
      "\n",
      "Epoch 1/100\n",
      "---------------\n"
     ]
    },
    {
     "data": {
      "application/vnd.jupyter.widget-view+json": {
       "model_id": "a8d664da18dd4bc08506aaf357370b79",
       "version_major": 2,
       "version_minor": 0
      },
      "text/plain": [
       "Train Epoch 1:   0%|          | 0/132 [00:00<?, ?it/s]"
      ]
     },
     "metadata": {},
     "output_type": "display_data"
    },
    {
     "name": "stdout",
     "output_type": "stream",
     "text": [
      "Train        -> Loss: 0.3647 | Acc: 0.8855\n"
     ]
    },
    {
     "data": {
      "application/vnd.jupyter.widget-view+json": {
       "model_id": "d307ee6580b94a5797767f5f7a3ad0ba",
       "version_major": 2,
       "version_minor": 0
      },
      "text/plain": [
       "Validation Epoch 1:   0%|          | 0/29 [00:00<?, ?it/s]"
      ]
     },
     "metadata": {},
     "output_type": "display_data"
    },
    {
     "name": "stdout",
     "output_type": "stream",
     "text": [
      "Validation   -> Loss: 0.1450 | Acc: 0.9756\n",
      "✓ Top-K Checkpoint saved: c:\\Users\\gilda\\OneDrive\\Documents\\My_Projects\\AI_Based_Projects\\shape-classifier-interview\\shape-classifier-pytorch\\..\\shape-classifier-artifacts\\shape-classifier-models\\ShapeClassifier\\resnet_baseline_20250811_180012\\epoch_001_valloss_0.1450.pth\n",
      "Epoch finished in 3.22s. Early stopping counter: 0/7\n",
      "\n",
      "Epoch 2/100\n",
      "---------------\n"
     ]
    },
    {
     "data": {
      "application/vnd.jupyter.widget-view+json": {
       "model_id": "a4cba148b9bd406ea8221b0370e657ab",
       "version_major": 2,
       "version_minor": 0
      },
      "text/plain": [
       "Train Epoch 2:   0%|          | 0/132 [00:00<?, ?it/s]"
      ]
     },
     "metadata": {},
     "output_type": "display_data"
    },
    {
     "name": "stdout",
     "output_type": "stream",
     "text": [
      "Train        -> Loss: 0.0596 | Acc: 0.9893\n"
     ]
    },
    {
     "data": {
      "application/vnd.jupyter.widget-view+json": {
       "model_id": "27f4cf4e456048dda0c9c90925ee304f",
       "version_major": 2,
       "version_minor": 0
      },
      "text/plain": [
       "Validation Epoch 2:   0%|          | 0/29 [00:00<?, ?it/s]"
      ]
     },
     "metadata": {},
     "output_type": "display_data"
    },
    {
     "name": "stdout",
     "output_type": "stream",
     "text": [
      "Validation   -> Loss: 0.0485 | Acc: 0.9989\n",
      "✓ Top-K Checkpoint saved: c:\\Users\\gilda\\OneDrive\\Documents\\My_Projects\\AI_Based_Projects\\shape-classifier-interview\\shape-classifier-pytorch\\..\\shape-classifier-artifacts\\shape-classifier-models\\ShapeClassifier\\resnet_baseline_20250811_180012\\epoch_002_valloss_0.0485.pth\n",
      "Epoch finished in 3.02s. Early stopping counter: 0/7\n",
      "\n",
      "Epoch 3/100\n",
      "---------------\n"
     ]
    },
    {
     "data": {
      "application/vnd.jupyter.widget-view+json": {
       "model_id": "5d3b41a9bf05494aa2cf911d347c5214",
       "version_major": 2,
       "version_minor": 0
      },
      "text/plain": [
       "Train Epoch 3:   0%|          | 0/132 [00:00<?, ?it/s]"
      ]
     },
     "metadata": {},
     "output_type": "display_data"
    },
    {
     "name": "stdout",
     "output_type": "stream",
     "text": [
      "Train        -> Loss: 0.0299 | Acc: 0.9945\n"
     ]
    },
    {
     "data": {
      "application/vnd.jupyter.widget-view+json": {
       "model_id": "9f2090f565ef49feb7a3eca35c1864c3",
       "version_major": 2,
       "version_minor": 0
      },
      "text/plain": [
       "Validation Epoch 3:   0%|          | 0/29 [00:00<?, ?it/s]"
      ]
     },
     "metadata": {},
     "output_type": "display_data"
    },
    {
     "name": "stdout",
     "output_type": "stream",
     "text": [
      "Validation   -> Loss: 0.0171 | Acc: 1.0000\n",
      "✓ Top-K Checkpoint saved: c:\\Users\\gilda\\OneDrive\\Documents\\My_Projects\\AI_Based_Projects\\shape-classifier-interview\\shape-classifier-pytorch\\..\\shape-classifier-artifacts\\shape-classifier-models\\ShapeClassifier\\resnet_baseline_20250811_180012\\epoch_003_valloss_0.0171.pth\n",
      "Epoch finished in 3.03s. Early stopping counter: 0/7\n",
      "\n",
      "Epoch 4/100\n",
      "---------------\n"
     ]
    },
    {
     "data": {
      "application/vnd.jupyter.widget-view+json": {
       "model_id": "bb54853b5f8e44c299392c78873abfa8",
       "version_major": 2,
       "version_minor": 0
      },
      "text/plain": [
       "Train Epoch 4:   0%|          | 0/132 [00:00<?, ?it/s]"
      ]
     },
     "metadata": {},
     "output_type": "display_data"
    },
    {
     "name": "stdout",
     "output_type": "stream",
     "text": [
      "Train        -> Loss: 0.0441 | Acc: 0.9886\n"
     ]
    },
    {
     "data": {
      "application/vnd.jupyter.widget-view+json": {
       "model_id": "f9bd8425e2d6433380ceaee735ea32b4",
       "version_major": 2,
       "version_minor": 0
      },
      "text/plain": [
       "Validation Epoch 4:   0%|          | 0/29 [00:00<?, ?it/s]"
      ]
     },
     "metadata": {},
     "output_type": "display_data"
    },
    {
     "name": "stdout",
     "output_type": "stream",
     "text": [
      "Validation   -> Loss: 0.0050 | Acc: 1.0000\n",
      "✓ Top-K Checkpoint saved: c:\\Users\\gilda\\OneDrive\\Documents\\My_Projects\\AI_Based_Projects\\shape-classifier-interview\\shape-classifier-pytorch\\..\\shape-classifier-artifacts\\shape-classifier-models\\ShapeClassifier\\resnet_baseline_20250811_180012\\epoch_004_valloss_0.0050.pth\n",
      "✗ Removed worst checkpoint: epoch_001_valloss_0.1450.pth\n",
      "Epoch finished in 3.00s. Early stopping counter: 0/7\n",
      "\n",
      "Epoch 5/100\n",
      "---------------\n"
     ]
    },
    {
     "data": {
      "application/vnd.jupyter.widget-view+json": {
       "model_id": "79652c96fe5c4c1eaa728f37299d2b40",
       "version_major": 2,
       "version_minor": 0
      },
      "text/plain": [
       "Train Epoch 5:   0%|          | 0/132 [00:00<?, ?it/s]"
      ]
     },
     "metadata": {},
     "output_type": "display_data"
    },
    {
     "name": "stdout",
     "output_type": "stream",
     "text": [
      "Train        -> Loss: 0.0066 | Acc: 0.9998\n"
     ]
    },
    {
     "data": {
      "application/vnd.jupyter.widget-view+json": {
       "model_id": "433e398bfeb446c3bfceb93b7e07b514",
       "version_major": 2,
       "version_minor": 0
      },
      "text/plain": [
       "Validation Epoch 5:   0%|          | 0/29 [00:00<?, ?it/s]"
      ]
     },
     "metadata": {},
     "output_type": "display_data"
    },
    {
     "name": "stdout",
     "output_type": "stream",
     "text": [
      "Validation   -> Loss: 0.0126 | Acc: 0.9989\n",
      "✓ Top-K Checkpoint saved: c:\\Users\\gilda\\OneDrive\\Documents\\My_Projects\\AI_Based_Projects\\shape-classifier-interview\\shape-classifier-pytorch\\..\\shape-classifier-artifacts\\shape-classifier-models\\ShapeClassifier\\resnet_baseline_20250811_180012\\epoch_005_valloss_0.0126.pth\n",
      "✗ Removed worst checkpoint: epoch_002_valloss_0.0485.pth\n",
      "Epoch finished in 3.03s. Early stopping counter: 1/7\n",
      "\n",
      "Epoch 6/100\n",
      "---------------\n"
     ]
    },
    {
     "data": {
      "application/vnd.jupyter.widget-view+json": {
       "model_id": "32f92e594862411a8a1b51d97a3fff13",
       "version_major": 2,
       "version_minor": 0
      },
      "text/plain": [
       "Train Epoch 6:   0%|          | 0/132 [00:00<?, ?it/s]"
      ]
     },
     "metadata": {},
     "output_type": "display_data"
    },
    {
     "name": "stdout",
     "output_type": "stream",
     "text": [
      "Train        -> Loss: 0.0026 | Acc: 1.0000\n"
     ]
    },
    {
     "data": {
      "application/vnd.jupyter.widget-view+json": {
       "model_id": "f17afda0bad54901880a42c99abbc63b",
       "version_major": 2,
       "version_minor": 0
      },
      "text/plain": [
       "Validation Epoch 6:   0%|          | 0/29 [00:00<?, ?it/s]"
      ]
     },
     "metadata": {},
     "output_type": "display_data"
    },
    {
     "name": "stdout",
     "output_type": "stream",
     "text": [
      "Validation   -> Loss: 0.0010 | Acc: 1.0000\n",
      "✓ Top-K Checkpoint saved: c:\\Users\\gilda\\OneDrive\\Documents\\My_Projects\\AI_Based_Projects\\shape-classifier-interview\\shape-classifier-pytorch\\..\\shape-classifier-artifacts\\shape-classifier-models\\ShapeClassifier\\resnet_baseline_20250811_180012\\epoch_006_valloss_0.0010.pth\n",
      "✗ Removed worst checkpoint: epoch_003_valloss_0.0171.pth\n",
      "Epoch finished in 3.00s. Early stopping counter: 0/7\n",
      "\n",
      "Epoch 7/100\n",
      "---------------\n"
     ]
    },
    {
     "data": {
      "application/vnd.jupyter.widget-view+json": {
       "model_id": "babd47811ab44e13b5ed0bc62c2bc2f9",
       "version_major": 2,
       "version_minor": 0
      },
      "text/plain": [
       "Train Epoch 7:   0%|          | 0/132 [00:00<?, ?it/s]"
      ]
     },
     "metadata": {},
     "output_type": "display_data"
    },
    {
     "name": "stdout",
     "output_type": "stream",
     "text": [
      "Train        -> Loss: 0.0024 | Acc: 1.0000\n"
     ]
    },
    {
     "data": {
      "application/vnd.jupyter.widget-view+json": {
       "model_id": "8fb681951596499584026c4318fb0095",
       "version_major": 2,
       "version_minor": 0
      },
      "text/plain": [
       "Validation Epoch 7:   0%|          | 0/29 [00:00<?, ?it/s]"
      ]
     },
     "metadata": {},
     "output_type": "display_data"
    },
    {
     "name": "stdout",
     "output_type": "stream",
     "text": [
      "Validation   -> Loss: 0.0006 | Acc: 1.0000\n",
      "✓ Top-K Checkpoint saved: c:\\Users\\gilda\\OneDrive\\Documents\\My_Projects\\AI_Based_Projects\\shape-classifier-interview\\shape-classifier-pytorch\\..\\shape-classifier-artifacts\\shape-classifier-models\\ShapeClassifier\\resnet_baseline_20250811_180012\\epoch_007_valloss_0.0006.pth\n",
      "✗ Removed worst checkpoint: epoch_005_valloss_0.0126.pth\n",
      "Epoch finished in 2.96s. Early stopping counter: 0/7\n",
      "\n",
      "Epoch 8/100\n",
      "---------------\n"
     ]
    },
    {
     "data": {
      "application/vnd.jupyter.widget-view+json": {
       "model_id": "2f52ade7cb0140a6af313393f75f2e92",
       "version_major": 2,
       "version_minor": 0
      },
      "text/plain": [
       "Train Epoch 8:   0%|          | 0/132 [00:00<?, ?it/s]"
      ]
     },
     "metadata": {},
     "output_type": "display_data"
    },
    {
     "name": "stdout",
     "output_type": "stream",
     "text": [
      "Train        -> Loss: 0.0024 | Acc: 1.0000\n"
     ]
    },
    {
     "data": {
      "application/vnd.jupyter.widget-view+json": {
       "model_id": "7a65f38064374ad5a02f92f002870669",
       "version_major": 2,
       "version_minor": 0
      },
      "text/plain": [
       "Validation Epoch 8:   0%|          | 0/29 [00:00<?, ?it/s]"
      ]
     },
     "metadata": {},
     "output_type": "display_data"
    },
    {
     "name": "stdout",
     "output_type": "stream",
     "text": [
      "Validation   -> Loss: 0.0005 | Acc: 1.0000\n",
      "✓ Top-K Checkpoint saved: c:\\Users\\gilda\\OneDrive\\Documents\\My_Projects\\AI_Based_Projects\\shape-classifier-interview\\shape-classifier-pytorch\\..\\shape-classifier-artifacts\\shape-classifier-models\\ShapeClassifier\\resnet_baseline_20250811_180012\\epoch_008_valloss_0.0005.pth\n",
      "✗ Removed worst checkpoint: epoch_004_valloss_0.0050.pth\n",
      "Epoch finished in 2.99s. Early stopping counter: 0/7\n",
      "\n",
      "Epoch 9/100\n",
      "---------------\n"
     ]
    },
    {
     "data": {
      "application/vnd.jupyter.widget-view+json": {
       "model_id": "33ba6ee08c7141b28dbbe50eea9a9493",
       "version_major": 2,
       "version_minor": 0
      },
      "text/plain": [
       "Train Epoch 9:   0%|          | 0/132 [00:00<?, ?it/s]"
      ]
     },
     "metadata": {},
     "output_type": "display_data"
    },
    {
     "name": "stdout",
     "output_type": "stream",
     "text": [
      "Train        -> Loss: 0.0014 | Acc: 1.0000\n"
     ]
    },
    {
     "data": {
      "application/vnd.jupyter.widget-view+json": {
       "model_id": "3be8cbe0372d488e995dbda8ade84ed8",
       "version_major": 2,
       "version_minor": 0
      },
      "text/plain": [
       "Validation Epoch 9:   0%|          | 0/29 [00:00<?, ?it/s]"
      ]
     },
     "metadata": {},
     "output_type": "display_data"
    },
    {
     "name": "stdout",
     "output_type": "stream",
     "text": [
      "Validation   -> Loss: 0.0005 | Acc: 1.0000\n",
      "✓ Top-K Checkpoint saved: c:\\Users\\gilda\\OneDrive\\Documents\\My_Projects\\AI_Based_Projects\\shape-classifier-interview\\shape-classifier-pytorch\\..\\shape-classifier-artifacts\\shape-classifier-models\\ShapeClassifier\\resnet_baseline_20250811_180012\\epoch_009_valloss_0.0005.pth\n",
      "✗ Removed worst checkpoint: epoch_006_valloss_0.0010.pth\n",
      "Epoch finished in 2.99s. Early stopping counter: 0/7\n",
      "\n",
      "Epoch 10/100\n",
      "---------------\n"
     ]
    },
    {
     "data": {
      "application/vnd.jupyter.widget-view+json": {
       "model_id": "623bb84d15b7429faa7f4aeefdc0879a",
       "version_major": 2,
       "version_minor": 0
      },
      "text/plain": [
       "Train Epoch 10:   0%|          | 0/132 [00:00<?, ?it/s]"
      ]
     },
     "metadata": {},
     "output_type": "display_data"
    },
    {
     "name": "stdout",
     "output_type": "stream",
     "text": [
      "Train        -> Loss: 0.0008 | Acc: 1.0000\n"
     ]
    },
    {
     "data": {
      "application/vnd.jupyter.widget-view+json": {
       "model_id": "3a471d648d494f08892195ee6f0b3947",
       "version_major": 2,
       "version_minor": 0
      },
      "text/plain": [
       "Validation Epoch 10:   0%|          | 0/29 [00:00<?, ?it/s]"
      ]
     },
     "metadata": {},
     "output_type": "display_data"
    },
    {
     "name": "stdout",
     "output_type": "stream",
     "text": [
      "Validation   -> Loss: 0.0002 | Acc: 1.0000\n",
      "✓ Top-K Checkpoint saved: c:\\Users\\gilda\\OneDrive\\Documents\\My_Projects\\AI_Based_Projects\\shape-classifier-interview\\shape-classifier-pytorch\\..\\shape-classifier-artifacts\\shape-classifier-models\\ShapeClassifier\\resnet_baseline_20250811_180012\\epoch_010_valloss_0.0002.pth\n",
      "✗ Removed worst checkpoint: epoch_007_valloss_0.0006.pth\n",
      "Epoch finished in 2.99s. Early stopping counter: 0/7\n",
      "\n",
      "Epoch 11/100\n",
      "---------------\n"
     ]
    },
    {
     "data": {
      "application/vnd.jupyter.widget-view+json": {
       "model_id": "4b9ea805e7b747cf8ccb83d1e51c287e",
       "version_major": 2,
       "version_minor": 0
      },
      "text/plain": [
       "Train Epoch 11:   0%|          | 0/132 [00:00<?, ?it/s]"
      ]
     },
     "metadata": {},
     "output_type": "display_data"
    },
    {
     "name": "stdout",
     "output_type": "stream",
     "text": [
      "Train        -> Loss: 0.0005 | Acc: 1.0000\n"
     ]
    },
    {
     "data": {
      "application/vnd.jupyter.widget-view+json": {
       "model_id": "c5ad899418154778bc4a2da5ef5973a6",
       "version_major": 2,
       "version_minor": 0
      },
      "text/plain": [
       "Validation Epoch 11:   0%|          | 0/29 [00:00<?, ?it/s]"
      ]
     },
     "metadata": {},
     "output_type": "display_data"
    },
    {
     "name": "stdout",
     "output_type": "stream",
     "text": [
      "Validation   -> Loss: 0.0002 | Acc: 1.0000\n",
      "✓ Top-K Checkpoint saved: c:\\Users\\gilda\\OneDrive\\Documents\\My_Projects\\AI_Based_Projects\\shape-classifier-interview\\shape-classifier-pytorch\\..\\shape-classifier-artifacts\\shape-classifier-models\\ShapeClassifier\\resnet_baseline_20250811_180012\\epoch_011_valloss_0.0002.pth\n",
      "✗ Removed worst checkpoint: epoch_008_valloss_0.0005.pth\n",
      "Epoch finished in 2.99s. Early stopping counter: 0/7\n",
      "\n",
      "Epoch 12/100\n",
      "---------------\n"
     ]
    },
    {
     "data": {
      "application/vnd.jupyter.widget-view+json": {
       "model_id": "331acf11ea4d4987ac9ee2f20a5db176",
       "version_major": 2,
       "version_minor": 0
      },
      "text/plain": [
       "Train Epoch 12:   0%|          | 0/132 [00:00<?, ?it/s]"
      ]
     },
     "metadata": {},
     "output_type": "display_data"
    },
    {
     "name": "stdout",
     "output_type": "stream",
     "text": [
      "Train        -> Loss: 0.0004 | Acc: 1.0000\n"
     ]
    },
    {
     "data": {
      "application/vnd.jupyter.widget-view+json": {
       "model_id": "579468894ec24356b626f8c4eb5caa00",
       "version_major": 2,
       "version_minor": 0
      },
      "text/plain": [
       "Validation Epoch 12:   0%|          | 0/29 [00:00<?, ?it/s]"
      ]
     },
     "metadata": {},
     "output_type": "display_data"
    },
    {
     "name": "stdout",
     "output_type": "stream",
     "text": [
      "Validation   -> Loss: 0.0001 | Acc: 1.0000\n",
      "✓ Top-K Checkpoint saved: c:\\Users\\gilda\\OneDrive\\Documents\\My_Projects\\AI_Based_Projects\\shape-classifier-interview\\shape-classifier-pytorch\\..\\shape-classifier-artifacts\\shape-classifier-models\\ShapeClassifier\\resnet_baseline_20250811_180012\\epoch_012_valloss_0.0001.pth\n",
      "✗ Removed worst checkpoint: epoch_009_valloss_0.0005.pth\n",
      "Epoch finished in 3.04s. Early stopping counter: 0/7\n",
      "\n",
      "Epoch 13/100\n",
      "---------------\n"
     ]
    },
    {
     "data": {
      "application/vnd.jupyter.widget-view+json": {
       "model_id": "0b1185c87aad4b6aaff951951ee6c809",
       "version_major": 2,
       "version_minor": 0
      },
      "text/plain": [
       "Train Epoch 13:   0%|          | 0/132 [00:00<?, ?it/s]"
      ]
     },
     "metadata": {},
     "output_type": "display_data"
    },
    {
     "name": "stdout",
     "output_type": "stream",
     "text": [
      "Train        -> Loss: 0.0003 | Acc: 1.0000\n"
     ]
    },
    {
     "data": {
      "application/vnd.jupyter.widget-view+json": {
       "model_id": "f2f058107d6c4e178d771a222c0a90be",
       "version_major": 2,
       "version_minor": 0
      },
      "text/plain": [
       "Validation Epoch 13:   0%|          | 0/29 [00:00<?, ?it/s]"
      ]
     },
     "metadata": {},
     "output_type": "display_data"
    },
    {
     "name": "stdout",
     "output_type": "stream",
     "text": [
      "Validation   -> Loss: 0.0011 | Acc: 1.0000\n",
      "Epoch finished in 3.00s. Early stopping counter: 1/7\n",
      "\n",
      "Epoch 14/100\n",
      "---------------\n"
     ]
    },
    {
     "data": {
      "application/vnd.jupyter.widget-view+json": {
       "model_id": "6d23f4e364ac499a99865814547d6aff",
       "version_major": 2,
       "version_minor": 0
      },
      "text/plain": [
       "Train Epoch 14:   0%|          | 0/132 [00:00<?, ?it/s]"
      ]
     },
     "metadata": {},
     "output_type": "display_data"
    },
    {
     "name": "stdout",
     "output_type": "stream",
     "text": [
      "Train        -> Loss: 0.0760 | Acc: 0.9798\n"
     ]
    },
    {
     "data": {
      "application/vnd.jupyter.widget-view+json": {
       "model_id": "cbead5374aed4deea8e1f204df664ae6",
       "version_major": 2,
       "version_minor": 0
      },
      "text/plain": [
       "Validation Epoch 14:   0%|          | 0/29 [00:00<?, ?it/s]"
      ]
     },
     "metadata": {},
     "output_type": "display_data"
    },
    {
     "name": "stdout",
     "output_type": "stream",
     "text": [
      "Validation   -> Loss: 0.0739 | Acc: 0.9800\n",
      "Epoch finished in 3.01s. Early stopping counter: 2/7\n",
      "\n",
      "Epoch 15/100\n",
      "---------------\n"
     ]
    },
    {
     "data": {
      "application/vnd.jupyter.widget-view+json": {
       "model_id": "f6765188b8864387ae195bcfc5800ab1",
       "version_major": 2,
       "version_minor": 0
      },
      "text/plain": [
       "Train Epoch 15:   0%|          | 0/132 [00:00<?, ?it/s]"
      ]
     },
     "metadata": {},
     "output_type": "display_data"
    },
    {
     "name": "stdout",
     "output_type": "stream",
     "text": [
      "Train        -> Loss: 0.0119 | Acc: 0.9962\n"
     ]
    },
    {
     "data": {
      "application/vnd.jupyter.widget-view+json": {
       "model_id": "d90cc51127424bae850e9a6dcf510eb3",
       "version_major": 2,
       "version_minor": 0
      },
      "text/plain": [
       "Validation Epoch 15:   0%|          | 0/29 [00:00<?, ?it/s]"
      ]
     },
     "metadata": {},
     "output_type": "display_data"
    },
    {
     "name": "stdout",
     "output_type": "stream",
     "text": [
      "Validation   -> Loss: 0.0037 | Acc: 0.9989\n",
      "Epoch finished in 2.97s. Early stopping counter: 3/7\n",
      "\n",
      "Epoch 16/100\n",
      "---------------\n"
     ]
    },
    {
     "data": {
      "application/vnd.jupyter.widget-view+json": {
       "model_id": "af939d22111b4d0aaade2f8cc1dc013b",
       "version_major": 2,
       "version_minor": 0
      },
      "text/plain": [
       "Train Epoch 16:   0%|          | 0/132 [00:00<?, ?it/s]"
      ]
     },
     "metadata": {},
     "output_type": "display_data"
    },
    {
     "name": "stdout",
     "output_type": "stream",
     "text": [
      "Train        -> Loss: 0.0290 | Acc: 0.9919\n"
     ]
    },
    {
     "data": {
      "application/vnd.jupyter.widget-view+json": {
       "model_id": "c5c2ae9805e046fa9fd2fa71dab5c2e5",
       "version_major": 2,
       "version_minor": 0
      },
      "text/plain": [
       "Validation Epoch 16:   0%|          | 0/29 [00:00<?, ?it/s]"
      ]
     },
     "metadata": {},
     "output_type": "display_data"
    },
    {
     "name": "stdout",
     "output_type": "stream",
     "text": [
      "Validation   -> Loss: 0.0041 | Acc: 1.0000\n",
      "Epoch finished in 3.01s. Early stopping counter: 4/7\n",
      "\n",
      "Epoch 17/100\n",
      "---------------\n"
     ]
    },
    {
     "data": {
      "application/vnd.jupyter.widget-view+json": {
       "model_id": "f2b31e3325a04be4ae5c8229331327ed",
       "version_major": 2,
       "version_minor": 0
      },
      "text/plain": [
       "Train Epoch 17:   0%|          | 0/132 [00:00<?, ?it/s]"
      ]
     },
     "metadata": {},
     "output_type": "display_data"
    },
    {
     "name": "stdout",
     "output_type": "stream",
     "text": [
      "Train        -> Loss: 0.0046 | Acc: 0.9995\n"
     ]
    },
    {
     "data": {
      "application/vnd.jupyter.widget-view+json": {
       "model_id": "3c3807ca30534dd49db50cc85f679f5b",
       "version_major": 2,
       "version_minor": 0
      },
      "text/plain": [
       "Validation Epoch 17:   0%|          | 0/29 [00:00<?, ?it/s]"
      ]
     },
     "metadata": {},
     "output_type": "display_data"
    },
    {
     "name": "stdout",
     "output_type": "stream",
     "text": [
      "Validation   -> Loss: 0.0015 | Acc: 1.0000\n",
      "Epoch finished in 3.03s. Early stopping counter: 5/7\n",
      "\n",
      "Epoch 18/100\n",
      "---------------\n"
     ]
    },
    {
     "data": {
      "application/vnd.jupyter.widget-view+json": {
       "model_id": "aec3d75f96604cbf96c3a56211a9e814",
       "version_major": 2,
       "version_minor": 0
      },
      "text/plain": [
       "Train Epoch 18:   0%|          | 0/132 [00:00<?, ?it/s]"
      ]
     },
     "metadata": {},
     "output_type": "display_data"
    },
    {
     "name": "stdout",
     "output_type": "stream",
     "text": [
      "Train        -> Loss: 0.0034 | Acc: 0.9995\n"
     ]
    },
    {
     "data": {
      "application/vnd.jupyter.widget-view+json": {
       "model_id": "2f57d6358136422b942350af3625d22f",
       "version_major": 2,
       "version_minor": 0
      },
      "text/plain": [
       "Validation Epoch 18:   0%|          | 0/29 [00:00<?, ?it/s]"
      ]
     },
     "metadata": {},
     "output_type": "display_data"
    },
    {
     "name": "stdout",
     "output_type": "stream",
     "text": [
      "Validation   -> Loss: 0.0012 | Acc: 1.0000\n",
      "Epoch finished in 2.99s. Early stopping counter: 6/7\n",
      "\n",
      "Epoch 19/100\n",
      "---------------\n"
     ]
    },
    {
     "data": {
      "application/vnd.jupyter.widget-view+json": {
       "model_id": "960adc832cae4044b8b9e09c2074694c",
       "version_major": 2,
       "version_minor": 0
      },
      "text/plain": [
       "Train Epoch 19:   0%|          | 0/132 [00:00<?, ?it/s]"
      ]
     },
     "metadata": {},
     "output_type": "display_data"
    },
    {
     "name": "stdout",
     "output_type": "stream",
     "text": [
      "Train        -> Loss: 0.0026 | Acc: 0.9998\n"
     ]
    },
    {
     "data": {
      "application/vnd.jupyter.widget-view+json": {
       "model_id": "f2a539f96cbd4b1b9494806445d15e55",
       "version_major": 2,
       "version_minor": 0
      },
      "text/plain": [
       "Validation Epoch 19:   0%|          | 0/29 [00:00<?, ?it/s]"
      ]
     },
     "metadata": {},
     "output_type": "display_data"
    },
    {
     "name": "stdout",
     "output_type": "stream",
     "text": [
      "Validation   -> Loss: 0.0011 | Acc: 1.0000\n",
      "Epoch finished in 3.01s. Early stopping counter: 7/7\n",
      "\n",
      "! Early stopping triggered after 7 epochs of no improvement.\n",
      "\n",
      "--- Training complete in 0m 58s ---\n",
      "Final plot saved to: c:\\Users\\gilda\\OneDrive\\Documents\\My_Projects\\AI_Based_Projects\\shape-classifier-interview\\shape-classifier-pytorch\\..\\shape-classifier-artifacts\\shape-classifier-models\\ShapeClassifier\\resnet_baseline_20250811_180012\\training_curves.png\n",
      "Training history saved to: c:\\Users\\gilda\\OneDrive\\Documents\\My_Projects\\AI_Based_Projects\\shape-classifier-interview\\shape-classifier-pytorch\\..\\shape-classifier-artifacts\\shape-classifier-models\\ShapeClassifier\\resnet_baseline_20250811_180012\\history.json\n",
      "\n",
      "Loading best model weights from: c:\\Users\\gilda\\OneDrive\\Documents\\My_Projects\\AI_Based_Projects\\shape-classifier-interview\\shape-classifier-pytorch\\..\\shape-classifier-artifacts\\shape-classifier-models\\ShapeClassifier\\resnet_baseline_20250811_180012\\epoch_012_valloss_0.0001.pth\n",
      "\n",
      "--- Top Checkpoints by Validation Loss ---\n",
      "1. Loss: 0.0001, Path: epoch_012_valloss_0.0001.pth\n",
      "2. Loss: 0.0002, Path: epoch_011_valloss_0.0002.pth\n",
      "3. Loss: 0.0002, Path: epoch_010_valloss_0.0002.pth\n",
      "\n",
      "Performing automated final cleanup to free memory...\n",
      "Cleaning up internal variables...\n",
      "model_name\n",
      "hyperparams\n",
      "dataloaders\n",
      "criterion\n",
      "learning_rate\n",
      "num_epochs\n",
      "checkpoint_dir\n",
      "stop_file_dir\n",
      "resume_from\n",
      "top_k\n",
      "patience\n",
      "start_time\n",
      "config_path\n",
      "f\n",
      "optimizer\n",
      "scheduler\n",
      "start_epoch\n",
      "top_k_checkpoints\n",
      "best_val_loss\n",
      "early_stopping_counter\n",
      "history_path\n",
      "top_k_path\n",
      "last_ckpt_path\n",
      "checkpoint\n",
      "fig_plot_path\n",
      "update_live_plot\n",
      "epoch\n",
      "epoch_start_time\n",
      "phase\n",
      "running_loss\n",
      "running_corrects\n",
      "progress_bar\n",
      "inputs\n",
      "labels\n",
      "outputs\n",
      "_\n",
      "preds\n",
      "loss\n",
      "epoch_loss\n",
      "epoch_acc\n",
      "current_val_loss\n",
      "is_best_so_far\n",
      "ckpt_filename\n",
      "save_path\n",
      "worst_checkpoint\n",
      "epoch_time\n",
      "time_elapsed\n",
      "best_model_path\n",
      "best_checkpoint\n",
      "i\n",
      "ckpt\n",
      "vars_to_preserve\n",
      "ax1\n",
      "ax2\n",
      "display_handle\n",
      "fig\n",
      "Successfully deleted 56 internal variables.\n",
      "Internal cleanup complete. Returning best model and history.\n",
      "\n",
      "Results for this run have been saved to disk.\n",
      "Not retaining model or history in notebook memory.\n"
     ]
    },
    {
     "data": {
      "text/plain": [
       "16"
      ]
     },
     "execution_count": 56,
     "metadata": {},
     "output_type": "execute_result"
    }
   ],
   "source": [
    "# ===================================================================\n",
    "# 4.3.2.1. Run 1: Baseline Training for SimpleResNet\n",
    "# ===================================================================\n",
    "\n",
    "# --- 1. Define Hyperparameters ---\n",
    "hyperparams_resnet_run_01 = {\n",
    "    'model_name': 'resnet_baseline',\n",
    "    'learning_rate': 0.001,\n",
    "    'batch_size': BATCH_SIZE,\n",
    "    'num_epochs': 100,\n",
    "    'patience': 7,\n",
    "    'optimizer': 'Adam',\n",
    "    'scheduler': 'ReduceLROnPlateau',\n",
    "    'model_architecture': 'SimpleResNet',\n",
    "    'notes': 'Baseline training for ResNet architecture.'\n",
    "}\n",
    "\n",
    "# --- 2. Instantiate a fresh model ---\n",
    "resnet_model_run_01 = SimpleResNet(num_classes=NUM_CLASSES).to(DEVICE)\n",
    "\n",
    "# --- 3. Create the unique experiment directory ---\n",
    "timestamp = datetime.now().strftime(\"%Y%m%d_%H%M%S\")\n",
    "experiment_dir_resnet_run_01 = os.path.join(\n",
    "    MODEL_CHECKPOINT_DIR, \n",
    "    f\"{hyperparams_resnet_run_01['model_name']}_{timestamp}\"\n",
    ")\n",
    "\n",
    "# --- 4. Execute the training run ---\n",
    "print(\"\\n\" + \"=\"*80)\n",
    "print(f\"STARTING EXPERIMENT: {hyperparams_resnet_run_01['model_name']}\")\n",
    "print(f\"Artifacts will be saved in: {experiment_dir_resnet_run_01}\")\n",
    "print(\"=\"*80)\n",
    "\n",
    "best_resnet_model, resnet_history = train_model(\n",
    "    model=resnet_model_run_01,\n",
    "    model_name=hyperparams_resnet_run_01['model_name'],\n",
    "    hyperparams=hyperparams_resnet_run_01,\n",
    "    dataloaders=dataloaders,\n",
    "    criterion=criterion,\n",
    "    learning_rate=hyperparams_resnet_run_01['learning_rate'],\n",
    "    num_epochs=hyperparams_resnet_run_01['num_epochs'],\n",
    "    checkpoint_dir=experiment_dir_resnet_run_01,\n",
    "    patience=hyperparams_resnet_run_01['patience']\n",
    ")\n",
    "\n",
    "# --- 5. Do NOT store results in memory ---\n",
    "# The train_model function has saved all necessary artifacts (best model, history, config)\n",
    "# to the unique experiment directory on disk. We will load them from there for evaluation.\n",
    "print(\"\\nResults for this run have been saved to disk.\")\n",
    "print(\"Not retaining model or history in notebook memory.\")\n",
    "\n",
    "# --- 6. Final cleanup ---\n",
    "# Explicitly delete all large objects from this run to free memory.\n",
    "del hyperparams_resnet_run_01\n",
    "del best_resnet_model\n",
    "del resnet_history\n",
    "del resnet_model_run_01\n",
    "clear_gpu_cache()\n",
    "gc.collect()"
   ]
  },
  {
   "cell_type": "markdown",
   "id": "49680274",
   "metadata": {},
   "source": [
    "#### 4.3.3. Experiment 3: SimpleViT\n",
    "\n",
    "Our third and final experiment explores the `SimpleViT` (Vision Transformer) model. This represents a fundamentally different approach to computer vision, using self-attention instead of convolutions. While ViTs typically excel on massive datasets, this run will provide a valuable baseline on how a small-scale ViT performs on our synthetic, low-resolution data."
   ]
  },
  {
   "cell_type": "markdown",
   "id": "7db171b4",
   "metadata": {},
   "source": [
    "##### 4.3.3.1. Run 1: Baseline Training\n",
    "\n",
    "This is the baseline training run for the `SimpleViT`. We will pay close attention to its training stability and final performance compared to the CNN-based architectures."
   ]
  },
  {
   "cell_type": "code",
   "execution_count": null,
   "id": "65ff496c",
   "metadata": {},
   "outputs": [
    {
     "name": "stdout",
     "output_type": "stream",
     "text": [
      "\n",
      "================================================================================\n",
      "STARTING EXPERIMENT: vit_baseline\n",
      "Artifacts will be saved in: c:\\Users\\gilda\\OneDrive\\Documents\\My_Projects\\AI_Based_Projects\\shape-classifier-interview\\shape-classifier-pytorch\\..\\shape-classifier-artifacts\\shape-classifier-models\\ShapeClassifier\\vit_baseline_20250811_180110\n",
      "================================================================================\n",
      "--- Experiment artifacts will be saved in: c:\\Users\\gilda\\OneDrive\\Documents\\My_Projects\\AI_Based_Projects\\shape-classifier-interview\\shape-classifier-pytorch\\..\\shape-classifier-artifacts\\shape-classifier-models\\ShapeClassifier\\vit_baseline_20250811_180110 ---\n",
      "Hyperparameters for this run saved to: c:\\Users\\gilda\\OneDrive\\Documents\\My_Projects\\AI_Based_Projects\\shape-classifier-interview\\shape-classifier-pytorch\\..\\shape-classifier-artifacts\\shape-classifier-models\\ShapeClassifier\\vit_baseline_20250811_180110\\config.json\n"
     ]
    },
    {
     "data": {
      "image/png": "[encoded data removed]",
      "text/plain": [
       "<Figure size 1800x600 with 2 Axes>"
      ]
     },
     "metadata": {},
     "output_type": "display_data"
    },
    {
     "name": "stdout",
     "output_type": "stream",
     "text": [
      "\n",
      "--- Starting training from epoch 1 to 1000 ---\n",
      "\n",
      "Epoch 1/1000\n",
      "---------------\n"
     ]
    },
    {
     "data": {
      "application/vnd.jupyter.widget-view+json": {
       "model_id": "e9b5aedd15ee4f90bc9f67ee30f39855",
       "version_major": 2,
       "version_minor": 0
      },
      "text/plain": [
       "Train Epoch 1:   0%|          | 0/132 [00:00<?, ?it/s]"
      ]
     },
     "metadata": {},
     "output_type": "display_data"
    },
    {
     "name": "stdout",
     "output_type": "stream",
     "text": [
      "Train        -> Loss: 0.7162 | Acc: 0.6064\n"
     ]
    },
    {
     "data": {
      "application/vnd.jupyter.widget-view+json": {
       "model_id": "69891072337843df90165ef0f6af9fde",
       "version_major": 2,
       "version_minor": 0
      },
      "text/plain": [
       "Validation Epoch 1:   0%|          | 0/29 [00:00<?, ?it/s]"
      ]
     },
     "metadata": {},
     "output_type": "display_data"
    },
    {
     "name": "stdout",
     "output_type": "stream",
     "text": [
      "Validation   -> Loss: 0.6142 | Acc: 0.6544\n",
      "✓ Top-K Checkpoint saved: c:\\Users\\gilda\\OneDrive\\Documents\\My_Projects\\AI_Based_Projects\\shape-classifier-interview\\shape-classifier-pytorch\\..\\shape-classifier-artifacts\\shape-classifier-models\\ShapeClassifier\\vit_baseline_20250811_180110\\epoch_001_valloss_0.6142.pth\n",
      "Epoch finished in 2.48s. Early stopping counter: 0/7\n",
      "\n",
      "Epoch 2/1000\n",
      "---------------\n"
     ]
    },
    {
     "data": {
      "application/vnd.jupyter.widget-view+json": {
       "model_id": "20b70ba2755f458e8cef1cff9012b61a",
       "version_major": 2,
       "version_minor": 0
      },
      "text/plain": [
       "Train Epoch 2:   0%|          | 0/132 [00:00<?, ?it/s]"
      ]
     },
     "metadata": {},
     "output_type": "display_data"
    },
    {
     "name": "stdout",
     "output_type": "stream",
     "text": [
      "Train        -> Loss: 0.5876 | Acc: 0.6981\n"
     ]
    },
    {
     "data": {
      "application/vnd.jupyter.widget-view+json": {
       "model_id": "5af0a3dfb8224b18888480238fbd849b",
       "version_major": 2,
       "version_minor": 0
      },
      "text/plain": [
       "Validation Epoch 2:   0%|          | 0/29 [00:00<?, ?it/s]"
      ]
     },
     "metadata": {},
     "output_type": "display_data"
    },
    {
     "name": "stdout",
     "output_type": "stream",
     "text": [
      "Validation   -> Loss: 0.4986 | Acc: 0.7756\n",
      "✓ Top-K Checkpoint saved: c:\\Users\\gilda\\OneDrive\\Documents\\My_Projects\\AI_Based_Projects\\shape-classifier-interview\\shape-classifier-pytorch\\..\\shape-classifier-artifacts\\shape-classifier-models\\ShapeClassifier\\vit_baseline_20250811_180110\\epoch_002_valloss_0.4986.pth\n",
      "Epoch finished in 2.62s. Early stopping counter: 0/7\n",
      "\n",
      "Epoch 3/1000\n",
      "---------------\n"
     ]
    },
    {
     "data": {
      "application/vnd.jupyter.widget-view+json": {
       "model_id": "49c8342c624b47b696109100a708f18a",
       "version_major": 2,
       "version_minor": 0
      },
      "text/plain": [
       "Train Epoch 3:   0%|          | 0/132 [00:00<?, ?it/s]"
      ]
     },
     "metadata": {},
     "output_type": "display_data"
    },
    {
     "name": "stdout",
     "output_type": "stream",
     "text": [
      "Train        -> Loss: 0.5394 | Acc: 0.7248\n"
     ]
    },
    {
     "data": {
      "application/vnd.jupyter.widget-view+json": {
       "model_id": "408716fd99834d3ca8fca2f8c6c7a7ca",
       "version_major": 2,
       "version_minor": 0
      },
      "text/plain": [
       "Validation Epoch 3:   0%|          | 0/29 [00:00<?, ?it/s]"
      ]
     },
     "metadata": {},
     "output_type": "display_data"
    },
    {
     "name": "stdout",
     "output_type": "stream",
     "text": [
      "Validation   -> Loss: 0.5913 | Acc: 0.7389\n",
      "✓ Top-K Checkpoint saved: c:\\Users\\gilda\\OneDrive\\Documents\\My_Projects\\AI_Based_Projects\\shape-classifier-interview\\shape-classifier-pytorch\\..\\shape-classifier-artifacts\\shape-classifier-models\\ShapeClassifier\\vit_baseline_20250811_180110\\epoch_003_valloss_0.5913.pth\n",
      "Epoch finished in 2.74s. Early stopping counter: 1/7\n",
      "\n",
      "Epoch 4/1000\n",
      "---------------\n"
     ]
    },
    {
     "data": {
      "application/vnd.jupyter.widget-view+json": {
       "model_id": "b7ac8d7593fc47f6b8aab613e80010ae",
       "version_major": 2,
       "version_minor": 0
      },
      "text/plain": [
       "Train Epoch 4:   0%|          | 0/132 [00:00<?, ?it/s]"
      ]
     },
     "metadata": {},
     "output_type": "display_data"
    },
    {
     "name": "stdout",
     "output_type": "stream",
     "text": [
      "Train        -> Loss: 0.5146 | Acc: 0.7564\n"
     ]
    },
    {
     "data": {
      "application/vnd.jupyter.widget-view+json": {
       "model_id": "1f588dfd0a0d47ed955d40fd35f80445",
       "version_major": 2,
       "version_minor": 0
      },
      "text/plain": [
       "Validation Epoch 4:   0%|          | 0/29 [00:00<?, ?it/s]"
      ]
     },
     "metadata": {},
     "output_type": "display_data"
    },
    {
     "name": "stdout",
     "output_type": "stream",
     "text": [
      "Validation   -> Loss: 0.4158 | Acc: 0.8144\n",
      "✓ Top-K Checkpoint saved: c:\\Users\\gilda\\OneDrive\\Documents\\My_Projects\\AI_Based_Projects\\shape-classifier-interview\\shape-classifier-pytorch\\..\\shape-classifier-artifacts\\shape-classifier-models\\ShapeClassifier\\vit_baseline_20250811_180110\\epoch_004_valloss_0.4158.pth\n",
      "✗ Removed worst checkpoint: epoch_001_valloss_0.6142.pth\n",
      "Epoch finished in 2.74s. Early stopping counter: 0/7\n",
      "\n",
      "Epoch 5/1000\n",
      "---------------\n"
     ]
    },
    {
     "data": {
      "application/vnd.jupyter.widget-view+json": {
       "model_id": "5fb5bbc012ba42e89e29119dc615825d",
       "version_major": 2,
       "version_minor": 0
      },
      "text/plain": [
       "Train Epoch 5:   0%|          | 0/132 [00:00<?, ?it/s]"
      ]
     },
     "metadata": {},
     "output_type": "display_data"
    },
    {
     "name": "stdout",
     "output_type": "stream",
     "text": [
      "Train        -> Loss: 0.4264 | Acc: 0.8126\n"
     ]
    },
    {
     "data": {
      "application/vnd.jupyter.widget-view+json": {
       "model_id": "768b89860edb436fb6e20b5b24860986",
       "version_major": 2,
       "version_minor": 0
      },
      "text/plain": [
       "Validation Epoch 5:   0%|          | 0/29 [00:00<?, ?it/s]"
      ]
     },
     "metadata": {},
     "output_type": "display_data"
    },
    {
     "name": "stdout",
     "output_type": "stream",
     "text": [
      "Validation   -> Loss: 0.4100 | Acc: 0.8278\n",
      "✓ Top-K Checkpoint saved: c:\\Users\\gilda\\OneDrive\\Documents\\My_Projects\\AI_Based_Projects\\shape-classifier-interview\\shape-classifier-pytorch\\..\\shape-classifier-artifacts\\shape-classifier-models\\ShapeClassifier\\vit_baseline_20250811_180110\\epoch_005_valloss_0.4100.pth\n",
      "✗ Removed worst checkpoint: epoch_003_valloss_0.5913.pth\n",
      "Epoch finished in 2.75s. Early stopping counter: 0/7\n",
      "\n",
      "Epoch 6/1000\n",
      "---------------\n"
     ]
    },
    {
     "data": {
      "application/vnd.jupyter.widget-view+json": {
       "model_id": "6daa531aee784262a6ab5ec72e6529d2",
       "version_major": 2,
       "version_minor": 0
      },
      "text/plain": [
       "Train Epoch 6:   0%|          | 0/132 [00:00<?, ?it/s]"
      ]
     },
     "metadata": {},
     "output_type": "display_data"
    },
    {
     "name": "stdout",
     "output_type": "stream",
     "text": [
      "Train        -> Loss: 0.3767 | Acc: 0.8436\n"
     ]
    },
    {
     "data": {
      "application/vnd.jupyter.widget-view+json": {
       "model_id": "9eaa2dad2d0f4f19b2b063375a605137",
       "version_major": 2,
       "version_minor": 0
      },
      "text/plain": [
       "Validation Epoch 6:   0%|          | 0/29 [00:00<?, ?it/s]"
      ]
     },
     "metadata": {},
     "output_type": "display_data"
    },
    {
     "name": "stdout",
     "output_type": "stream",
     "text": [
      "Validation   -> Loss: 0.3510 | Acc: 0.8633\n",
      "✓ Top-K Checkpoint saved: c:\\Users\\gilda\\OneDrive\\Documents\\My_Projects\\AI_Based_Projects\\shape-classifier-interview\\shape-classifier-pytorch\\..\\shape-classifier-artifacts\\shape-classifier-models\\ShapeClassifier\\vit_baseline_20250811_180110\\epoch_006_valloss_0.3510.pth\n",
      "✗ Removed worst checkpoint: epoch_002_valloss_0.4986.pth\n",
      "Epoch finished in 2.74s. Early stopping counter: 0/7\n",
      "\n",
      "Epoch 7/1000\n",
      "---------------\n"
     ]
    },
    {
     "data": {
      "application/vnd.jupyter.widget-view+json": {
       "model_id": "55d1b11b2e3b41018fc05824d737108d",
       "version_major": 2,
       "version_minor": 0
      },
      "text/plain": [
       "Train Epoch 7:   0%|          | 0/132 [00:00<?, ?it/s]"
      ]
     },
     "metadata": {},
     "output_type": "display_data"
    },
    {
     "name": "stdout",
     "output_type": "stream",
     "text": [
      "Train        -> Loss: 0.3367 | Acc: 0.8655\n"
     ]
    },
    {
     "data": {
      "application/vnd.jupyter.widget-view+json": {
       "model_id": "94cfecbb902e46f78a21cddf232f9553",
       "version_major": 2,
       "version_minor": 0
      },
      "text/plain": [
       "Validation Epoch 7:   0%|          | 0/29 [00:00<?, ?it/s]"
      ]
     },
     "metadata": {},
     "output_type": "display_data"
    },
    {
     "name": "stdout",
     "output_type": "stream",
     "text": [
      "Validation   -> Loss: 0.3951 | Acc: 0.8367\n",
      "✓ Top-K Checkpoint saved: c:\\Users\\gilda\\OneDrive\\Documents\\My_Projects\\AI_Based_Projects\\shape-classifier-interview\\shape-classifier-pytorch\\..\\shape-classifier-artifacts\\shape-classifier-models\\ShapeClassifier\\vit_baseline_20250811_180110\\epoch_007_valloss_0.3951.pth\n",
      "✗ Removed worst checkpoint: epoch_004_valloss_0.4158.pth\n",
      "Epoch finished in 2.75s. Early stopping counter: 1/7\n",
      "\n",
      "Epoch 8/1000\n",
      "---------------\n"
     ]
    },
    {
     "data": {
      "application/vnd.jupyter.widget-view+json": {
       "model_id": "78c474d4631d4f3aa97ae8b815777206",
       "version_major": 2,
       "version_minor": 0
      },
      "text/plain": [
       "Train Epoch 8:   0%|          | 0/132 [00:00<?, ?it/s]"
      ]
     },
     "metadata": {},
     "output_type": "display_data"
    },
    {
     "name": "stdout",
     "output_type": "stream",
     "text": [
      "Train        -> Loss: 0.3183 | Acc: 0.8664\n"
     ]
    },
    {
     "data": {
      "application/vnd.jupyter.widget-view+json": {
       "model_id": "0a85d9b5c2c041ac95f450bd013bd36f",
       "version_major": 2,
       "version_minor": 0
      },
      "text/plain": [
       "Validation Epoch 8:   0%|          | 0/29 [00:00<?, ?it/s]"
      ]
     },
     "metadata": {},
     "output_type": "display_data"
    },
    {
     "name": "stdout",
     "output_type": "stream",
     "text": [
      "Validation   -> Loss: 0.2982 | Acc: 0.8844\n",
      "✓ Top-K Checkpoint saved: c:\\Users\\gilda\\OneDrive\\Documents\\My_Projects\\AI_Based_Projects\\shape-classifier-interview\\shape-classifier-pytorch\\..\\shape-classifier-artifacts\\shape-classifier-models\\ShapeClassifier\\vit_baseline_20250811_180110\\epoch_008_valloss_0.2982.pth\n",
      "✗ Removed worst checkpoint: epoch_005_valloss_0.4100.pth\n",
      "Epoch finished in 2.74s. Early stopping counter: 0/7\n",
      "\n",
      "Epoch 9/1000\n",
      "---------------\n"
     ]
    },
    {
     "data": {
      "application/vnd.jupyter.widget-view+json": {
       "model_id": "5adb20c00e164c5384512120b55798f2",
       "version_major": 2,
       "version_minor": 0
      },
      "text/plain": [
       "Train Epoch 9:   0%|          | 0/132 [00:00<?, ?it/s]"
      ]
     },
     "metadata": {},
     "output_type": "display_data"
    },
    {
     "name": "stdout",
     "output_type": "stream",
     "text": [
      "Train        -> Loss: 0.2501 | Acc: 0.9031\n"
     ]
    },
    {
     "data": {
      "application/vnd.jupyter.widget-view+json": {
       "model_id": "514581efbe744627b5b8543f04c14e64",
       "version_major": 2,
       "version_minor": 0
      },
      "text/plain": [
       "Validation Epoch 9:   0%|          | 0/29 [00:00<?, ?it/s]"
      ]
     },
     "metadata": {},
     "output_type": "display_data"
    },
    {
     "name": "stdout",
     "output_type": "stream",
     "text": [
      "Validation   -> Loss: 0.2757 | Acc: 0.8889\n",
      "✓ Top-K Checkpoint saved: c:\\Users\\gilda\\OneDrive\\Documents\\My_Projects\\AI_Based_Projects\\shape-classifier-interview\\shape-classifier-pytorch\\..\\shape-classifier-artifacts\\shape-classifier-models\\ShapeClassifier\\vit_baseline_20250811_180110\\epoch_009_valloss_0.2757.pth\n",
      "✗ Removed worst checkpoint: epoch_007_valloss_0.3951.pth\n",
      "Epoch finished in 2.75s. Early stopping counter: 0/7\n",
      "\n",
      "Epoch 10/1000\n",
      "---------------\n"
     ]
    },
    {
     "data": {
      "application/vnd.jupyter.widget-view+json": {
       "model_id": "40ecc3979ac943b8a835c62417be94dd",
       "version_major": 2,
       "version_minor": 0
      },
      "text/plain": [
       "Train Epoch 10:   0%|          | 0/132 [00:00<?, ?it/s]"
      ]
     },
     "metadata": {},
     "output_type": "display_data"
    },
    {
     "name": "stdout",
     "output_type": "stream",
     "text": [
      "Train        -> Loss: 0.2749 | Acc: 0.8940\n"
     ]
    },
    {
     "data": {
      "application/vnd.jupyter.widget-view+json": {
       "model_id": "0507d7d9ecc44046bb2ebba23449d867",
       "version_major": 2,
       "version_minor": 0
      },
      "text/plain": [
       "Validation Epoch 10:   0%|          | 0/29 [00:00<?, ?it/s]"
      ]
     },
     "metadata": {},
     "output_type": "display_data"
    },
    {
     "name": "stdout",
     "output_type": "stream",
     "text": [
      "Validation   -> Loss: 0.2977 | Acc: 0.8700\n",
      "✓ Top-K Checkpoint saved: c:\\Users\\gilda\\OneDrive\\Documents\\My_Projects\\AI_Based_Projects\\shape-classifier-interview\\shape-classifier-pytorch\\..\\shape-classifier-artifacts\\shape-classifier-models\\ShapeClassifier\\vit_baseline_20250811_180110\\epoch_010_valloss_0.2977.pth\n",
      "✗ Removed worst checkpoint: epoch_006_valloss_0.3510.pth\n",
      "Epoch finished in 2.75s. Early stopping counter: 1/7\n",
      "\n",
      "Epoch 11/1000\n",
      "---------------\n"
     ]
    },
    {
     "data": {
      "application/vnd.jupyter.widget-view+json": {
       "model_id": "5923d6db1f4e4b7cba1f036b88ef9db8",
       "version_major": 2,
       "version_minor": 0
      },
      "text/plain": [
       "Train Epoch 11:   0%|          | 0/132 [00:00<?, ?it/s]"
      ]
     },
     "metadata": {},
     "output_type": "display_data"
    },
    {
     "name": "stdout",
     "output_type": "stream",
     "text": [
      "Train        -> Loss: 0.2391 | Acc: 0.9107\n"
     ]
    },
    {
     "data": {
      "application/vnd.jupyter.widget-view+json": {
       "model_id": "3d7b37a27cab4ce78557a01458ae47e8",
       "version_major": 2,
       "version_minor": 0
      },
      "text/plain": [
       "Validation Epoch 11:   0%|          | 0/29 [00:00<?, ?it/s]"
      ]
     },
     "metadata": {},
     "output_type": "display_data"
    },
    {
     "name": "stdout",
     "output_type": "stream",
     "text": [
      "Validation   -> Loss: 0.2451 | Acc: 0.8989\n",
      "✓ Top-K Checkpoint saved: c:\\Users\\gilda\\OneDrive\\Documents\\My_Projects\\AI_Based_Projects\\shape-classifier-interview\\shape-classifier-pytorch\\..\\shape-classifier-artifacts\\shape-classifier-models\\ShapeClassifier\\vit_baseline_20250811_180110\\epoch_011_valloss_0.2451.pth\n",
      "✗ Removed worst checkpoint: epoch_008_valloss_0.2982.pth\n",
      "Epoch finished in 2.46s. Early stopping counter: 0/7\n",
      "\n",
      "Epoch 12/1000\n",
      "---------------\n"
     ]
    },
    {
     "data": {
      "application/vnd.jupyter.widget-view+json": {
       "model_id": "e83ed2533e11482583077b2d3dcd35ae",
       "version_major": 2,
       "version_minor": 0
      },
      "text/plain": [
       "Train Epoch 12:   0%|          | 0/132 [00:00<?, ?it/s]"
      ]
     },
     "metadata": {},
     "output_type": "display_data"
    },
    {
     "name": "stdout",
     "output_type": "stream",
     "text": [
      "Train        -> Loss: 0.2174 | Acc: 0.9164\n"
     ]
    },
    {
     "data": {
      "application/vnd.jupyter.widget-view+json": {
       "model_id": "dbb0cad75ab3425687b1b2649e8dc01a",
       "version_major": 2,
       "version_minor": 0
      },
      "text/plain": [
       "Validation Epoch 12:   0%|          | 0/29 [00:00<?, ?it/s]"
      ]
     },
     "metadata": {},
     "output_type": "display_data"
    },
    {
     "name": "stdout",
     "output_type": "stream",
     "text": [
      "Validation   -> Loss: 0.2085 | Acc: 0.9222\n",
      "✓ Top-K Checkpoint saved: c:\\Users\\gilda\\OneDrive\\Documents\\My_Projects\\AI_Based_Projects\\shape-classifier-interview\\shape-classifier-pytorch\\..\\shape-classifier-artifacts\\shape-classifier-models\\ShapeClassifier\\vit_baseline_20250811_180110\\epoch_012_valloss_0.2085.pth\n",
      "✗ Removed worst checkpoint: epoch_010_valloss_0.2977.pth\n",
      "Epoch finished in 2.56s. Early stopping counter: 0/7\n",
      "\n",
      "Epoch 13/1000\n",
      "---------------\n"
     ]
    },
    {
     "data": {
      "application/vnd.jupyter.widget-view+json": {
       "model_id": "9fb0addaa1804ac2baadc2e03de0cc08",
       "version_major": 2,
       "version_minor": 0
      },
      "text/plain": [
       "Train Epoch 13:   0%|          | 0/132 [00:00<?, ?it/s]"
      ]
     },
     "metadata": {},
     "output_type": "display_data"
    }
   ],
   "source": [
    "# ===================================================================\n",
    "# 4.3.3.1. Run 1: Baseline Training for SimpleViT\n",
    "# ===================================================================\n",
    "\n",
    "# --- 1. Define Hyperparameters ---\n",
    "hyperparams_vit_run_01 = {\n",
    "    'model_name': 'vit_baseline',\n",
    "    'learning_rate': 0.001,\n",
    "    'batch_size': BATCH_SIZE,\n",
    "    'num_epochs': 1000,\n",
    "    'patience': 7,\n",
    "    'optimizer': 'Adam',\n",
    "    'scheduler': 'ReduceLROnPlateau',\n",
    "    'model_architecture': 'SimpleViT',\n",
    "    'model_config': {\n",
    "        \"image_size\": 64, \"patch_size\": 16, \"num_classes\": NUM_CLASSES,\n",
    "        \"dim\": 64, \"depth\": 2, \"heads\": 4, \"mlp_dim\": 128\n",
    "    },\n",
    "    'notes': 'Baseline training for Vision Transformer architecture.'\n",
    "}\n",
    "\n",
    "# --- 2. Instantiate a fresh model ---\n",
    "vit_model_run_01 = SimpleViT(**hyperparams_vit_run_01['model_config']).to(DEVICE)\n",
    "\n",
    "# --- 3. Create the unique experiment directory ---\n",
    "timestamp = datetime.now().strftime(\"%Y%m%d_%H%M%S\")\n",
    "experiment_dir_vit_run_01 = os.path.join(\n",
    "    MODEL_CHECKPOINT_DIR,\n",
    "    f\"{hyperparams_vit_run_01['model_name']}_{timestamp}\"\n",
    ")\n",
    "\n",
    "# --- 4. Execute the training run ---\n",
    "print(\"\\n\" + \"=\"*80)\n",
    "print(f\"STARTING EXPERIMENT: {hyperparams_vit_run_01['model_name']}\")\n",
    "print(f\"Artifacts will be saved in: {experiment_dir_vit_run_01}\")\n",
    "print(\"=\"*80)\n",
    "\n",
    "# We do not need to keep the returned values as they are saved to disk.\n",
    "best_vit_model, vit_history = train_model(\n",
    "    model=vit_model_run_01,\n",
    "    model_name=hyperparams_vit_run_01['model_name'],\n",
    "    hyperparams=hyperparams_vit_run_01,\n",
    "    dataloaders=dataloaders,\n",
    "    criterion=criterion,\n",
    "    learning_rate=hyperparams_vit_run_01['learning_rate'],\n",
    "    num_epochs=hyperparams_vit_run_01['num_epochs'],\n",
    "    checkpoint_dir=experiment_dir_vit_run_01,\n",
    "    patience=hyperparams_vit_run_01['patience']\n",
    ")\n",
    "\n",
    "# --- 5. Do NOT store results in memory ---\n",
    "# The train_model function has saved all necessary artifacts (best model, history, config)\n",
    "# to the unique experiment directory on disk. We will load them from there for evaluation.\n",
    "print(\"\\nResults for this run have been saved to disk.\")\n",
    "print(\"Not retaining model or history in notebook memory.\")\n",
    "\n",
    "# --- 6. Final cleanup ---\n",
    "# Explicitly delete all large objects from this run to free memory.\n",
    "del hyperparams_vit_run_01\n",
    "del best_vit_model\n",
    "del vit_history\n",
    "del vit_model_run_01\n",
    "clear_gpu_cache()\n",
    "gc.collect()"
   ]
  },
  {
   "cell_type": "markdown",
   "id": "df2d5bcd",
   "metadata": {},
   "source": [
    "## 5. Evaluation\n",
    "\n",
    "After training, we evaluate the model's performance on the unseen test set. This includes:\n",
    "*   Loading the best model checkpoint.\n",
    "*   Calculating final test accuracy.\n",
    "*   Visualizing a confusion matrix and sample predictions."
   ]
  },
  {
   "cell_type": "markdown",
   "id": "12cfd960",
   "metadata": {},
   "source": [
    "## 6. Analysis & Conclusion\n",
    "\n",
    "A final summary of the results, including:\n",
    "*   Plotting the training/validation curves.\n",
    "*   Answering the project questions on learnings and potential improvements."
   ]
  }
 ],
 "metadata": {
  "kernelspec": {
   "display_name": "shape-classifier-pytorch-cUSr_hTk",
   "language": "python",
   "name": "python3"
  },
  "language_info": {
   "codemirror_mode": {
    "name": "ipython",
    "version": 3
   },
   "file_extension": ".py",
   "mimetype": "text/x-python",
   "name": "python",
   "nbconvert_exporter": "python",
   "pygments_lexer": "ipython3",
   "version": "3.12.10"
  }
 },
 "nbformat": 4,
 "nbformat_minor": 5
}
